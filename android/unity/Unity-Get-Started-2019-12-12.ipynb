{
 "cells": [
  {
   "cell_type": "markdown",
   "metadata": {},
   "source": [
    "Virtual Reality \n",
    "===\n",
    "Unity (2019-2.5f1, <strike>2019.1.4f1</strike> ) with GVR Unity SDK v1.200.1\n",
    "---\n",
    "(2019/12/12)\n",
    "- <a href=\"https://unity3d.com\">Welcome Unity 2019.2.5f1</a>\n",
    "- <a href=\"https://github.com/googlevr/gvr-unity-sdk/releases\">GVR Unity SDK, 1.200.1</a>\n",
    "\n",
    "No Problem, **Virtual Reality (VR)** is the hottest spot this year, 2016. Before we continue, there are some necessary requirement for implementing the work:\n",
    "\n",
    "- <a href=\"https://www.google.com/get/cardboard/developers/\">BluePrint of Cardboard</a><br>\n",
    "  <img src=\"imgs/Cardboard_M.png\" width=80% />\n",
    "- <a href=\"http://unity3d.com\"> Unity </a>, Get the last release, 2019-2-5f1 (2019/11/xx);\n",
    "- <a href=\"https://github.com/googlesamples/cardboard-unity\"> Cardboard SDK for Unity </a>, 1.200.1 (till 2019/11/xx).\n",
    "- a little idea, :-)\n",
    "\n",
    "News about Google VR SDK (re-named GVR-unity-sdk since <font color=\"red\">2016</font>)\n",
    "---\n",
    "2016, Google announced  [Google VR SDK in Google IO](GoogleVRSDK.ipynb)"
   ]
  },
  {
   "cell_type": "markdown",
   "metadata": {},
   "source": [
    "Assemble Cardboard v2 in Two minutes\n",
    "---"
   ]
  },
  {
   "cell_type": "code",
   "execution_count": 1,
   "metadata": {},
   "outputs": [],
   "source": [
    "from IPython.display import YouTubeVideo"
   ]
  },
  {
   "cell_type": "code",
   "execution_count": 2,
   "metadata": {},
   "outputs": [
    {
     "data": {
      "image/jpeg": "[encoded data removed]",
      "text/html": [
       "\n",
       "        <iframe\n",
       "            width=\"80%\"\n",
       "            height=\"300\"\n",
       "            src=\"https://www.youtube.com/embed/6He2Ff2s3A4\"\n",
       "            frameborder=\"0\"\n",
       "            allowfullscreen\n",
       "        ></iframe>\n",
       "        "
      ],
      "text/plain": [
       "<IPython.lib.display.YouTubeVideo at 0x10f985e80>"
      ]
     },
     "execution_count": 2,
     "metadata": {},
     "output_type": "execute_result"
    }
   ],
   "source": [
    "YouTubeVideo('6He2Ff2s3A4' ,width=\"80%\")"
   ]
  },
  {
   "cell_type": "markdown",
   "metadata": {
    "collapsed": true
   },
   "source": [
    "Unity\n",
    "===\n",
    "Unity is a game development platform that can create both 2D and 3D games. It’s cross platform, so it can be used to develop apps for PC, Mac OS X, consoles, iOS, Android, Windows Phone 8, the web, and more.\n",
    "\n",
    "Unity installation Step by Step\n",
    "---\n",
    "1. Download <a href=\"unity.org\">UnityHubSetup</a> from official site, for instance 2019-1f3 (2019/05/25);\n",
    "- As the assistant's default setting,  install unity:\n",
    "<img src=\"imgs/unity-2017-04-24-1.png\" width=50% />\n",
    "<img src=\"imgs/unity-2017-04-24-2.png\" width=50% />\n",
    "<img src=\"imgs/unity-2017-04-24-3.png\" width=50% />\n",
    "<img src=\"imgs/unity-2016-11-5.png\" width=50% />\n",
    "While installing Unity via its ```Unity Download Assistant```, also install the platform supports you want to make, for instance ios for Apple mobile devices: \n",
    "<img src=\"imgs/unity_download.png\" width=50% />"
   ]
  },
  {
   "cell_type": "markdown",
   "metadata": {},
   "source": [
    "<strike>Make a Virtual Reality Game with Unity For Google Cardboard</strike>\n",
    "---\n",
    "\n",
    "<strike>\n",
    "\n",
    "**Prerequisites**\n",
    "\n",
    "- [Cardboard Unity Plugin](https://github.com/googlesamples/cardboard-unity) v.0.6 (01/01/2016)\n",
    "  - Modify the file, <font color=\"blue\">[cardboard-unity/Cardboard/Scripts/]</font>*Cardboard.cs* as follows:\n",
    "    \n",
    "    \n",
    "    ```C#\n",
    "    public RenderTexture StereoScreen {\n",
    "    get {\n",
    "      ...\n",
    "      }\n",
    "      return stereoScreen;\n",
    "    }\n",
    "    set {\n",
    "      /// For 5.3.x\n",
    "      if (stereoScreen != null && !stereoScreen.IsCreated()) {\n",
    "          stereoScreen.Create();\n",
    "      }\n",
    "      ///\n",
    "      if (value == stereoScreen) {\n",
    "        return;\n",
    "      }\n",
    "      ...\n",
    "    }\n",
    " \n",
    "    ```\n",
    "    \n",
    "- [Cardboard Unity Plugin] v.0.7 (04/15/2016)\n",
    "- [Cardboard Unity Plugin] v.0.8 (05/20/2016)\n",
    "</strike>"
   ]
  },
  {
   "cell_type": "markdown",
   "metadata": {},
   "source": [
    "GVR Unity SDK\n",
    "---\n",
    "The new name for Google VR SDK for plugin,\n",
    "- <strike>[Version 1.0.3 / 2016/11/21](https://github.com/googlevr/gvr-unity-sdk)</strike>\n",
    "- <strike>[Version 1.4.0 / 2017/4/20](https://github.com/googlevr/gvr-unity-sdk)</strike>\n",
    "- [Version v1.110.0 2017/11/20](https://github.com/googlevr/gvr-unity-sdk/releases/download/v1.110.0/GoogleVRForUnity_1.110.0.unitypackage) for Unity-6 or newer, size about 34 mega bytes\n",
    "- [GVR SDK for Unity, 1.200.1](https://github.com/googlevr/gvr-unity-sdk/releases), 2019-11-xx"
   ]
  },
  {
   "cell_type": "code",
   "execution_count": null,
   "metadata": {},
   "outputs": [],
   "source": []
  },
  {
   "cell_type": "markdown",
   "metadata": {},
   "source": [
    "Brief of Steps of Using Unity with Sample Project \n",
    "---\n",
    "Reference the <a href=\"https://developers.google.com/vr/unity/get-started-android\">official documentation</a>,\n",
    "let us to explore the first <strike>Cardboad</strike> <font color=\"brown\">GVR app</font> by unity:\n",
    "\n",
    "1. Open Unity, install last unity and create a new project.\n",
    "    <img src=\"imgs/demo-2019-05-25/install-1.png\" width=90% /> \n",
    "    <img src=\"imgs/demo-2019-05-25/install-2.png\" width=90% /> \n",
    "    <img src=\"imgs/demo-2019-05-25/install-3.png\" width=90% />\n",
    "\n",
    "2. Import the SDK package: **Assets > Import Package > Custom Package**. Select the *GoogleVRSDKForUnity* (<strike>CardboardSDKForUnity</strike>, pre 0,8) unitypackage where you downloaded it and click **Ope**n. Make sure all the boxes are checked in the Importing Package dialog and click **Import**. <u>Note</u>: If you are using Unity 5, you may be warned that the APIs will be automatically upgraded. Accept it and continue if it happens.\n",
    "\n",
    "   - delete any object in Hierarchy Windows, `Main Camera` and `Directional Light`;\n",
    "   - Import the last GVR SDK for Unity, 1.30.1 (2018/05/08):\n",
    "<img src=\"imgs/demo-2018-05/demo-2018-05-02.png\" width=80% />  \n",
    "<img src=\"imgs/demo-2018-05/demo-2018-05-03.png\" width=80% /> \n",
    "<img src=\"imgs/demo-2018-05/demo-2018-05-04.png\" width=80% /> \n",
    "   - create new GameObject, renamed as `Player`, add `Camera`, by `[GameObject]➡︎ [Camera], double click`, and `GVR SDK → Prefabs → GvrEditorEmulator` under Player object.\n",
    "<img src=\"imgs/demo-2018-05/demo-2018-05-05.png\" width=80% />\n",
    "<img src=\"imgs/demo-2018-05/demo-2018-05-06.png\" width=80% />\n",
    "\n"
   ]
  },
  {
   "cell_type": "markdown",
   "metadata": {},
   "source": [
    "3. In the editor's project panel, navigate to **Assets > GoogleVR > Demos > Scenes** folder and open **GvrDemo**. You should see a scene in which a floating cube is above a plane. Also an new option, GoogleVR, appears at the top menu bar.\n",
    "<img src=\"imgs/demo-2016-11/demo-2017-4-7.png\" width=80% />\n",
    "4. Press **Play**, and you should see the game view showing a stereo rendering of a red cube. Press the **Control** key on your keyboard and move your mouse back and forth to tilt your view. You can also press the **option** button (**Alt** button for Windows) on your keyboard and move your mouse to pan around your view of the VR environment.\n"
   ]
  },
  {
   "cell_type": "markdown",
   "metadata": {},
   "source": [
    "Build and Run APP\n",
    "---\n",
    "Building and deploying above demo to mobile app, for instance Andoid:\n",
    "\n",
    "<pre style=\"color:red;\">\n",
    "   For Windows Users:\n",
    "       Before setup the \"build setting\", have to complete the settings (follows [Preferences/External Tools])\n",
    "          1. install \"WinMerge\" \n",
    "          2. set the path variables where Android SDK and JDK located;\n",
    "          3. ...                     \n",
    "</pre>                        \n",
    "1. From **File > Build Settings**, select **Android** as follows:\n",
    "<img src=\"imgs/demo-2019-05-25/demo-2019-05-25-1.png\" width=80% />\n",
    "2. Click **Player Settings**, in **XR Settings**,  enable ```Virtual Reality Supported```, choose <font color=\"brown\">Cardboard</font> or Daydream, for instance, in **Virtual Reality SDKs**.\n",
    "<img src=\"imgs/demo-2019-05-25/demo-2019-05-25-2.png\" width=80% />\n",
    "3. Change the [Package Name], `com.vr.unitydemo` for instance, in [Player Settings], [Player], [Other Settings]:\n",
    "<img src=\"imgs/demo-2019-05-25/demo-2019-05-25-3.png\" width=80% />\n",
    "4. Click **Build and Run**. If prompted for location of the Android SDK, select unzipped SDK at which it had been installed. If not worked for JDK not found, check Unity preference. If more higher version of SDK is not found, update should be automatically promped to progress from [from higher version] enabled.\n"
   ]
  },
  {
   "cell_type": "code",
   "execution_count": null,
   "metadata": {},
   "outputs": [],
   "source": []
  },
  {
   "cell_type": "markdown",
   "metadata": {
    "collapsed": true
   },
   "source": [
    "Demo for GvrSDK(1.200.1)\n",
    "---\n",
    "GvrSDK provides plenty of interactive functions; here, we introdue how to its `Event` functions.\n",
    "\n",
    "1. create new project, <font color=\"blue\">GVR2001App</font>,\n",
    "- import gvr SDK-1.200.1, by [`Assets`] ➨ [`Import Package`] ➨ [`Custom Package`]\n",
    "- switch platform to android, [`build setting`] ➨ [`Android`], change app's name, build platform, enable carboard support etc as above;\n",
    "- Create an empty GameObject, name it as **<font color=\"blue\">Player</font>**, [`GameObject`] ➨ [`Create Empty`],\n",
    "- drag [`Main Camera`] into {Player],\n",
    "- GVR part: from left buttom [Assets] widows, add some stuffs of GVR\n",
    "    - drag [`GoogleVR➨Prefabs➨GvrRectilePointer`] to [`Main Camera`],\n",
    "    - [`Main Camera`] add `Composent`: `Gvr pointer Physics Raycaster`\n",
    "- Create new GameObj, named `GvrStuff`,   \n",
    "    - add [`GoogleVR➨Prefabs➨GvrEditorEmulator`] which allow for the emulation of the Cardboard in the Editor.\n",
    "    - add [`GoogleVR➨Prefabs➨Controllers➨GvrControllerMain`] which allows for the cardboard to actually work.\n",
    "    - add [`GoogleVR➨Prefabs➨EventSystem➨GvrEventSystem`]\n",
    "- Interacting with User Interface [UI],\n",
    "  - Create [`GameObject➨UI➨Button`]\n",
    "    - Go to the canvas and remove the [`Graphics Raycaster`] component and add the Gvr Pointer Graphics Raycaster, from right button [`add Composent`];\n",
    "    - Set the Canvas's Render Mode to World Space\n",
    "    - Set the Canvas: \n",
    "          Pos (x,y,z): 2,0,2\n",
    "          Width,Height: 100,100\n",
    "          rotation: (0, 30, 0)\n",
    "          Scale: (0.01, 0.01, 0.01)           \n",
    "    - Set the button:\n",
    "           Pos (x,y,z): 0,0,0\n",
    "           Width,Height: 160,30\n",
    "           rotation: (0, 0, 0)\n",
    "           Scale: (1, 1, 1)  \n",
    "- Create a cube for test, by  ['GameObject➨3D Object➨Cube`],\n",
    "    - set position `(-1, 0, 3)` with no rotation and scale,\n",
    "    - Create a material  in [`Assets`] and name it as `Red`, by [`create>material], \n",
    "    - drag [`Red`] to [`Materials`] [`Element 0`],\n",
    "    - In the [`OnClick()➨+`] of the [`button`], drag the [`Cube`] into [`None Object`], and choose function, \n",
    "      [`MeshRenderer➨Material material`]\n",
    "    - Now test the game.  \n",
    "            \n",
    "- Interacting with 3D Objects: we can also interactive with object without button by changing its material using EventTriggers:\n",
    "  - Go to the [`Main Camera`] and add a component called `GvrPointerPhysicsRaycaster`, searched by `phys`; To interact with object, we needs to have a [`Collider`] and an [`EventTrigger`] components.\n",
    "  - [`Cube`]: add composent, [`Evenet Trigger`], Press Add New Event and select PointerEnter. PointerExit, PointClick.\n",
    "  - Just like we did with the button On Click, we will duplicate the material 3 times and add 3 different materials to test it. \n",
    "  \n",
    "  Test it all now.\n",
    "<img src=\"imgs/demo-2019-05-25/unity-event.png\" width=80%>\n",
    "\n",
    "**Note**\n",
    "To make game more interesting, we can add some effect, audio for instance:\n",
    "- Sound Effect: \n",
    "   - Create new folder within  [Assets], name `Audio`, and drag the sound file in it:\n",
    "\n",
    "   - Add Sound for **GvrEditorEmulator**, [Add Component] -> [Audio] -> [Audio Source]:\n",
    "\n",
    "   - Drag the sound asset into [Audio Source] -> [AudioClip]:\n",
    "\n",
    "Et Voila, enjoy!"
   ]
  },
  {
   "cell_type": "markdown",
   "metadata": {},
   "source": [
    "Second Demo\n",
    "---\n",
    "Implement yacht navigating on the water.\n",
    "\n",
    "1. delete [Main Camera]; later, we add the stero Camera, come from Gvr SDK. [Edit, delete]\n",
    "- select [`Directional Light`], and change the setting:\n",
    "  ```\n",
    "  Transform\n",
    "    Position: X=0, Y=20, Z=0\n",
    "    Rotation: X=80, Y=18, Z=18\n",
    "    \n",
    "  Light\n",
    "    Mode: Mixed\n",
    "    Intensity: 3.5\n",
    "    Indirect Multiplier: 0 \n",
    "  ```  \n",
    "- import Gvr SDK, \n",
    "  - drag [`GVR SDK → Prefabs → GvrEditorEmulator`] to **Hierarchy Windows**, change `Position: X=0, Y=2, Z=-20`, Add Component. Select [`Nav Mesh Agent`]\n",
    "  ```\n",
    "  Agent Size\n",
    "    Base offset: 1\n",
    "  Steering\n",
    "    Speed: 1\n",
    "    Angular speed: 0\n",
    "    Acceleration: 1\n",
    "  ```\n",
    "  - Add Component, select [`New Script`]. Leave the name as `NewBehaviourScript` and language `C#`. Press [`Create and Add`]"
   ]
  },
  {
   "cell_type": "code",
   "execution_count": 5,
   "metadata": {},
   "outputs": [
    {
     "name": "stdout",
     "output_type": "stream",
     "text": [
      "[NbConvertApp] Converting notebook Unity-Get-Started-2016-11.ipynb to html\n",
      "[NbConvertApp] Writing 258442 bytes to Unity-Get-Started-2016-11.html\n"
     ]
    }
   ],
   "source": [
    "!jupyter nbconvert Unity-Get-Started-2016-11.ipynb"
   ]
  },
  {
   "cell_type": "markdown",
   "metadata": {
    "collapsed": true
   },
   "source": [
    "Google Street View App\n",
    "---\n",
    "1. Add Street View to Skybox,  \n",
    "2. input Latitude/longitude\n",
    "3. get the skybox pictures\n",
    "4. Import FPsControl, Assets -> import package -> Characters\n",
    "5. drag the pictures into Scence"
   ]
  }
 ],
 "metadata": {
  "kernelspec": {
   "display_name": "Python 3",
   "language": "python",
   "name": "python3"
  },
  "language_info": {
   "codemirror_mode": {
    "name": "ipython",
    "version": 3
   },
   "file_extension": ".py",
   "mimetype": "text/x-python",
   "name": "python",
   "nbconvert_exporter": "python",
   "pygments_lexer": "ipython3",
   "version": "3.6.5"
  },
  "toc": {
   "colors": {
    "hover_highlight": "#DAA520",
    "navigate_num": "#000000",
    "navigate_text": "#333333",
    "running_highlight": "#FF0000",
    "selected_highlight": "#FFD700",
    "sidebar_border": "#EEEEEE",
    "wrapper_background": "#FFFFFF"
   },
   "moveMenuLeft": true,
   "nav_menu": {
    "height": "210px",
    "width": "252px"
   },
   "navigate_menu": true,
   "number_sections": true,
   "sideBar": true,
   "threshold": 4,
   "toc_cell": false,
   "toc_section_display": "block",
   "toc_window_display": false,
   "widenNotebook": false
  }
 },
 "nbformat": 4,
 "nbformat_minor": 1
}
