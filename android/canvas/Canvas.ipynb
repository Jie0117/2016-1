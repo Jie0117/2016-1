{
 "cells": [
  {
   "cell_type": "markdown",
   "metadata": {
    "slideshow": {
     "slide_type": "slide"
    }
   },
   "source": [
    "# Canvas in HTML5 \n",
    "\n",
    "1. [Android App with HTML5](#Android-App-with-HTML)\n",
    "- [Canvas](#Canvas)\n",
    "  - [Template](#Template)\n",
    "  - [Poly-line](#Poly-line)\n",
    "    - [triangle](#Triangle)\n",
    "    - [Circle](#Circle)\n",
    "    - [Cardiac](#Cardiac)\n",
    "  - [Arc](#Arc-For-Curves)\n",
    "  - [Canvas Animation](#Canvas-Animation)\n",
    "    - [Animation Structure](#Animation-Structure)\n",
    "    - [simple example](#Moving-within-Interval)\n",
    "    - [clock](#clock)\n",
    "- [Sprite animation](#SpriteAnimation)      "
   ]
  },
  {
   "cell_type": "markdown",
   "metadata": {
    "slideshow": {
     "slide_type": "subslide"
    }
   },
   "source": [
    "## HTML5 gym\n",
    "\n",
    "Default browser in Android (less than 4.4) uses \"webkit\" engine which is as same as the one in google chrome. In other words, Google chrome is the best choice to use to test HTML5 codes we had written.\n",
    "\n",
    "However, the Android browser does not support all the new HTML5 functions; something would be wrong while testing HTML5 codes. Use \n",
    "\n",
    "<font color=\"#993300\">tools</font> <font\n",
    "color=\"#cc9933\">-&gt;</font> <font color=\"#993300\">JavaScript\n",
    "Console</font> or \"<font color=\"#ff0000\">Shift + Control + j</font>\"\n",
    "to activate the debug function."
   ]
  },
  {
   "cell_type": "markdown",
   "metadata": {
    "slideshow": {
     "slide_type": "subslide"
    }
   },
   "source": [
    "## Android (>4.4 KitKat): Progress about Webview\n",
    "From this release, Chromium 30 is the web engine for the WebView native widget which, owns:\n",
    "\n",
    "* Support for remote debugging;\n",
    "* Support for new HTML5 features: Web Sockets, Web worker, IndexedDB, Animation Timing API, CSS3 Flexbox etc;\n",
    "* Better performance. \n",
    "\n",
    "But still not support: **WebGL, WebRTC, WebAudio, FullScreen and Form validation**."
   ]
  },
  {
   "cell_type": "markdown",
   "metadata": {},
   "source": [
    "Android App with HTML\n",
    "===\n",
    "\n",
    "Steps\n",
    "---\n",
    "- enable internet permission;\n",
    "- create a webView;\n",
    "- copy HTML with library into projects\n",
    "- Java staff for HTML working within webView"
   ]
  },
  {
   "cell_type": "markdown",
   "metadata": {},
   "source": [
    "**1.** internet permission\n",
    "\n",
    "Create project, BMIapp for instance. Add \"permission\" in AndroidManifest.xml in the top directory:\n",
    "```xml\n",
    "... \n",
    "<uses-permission android:name=\"android.permission.INTERNET\"/> \n",
    "...\n",
    "       <activity\n",
    "            android:name=\"com.life.bmiapp.MainActivity\"\n",
    "            android:label=\"@string/app_name\" >\n",
    "            ...\n",
    "        </activity>\n",
    "```        "
   ]
  },
  {
   "cell_type": "markdown",
   "metadata": {},
   "source": [
    "**2.** WebView Creation Add a view (display), called webview01, in \"main.xml\" in \"res/layout\" directory:\n",
    "```xml\n",
    "...\n",
    "<webview android:id=\"@+id/webview1\"\n",
    "  android:layout_width=\"fill_parent\"\n",
    "  android:layout_height=\"fill_parent\">\n",
    "</webview>\n",
    "```"
   ]
  },
  {
   "cell_type": "markdown",
   "metadata": {},
   "source": [
    "**3. Add HTML codes**\n",
    "\n",
    "copy all the files into the directory **<font color=\"blue\">`$Project/src/main/assets`</font>**"
   ]
  },
  {
   "cell_type": "markdown",
   "metadata": {},
   "source": [
    "**4.** Java Codes\n",
    "```java\n",
    "...\n",
    "    ...\n",
    "import android.webkit.WebView;\n",
    "    ...\n",
    "public class WebviewActivity extends Activity {\n",
    "       private WebView webview;\n",
    "       @Override \n",
    "       public void onCreate(Bundle savedInstanceState) {\n",
    "              ...\n",
    "           webview = (WebView)this.findViewById(R.id.webview1);  \n",
    "           webview.getSettings().setJavaScriptEnabled(true);\n",
    "           webview.loadUrl(\"file:///android_asset/index.html\");\n",
    "       }\n",
    "       ...\n",
    "}\n",
    "```"
   ]
  },
  {
   "cell_type": "markdown",
   "metadata": {},
   "source": [
    "**4.** Kotlin Codes\n",
    "\n",
    "Mostly as above, a little changes is that private object acclaim was replaced by \"var\" acclaim:\n",
    "```kotlin\n",
    "    ...\n",
    "import android.webkit.WebView;\n",
    "    ...\n",
    "class WebViewActivity: AppCompatActivity() {\n",
    "       var webview: WebView? = null\n",
    "       @Override \n",
    "       public void onCreate(Bundle savedInstanceState) {\n",
    "              ...\n",
    "           webview = findViewById<WebView>(R.id.webview01) \n",
    "           webview.getSettings().setJavaScriptEnabled(true);\n",
    "           webview.loadUrl(\"file:///android_asset/index.html\");\n",
    "       }\n",
    "       ...\n",
    "}\n",
    "```"
   ]
  },
  {
   "cell_type": "markdown",
   "metadata": {},
   "source": [
    "**5. Run App**\n",
    "\n",
    "Done."
   ]
  },
  {
   "cell_type": "markdown",
   "metadata": {},
   "source": [
    "Self Practice\n",
    "---\n",
    "Try to make a html-based app."
   ]
  },
  {
   "cell_type": "code",
   "execution_count": null,
   "metadata": {
    "collapsed": true
   },
   "outputs": [],
   "source": []
  },
  {
   "cell_type": "markdown",
   "metadata": {},
   "source": [
    "Canvas\n",
    "===\n",
    "Canvas is one of new supported feature of HTML5 for creating picture online and is the best choice to develop app with mobile webview.<p>\n",
    "\n",
    "Whatever an image or an animation we want to create and display requires a space to put it on; canvas, considered as a paper, is the platform for it to display on the browser.\n",
    "\n",
    "Usage\n",
    "---\n",
    "1. First, acclaim a *canvas* tag with size, width and height;\n",
    "- create some objects, line, circle, for instance;\n",
    "- make [animation](#Canvas-Animation) etc.\n"
   ]
  },
  {
   "cell_type": "markdown",
   "metadata": {
    "slideshow": {
     "slide_type": "subslide"
    }
   },
   "source": [
    "Template\n",
    "---\n",
    "```html\n",
    "<html>\n",
    "<head>    \n",
    "<meta name=\"viewport\" content=\"user-scalable=no, initial-scale=1, maximum-scale=1, \n",
    "                               minimum-scale=1, width=device-width, height=device-height\" />\n",
    "</head>    \n",
    "<script type=\"text/javascript\">\n",
    "// acclaim a canvas in javascript and play on HTML camvas space   \n",
    "window.onload = function {\n",
    "   var a_canvas = document.getElementById(\"a_canvas\");>\n",
    "   var context = a_canvas.getContext(\"2d\");\n",
    "   ...\n",
    "}\n",
    "</script>\n",
    "<body>\n",
    "<!-- acclaim a canvas space in HTML body -->    \n",
    "<canvas id=\"a_canvas\" style=\"width:100%; height:100%\"></canvas>\n",
    "</body>\n",
    "</html>    \n",
    "```\n",
    "\n",
    "\n",
    "**This should add a new canvas as follows:**\n",
    "\n",
    "\n",
    "```\n",
    "  \n",
    "   (0,0) ------------------------> (0,x)\n",
    "      |                              |\n",
    "      |                              |\n",
    "      |                              |\n",
    "      |                              |\n",
    "      v                              v\n",
    "    (0,y) -----------------------> (x,y)\n",
    "   \n",
    "\n",
    "\n",
    "```\n"
   ]
  },
  {
   "cell_type": "markdown",
   "metadata": {
    "slideshow": {
     "slide_type": "subslide"
    }
   },
   "source": [
    "## Poly-line\n",
    "<b> make a poly-line, (x0,y0) to (x1,y1), and so on:</b><br>\n",
    "\n",
    "```javascript\n",
    "  // start sketech\n",
    "  context.beginPath();\n",
    "  // move to the initial position\n",
    "  context.moveTo(x0,y0)\n",
    "  // add a line from (x0,y0) to (x1,y1)\n",
    "  context.lineTo(x1,y1); \n",
    "  ...\n",
    "  // clomplet the sketch\n",
    "  context.closePath();\n",
    "  // use the red pencil\n",
    "  context.strokeStyle=\"red\";\n",
    "  // visualize the result\n",
    "  context.stroke();\n",
    "```\n"
   ]
  },
  {
   "cell_type": "markdown",
   "metadata": {},
   "source": [
    "## Simple Pictures"
   ]
  },
  {
   "cell_type": "markdown",
   "metadata": {},
   "source": [
    "### Triangle\n",
    "\n",
    "```HTML\n",
    "<html>\n",
    "  <head>\n",
    "    <title>Rectangle</title>\n",
    "    <script type=\"text/javascript\">\n",
    "      window.onload = function() {\n",
    "         var c = document.getElementById(\"a_canvas\");\n",
    "         var context = c.getContext(\"2d\");\n",
    "         \n",
    "         context.beginPath();\n",
    "         context.moveTo(0,40)\n",
    "         context.lineTo(40,40);\n",
    "         context.lineTo(0,0);\n",
    "         context.closePath();\n",
    "         context.strokeStyle=\"red\";\n",
    "         context.stroke();\n",
    "      }\n",
    "  </script>\n",
    "  </head>\n",
    "  <body>\n",
    "  <div style=\"position: absolute; top: 50px; left:50px;\">\n",
    "  <canvas id=\"a_canvas\" width=\"100\" height=\"100\">\n",
    "    Your browser does not support HTML5 Canvas.\n",
    "  </canvas>\n",
    "  </div>\n",
    "  </body>\n",
    "</html>\n",
    "```\n",
    "Result picture\n",
    "---\n",
    "\n",
    "<img src=\"imgs/line.png\" />"
   ]
  },
  {
   "cell_type": "markdown",
   "metadata": {
    "slideshow": {
     "slide_type": "subslide"
    }
   },
   "source": [
    "### Circle\n",
    "\n",
    "circle centred at (200,200) with radius 30:\n",
    "$(x,y)=(r \\cos t,r \\sin t)$\n",
    "\n",
    "```javascript\n",
    "   var dt =1;\n",
    "   var pi = Math.PI;\n",
    "   context.moveTo(230,200) \n",
    "   for (var i=0; i<360+1; i++){         \n",
    "       var t = -i*dt*pi/180\n",
    "       var x= 200+30*(Math.cos(t));\n",
    "       var y= 200+30*(Math.sin(t));\n",
    "       context.lineTo(x,y);       \n",
    "   }\n",
    "```"
   ]
  },
  {
   "cell_type": "markdown",
   "metadata": {
    "slideshow": {
     "slide_type": "subslide"
    }
   },
   "source": [
    "### Cardiac\n",
    "---\n",
    "$r=30+45 \\cos \\theta$ and centred at $(x_0,y_0)=(100,100)$:\n",
    "$$ \\mathbf{\\color{red}{x=x_0+r\\cos\\theta, y=y_0+r\\sin\\theta}}$$\n",
    "\n",
    "```javascript\n",
    "   <script type=\"text/javascript\">\n",
    "      window.onload = function (){\n",
    "         var canvas=document.getElementById(\"a_canvas\");\n",
    "         context = a_canvas.getContext(\"2d\");\n",
    "         context.beginPath();\n",
    "         var dt =1;\n",
    "         var pi = Math.PI;\n",
    "         context.moveTo(175,100) \n",
    "         for (var i=0; i<=360; i++){         \n",
    "             var t = i*dt*pi/180\n",
    "             var x= 100+(30+45*Math.cos(t))*(Math.cos(t));\n",
    "             var y= 100+(30+45*Math.cos(t))*(Math.sin(t));\n",
    "             context.lineTo(x,y);       \n",
    "     }\n",
    "     context.closePath();\n",
    "         context.strokeStyle=\"red\"; \n",
    "         context.stroke();\n",
    "        }\n",
    "   </script>\n",
    "```\n",
    "```html\n",
    "   <body>\n",
    "    <canvas id=\"a_canvas\" width=\"200\" height=\"200\"></canvas>\n",
    "   </body> \n",
    "```\n",
    "Result Picture\n",
    "---\n",
    "<img src=\"imgs/cardiac.png\" width=25% />"
   ]
  },
  {
   "cell_type": "markdown",
   "metadata": {
    "slideshow": {
     "slide_type": "slide"
    }
   },
   "source": [
    "### Self-Practice\n",
    "Make a equilateral triangle by **canvas** tag."
   ]
  },
  {
   "cell_type": "markdown",
   "metadata": {},
   "source": [
    "## Arc For Curves\n",
    "\n",
    "$$(x-50)^2+(y-50)^2=20^2$$\n",
    "<b>context.arc(x, y, radius, startAngle, endAngle, anticlockwise)</b>\n",
    "- (x,y): center;\n",
    "- radius: radius of circle;\n",
    "- <font color=\"brown;\">startAngle, endAngle</font>: plot from <font color=\"brown;\">startAngle</font> to <font color=\"brown;\">endAngle</font>;\n",
    "- <font color=\"brown;\">anticlockwise (true or false)</font>: whether plaot in counterclock or not.       \n",
    "\n",
    "```javascript\n",
    "   context.beginPath();\n",
    "   context.strokeStyle = \"black\";\n",
    "   context.lineWidth = 5;\n",
    "   context.arc(50, 50, 20, (Math.PI/180)*0, (Math.PI/180)*360, false);\n",
    "   context.stroke();\n",
    "   context.closePath();    \n",
    "```\n",
    "\n",
    "Circle again\n",
    "---\n",
    "```javascript\n",
    "<script type=\"text/javascript\">\n",
    "      window.onload = function() {\n",
    "         var c = document.getElementById(\"a_canvas\");\n",
    "         var context = c.getContext(\"2d\");\n",
    "         \n",
    "         context.beginPath();\n",
    "         context.strokeStyle = \"black\";\n",
    "         context.lineWidth = 5;\n",
    "         context.arc(50, 50, 20, (Math.PI/180)*0, (Math.PI/180)*360, false);\n",
    "         context.stroke();\n",
    "         context.closePath();\n",
    "      }\n",
    "</script>\n",
    "```\n",
    "```html\n",
    "<body>\n",
    "  <div style=\"position: absolute; top: 50px; left:50px;\">\n",
    "  <canvas id=\"a_canvas\" width=\"100\" height=\"100\">\n",
    "    Your browser does not support HTML5 Canvas.\n",
    "  </canvas>\n",
    "  </div>\n",
    "</body>\n",
    "```\n",
    "Result Picture\n",
    "---\n",
    "<img src=\"imgs/circle.png\" width=30% />"
   ]
  },
  {
   "cell_type": "markdown",
   "metadata": {},
   "source": [
    "## Canvas Animation\n",
    "\n",
    "**What is Animation?** A picture flow plays or changes by millisseconds.\n",
    "\n",
    "### Animation\n",
    "\n",
    "**What is Animation?** Play A Sequence of pictures one by one and changes by millisseconds (about 16 frames per second  (*fps*) ~ 30 *fps* at better).\n",
    "\n",
    "**Howto:** Now most browsers provide efficient web technique, called *requireAnimationFrame*, for web developers to implemnet animation work on the fly.\n",
    "\n",
    "### Animation Structure\n",
    "Briefly,\n",
    "```\n",
    "   init() -> animate() -> draw()\n",
    "              set up\n",
    "            reqAnimFrame\n",
    "\n",
    "```         \n",
    "Complete Code\n",
    "\n",
    "```html\n",
    "    <body>\n",
    "       <canvas id=\"myCanvas\" width=\"578\" height=\"200\"></canvas>\n",
    "       <script>\n",
    "          function init() {\n",
    "                ### Basic setting for size of picture, line width, doing animation etc.\n",
    "          }\n",
    "          // unify the function of reqAnimFrame for different browsers and do animation\n",
    "          function animate() { \n",
    "             reqAnimFrame = window.requestAnimationFrame ||\n",
    "                window.webkitRequestAnimationFrame || \n",
    "                window.mozRequestAnimationFrame    ||\n",
    "                window.msRequestAnimationFrame     ||\n",
    "                window.oRequestAnimationFrame;\n",
    "             reqAnimFrame(animate);\n",
    "             draw();\n",
    "          }\n",
    "          \n",
    "          function draw() {\n",
    "             ...make picture ...\n",
    "          }\n",
    "             \n",
    "          init();\n",
    "          animate();\n",
    "       </script>\n",
    "       </body> \n",
    "```            "
   ]
  },
  {
   "cell_type": "markdown",
   "metadata": {},
   "source": [
    "## Note\n",
    "\n",
    "The API for Canvas animation rendering is not the same for different kinds of browsers, it could overcome by re-define the <font color=\"brown\">reqAnimFrame</font> to unify the commands with respect to different browers:\n",
    "\n",
    "```javascript\n",
    "    function animate() {    \n",
    "       reqAnimFrame = window.requestAnimationFrame  || \n",
    "         window.webkitRequestAnimationFrame || \n",
    "         window.mozRequestAnimationFrame ||\n",
    "         window.msRequestAnimationFrame  ||\n",
    "         window.oRequestAnimationFrame;\n",
    "       reqAnimFrame( animate );\n",
    "       draw();\n",
    "    }\n",
    "```  "
   ]
  },
  {
   "cell_type": "markdown",
   "metadata": {},
   "source": [
    "Moving within Interval\n",
    "---\n",
    "```html\n",
    "  <body>\n",
    "    <canvas id=\"myCanvas\" width=\"578\" height=\"100\"></canvas>    \n",
    "    <script>         \n",
    "      var canvas,context;\n",
    "      var x =  0;\n",
    "      var y = 15;\n",
    "      var speed = 5;\n",
    "      function init() {\n",
    "         canvas  = document.getElementById(\"myCanvas\");\n",
    "         context = canvas.getContext(\"2d\");\n",
    "      }\n",
    "\n",
    "      function animate() {\n",
    "\n",
    "        reqAnimFrame = window.requestAnimationFrame   ||\n",
    "           window.webkitRequestAnimationFrame || \n",
    "           window.mozRequestAnimationFrame    ||\n",
    "           window.msRequestAnimationFrame     ||\n",
    "           window.oRequestAnimationFrame;\n",
    "        reqAnimFrame(animate);\n",
    "\n",
    "        draw();\n",
    "      }\n",
    "\n",
    "\n",
    "      function draw() {\n",
    "        // increase x'velocity by speed (in pixels)\n",
    "        x += speed;\n",
    "        // reflect while it hits boundary\n",
    "        if(x <= 0 || x >= canvas.width-25){\n",
    "          speed = -speed;\n",
    "        }\n",
    "        // refresh the canvas and redraw a purple 25x25 square\n",
    "        context.clearRect(0, 0, canvas.width, canvas.height);\n",
    "        context.fillStyle = \"#ff00ff\";\n",
    "        context.fillRect(x, y, 25, 25);\n",
    "      }\n",
    "      init();\n",
    "      animate();\n",
    "    </script>\n",
    "```\n",
    "<img src=\"imgs/animation.png\" />"
   ]
  },
  {
   "cell_type": "markdown",
   "metadata": {},
   "source": [
    "Clock\n",
    "---\n",
    "Take a look at the snapshoot\n",
    "<img src=\"imgs/clock.png\" />"
   ]
  },
  {
   "cell_type": "raw",
   "metadata": {},
   "source": []
  },
  {
   "cell_type": "markdown",
   "metadata": {},
   "source": [
    "Description\n",
    "---\n",
    "1. clock setting\n",
    "   - initialisation: maker style, position etc:\n",
    "     ```javascritp\n",
    "     function clock() {\n",
    "        ...\n",
    "        ctx.save();\n",
    "        ctx.clearRect(0,0,150,150);\n",
    "        ctx.translate(75,75);\n",
    "        ctx.scale(0.4,0.4);\n",
    "        // start from top north\n",
    "        ctx.rotate(-Math.PI/2);\n",
    "        ctx.strokeStyle = \"black\";\n",
    "        ctx.fillStyle = \"white\";\n",
    "        ctx.lineWidth = 8;\n",
    "        ctx.lineCap = \"round\";\n",
    "        ...\n",
    "      }  \n",
    "     ```\n",
    "   -  Hour markers, bold lines:\n",
    "     ```javascript\n",
    "        ctx.save();\n",
    "        for (var i=0;i<12;i++){\n",
    "            ctx.beginPath();\n",
    "            ctx.rotate(Math.PI/6);\n",
    "            ctx.moveTo(100,0);\n",
    "            ctx.lineTo(120,0);\n",
    "            ctx.stroke();\n",
    "        }\n",
    "        ctx.restore();\n",
    "      ``` \n",
    "   - Minute markers, light lines:\n",
    "     ```javascript\n",
    "        ctx.save();\n",
    "        ctx.lineWidth = 5;\n",
    "        for (i=0;i<60;i++){\n",
    "            // exclude hour's markers \n",
    "            if (i%5!=0) {\n",
    "                ctx.beginPath();\n",
    "                ctx.moveTo(117,0);\n",
    "                ctx.lineTo(120,0);\n",
    "                ctx.stroke();\n",
    "            }\n",
    "            ctx.rotate(Math.PI/30);\n",
    "        }\n",
    "        ctx.restore();\n",
    "      ``` \n",
    "- Time calculation\n",
    "   - get time from box\n",
    "     ```javascript\n",
    "        var now = new Date();\n",
    "     ```\n",
    "   - hour timer, \n",
    "     ```javascript\n",
    "        ...\n",
    "        var hr  = now.getHours();\n",
    "        hr = hr>=12 ? hr-12 : hr;\n",
    "        ...\n",
    "        ctx.save();\n",
    "        ctx.rotate( hr*(Math.PI/6) + (Math.PI/360)*min + (Math.PI/21600)*sec )\n",
    "        ctx.lineWidth = 14;\n",
    "        ctx.beginPath();\n",
    "        ctx.moveTo(-20,0);\n",
    "        ctx.lineTo(80,0);\n",
    "        ctx.stroke();\n",
    "        ctx.restore();\n",
    "     ```\n",
    "    - minute timer, \n",
    "     ```javascript\n",
    "        ...\n",
    "        var min = now.getMinutes();\n",
    "        ...\n",
    "        ctx.save();\n",
    "        ctx.rotate( (Math.PI/30)*min + (Math.PI/1800)*sec )\n",
    "        ctx.lineWidth = 10;\n",
    "        ctx.beginPath();\n",
    "        ctx.moveTo(-28,0);\n",
    "        ctx.lineTo(112,0);\n",
    "        ctx.stroke();\n",
    "        ctx.restore();\n",
    "     ```\n",
    "    - second timer, \n",
    "     ```javascript\n",
    "        ...\n",
    "        var sec = now.getSeconds();\n",
    "        ...\n",
    "        // Write seconds\n",
    "        ctx.save();\n",
    "        ctx.rotate(sec * Math.PI/30);\n",
    "        ctx.strokeStyle = \"#D40000\";\n",
    "        ctx.fillStyle = \"#D40000\";\n",
    "        ctx.lineWidth = 6;\n",
    "        ctx.beginPath();\n",
    "        ctx.moveTo(-30,0);\n",
    "        ctx.lineTo(83,0);\n",
    "        ctx.stroke();\n",
    "        \n",
    "        // centered hinge\n",
    "        ctx.beginPath();\n",
    "        ctx.arc(0,0,10,0,Math.PI*2,true);\n",
    "        ctx.fill();\n",
    "        // the end hinge\n",
    "        ctx.beginPath();\n",
    "        ctx.arc(95,0,10,0,Math.PI*2,true);\n",
    "        ctx.stroke();\n",
    "        // make a empty ring at the end hinge\n",
    "        ctx.fillStyle = \"rgba(0,0,0,0)\";\n",
    "        ctx.arc(0,0,3,0,Math.PI*2,true);\n",
    "        ctx.fill();\n",
    "        ctx.restore();\n",
    "     ```\n",
    "    - the clock,\n",
    "     ```javascript\n",
    "        ctx.beginPath();\n",
    "        ctx.lineWidth = 14;\n",
    "        ctx.strokeStyle = '#325FA2';\n",
    "        ctx.arc(0,0,142,0,Math.PI*2,true);\n",
    "        ctx.stroke();\n",
    "        \n",
    "        ctx.restore();\n",
    "     ```\n",
    "- initialisation\n",
    "  ```javascript\n",
    "        function init(){\n",
    "            animate();\n",
    "        }\n",
    "     ```\n",
    "- make animation\n",
    "  ```javascript\n",
    "   function animate() {\n",
    "        reqAnimFrame = window.requestAnimationFrame    ||\n",
    "        window.webkitRequestAnimationFrame || \n",
    "        window.mozRequestAnimationFrame    ||\n",
    "        window.msRequestAnimationFrame     ||\n",
    "        window.oRequestAnimationFrame;\n",
    "        reqAnimFrame( animate );\n",
    "        clock();\n",
    "    }\n",
    "     ```"
   ]
  },
  {
   "cell_type": "markdown",
   "metadata": {
    "slideshow": {
     "slide_type": "subslide"
    }
   },
   "source": [
    "## SpriteAnimation\n",
    "\n",
    "Another traditional animation, sprite animation: just play the frame1 in sprite, refresh display, play frame2, refresh, and so on. \n",
    "\n",
    "<img src=\"imgs/sprite.png\">\n",
    "Additionally, sprite was displayed one by one but move toward the right, turn around while hit the right wall, and so on; it is called a spite animation.\n",
    "\n",
    "rendering api\n",
    "---\n",
    "```\n",
    "ctx.drawImage(image, Src_x, Src_y, Src_Width, Src_Height, \n",
    "                     Dest_x, Dest_y, Dest_Width, Dest_Height);\n",
    "                     \n",
    "                     \n",
    "|--------------------------------------------------                     \n",
    "|        :              :\n",
    "|        : Src_y        :\n",
    "| Src_x  :  Src_Width   :\n",
    "|........|------------| :\n",
    "|        |            |Src_Height\n",
    "|        |  Image     | :\n",
    "|        |____________| : Dest_y\n",
    "|                       :\n",
    "|                       :   Dest_Width\n",
    "|.......................|-----------|\n",
    "|        Dest_x         |           | Dest_Height\n",
    "|                       |  Image    |\n",
    "|                       |___________|\n",
    "|\n",
    "```\n"
   ]
  },
  {
   "cell_type": "code",
   "execution_count": 1,
   "metadata": {
    "slideshow": {
     "slide_type": "subslide"
    }
   },
   "outputs": [],
   "source": [
    "from IPython.display import HTML\n"
   ]
  },
  {
   "cell_type": "code",
   "execution_count": 2,
   "metadata": {
    "slideshow": {
     "slide_type": "subslide"
    }
   },
   "outputs": [],
   "source": [
    "canvas=\"\"\"\n",
    "<canvas id=\"myCanvas\" width=\"500\" height=\"100\"></canvas>\n",
    "\"\"\""
   ]
  },
  {
   "cell_type": "code",
   "execution_count": 3,
   "metadata": {
    "slideshow": {
     "slide_type": "subslide"
    }
   },
   "outputs": [],
   "source": [
    "JSCode=\"\"\"\n",
    "<script>\n",
    "    var speed = 25;\n",
    "      var frames = 4;                 \n",
    "      var currentFrame = 0;\n",
    "      var Src_Width=100;\n",
    "      var Src_Height=100;\n",
    "      var speed = -10;  \n",
    "      var f_width=400;  \n",
    "                 \n",
    "      canvas = document.getElementById(\"myCanvas\");\n",
    "      var width = canvas.width; \n",
    "                  \n",
    "      var height = canvas.height;  \n",
    "      ctx = canvas.getContext(\"2d\");\n",
    "      \n",
    "      // Sprite toward left        \n",
    "      image = new Image()\n",
    "      image.src = 'imgs/sprite.png';\n",
    "      //speite toward right  \n",
    "      image2 = new Image()      \n",
    "      image2.src = 'imgs/sprite2.png';  \n",
    "      var draw = function(){\n",
    "          f_width += speed;\n",
    "\n",
    "          // change speed if hits wall and the position of x\n",
    "          if(f_width <= 0-25 || f_width >= width-50){\n",
    "             speed = -speed;\n",
    "          } \n",
    "          ctx.clearRect(0, 0, width, height);\n",
    "          // change direction while hits wall \n",
    "          if(speed <= 0){\n",
    "             ctx.drawImage(image, 0, height * currentFrame, Src_Width,Src_Height, f_width,\n",
    "                           0, Src_Width,Src_Height); \n",
    "          }\n",
    "          else {\n",
    "             ctx.drawImage(image2, 0, height * currentFrame, Src_Width,Src_Height, f_width, \n",
    "                           0, Src_Width,Src_Height); \n",
    "          }\n",
    "          // change the sprite\n",
    "          if (currentFrame == frames) {\n",
    "             currentFrame = 0;\n",
    "          } else {\n",
    "             currentFrame++;\n",
    "          }\n",
    "      }\n",
    "      //Moving each step very 40 /msec\n",
    "      setInterval(draw, 1000/25);\n",
    "</script>\n",
    "\"\"\""
   ]
  },
  {
   "cell_type": "code",
   "execution_count": 4,
   "metadata": {},
   "outputs": [
    {
     "data": {
      "text/html": [
       "\n",
       "<canvas id=\"myCanvas\" width=\"500\" height=\"100\"></canvas>\n",
       "\n",
       "<script>\n",
       "    var speed = 25;\n",
       "      var frames = 4;                 \n",
       "      var currentFrame = 0;\n",
       "      var Src_Width=100;\n",
       "      var Src_Height=100;\n",
       "      var speed = -10;  \n",
       "      var f_width=400;  \n",
       "                 \n",
       "      canvas = document.getElementById(\"myCanvas\");\n",
       "      var width = canvas.width; \n",
       "             \n",
       "      var height = canvas.height;  \n",
       "      ctx = canvas.getContext(\"2d\");\n",
       "      // Moving to left        \n",
       "      image = new Image()\n",
       "      image.src = 'imgs/sprite.png';\n",
       "      //movin to right  \n",
       "      image2 = new Image()      \n",
       "      image2.src = 'imgs/sprite2.png';  \n",
       "      var draw = function(){\n",
       "          f_width += speed;\n",
       "\n",
       "          // change speed if hits wall and the position of x\n",
       "          if(f_width <= 0-25 || f_width >= width-50){\n",
       "             speed = -speed;\n",
       "          } \n",
       "          ctx.clearRect(0, 0, width, height);\n",
       "          // change direction while hits wall \n",
       "          if(speed <= 0){\n",
       "             ctx.drawImage(image, 0, height * currentFrame, Src_Width,Src_Height, f_width,\n",
       "                           0, Src_Width,Src_Height); \n",
       "          }\n",
       "          else {\n",
       "             ctx.drawImage(image2, 0, height * currentFrame, Src_Width,Src_Height, f_width, \n",
       "                           0, Src_Width,Src_Height); \n",
       "          }\n",
       "          // change the sprite\n",
       "          if (currentFrame == frames) {\n",
       "             currentFrame = 0;\n",
       "          } else {\n",
       "             currentFrame++;\n",
       "          }\n",
       "      }\n",
       "      //Moving each step very 40 /msec\n",
       "      setInterval(draw, 1000/25);\n",
       "</script>\n"
      ],
      "text/plain": [
       "<IPython.core.display.HTML object>"
      ]
     },
     "execution_count": 4,
     "metadata": {},
     "output_type": "execute_result"
    }
   ],
   "source": [
    "HTML(canvas+JSCode)"
   ]
  },
  {
   "cell_type": "code",
   "execution_count": 1,
   "metadata": {},
   "outputs": [
    {
     "name": "stdout",
     "output_type": "stream",
     "text": [
      "[NbConvertApp] Converting notebook Canvas.ipynb to html\n",
      "[NbConvertApp] Writing 317175 bytes to Canvas.html\n"
     ]
    }
   ],
   "source": [
    "!jupyter nbconvert Canvas.ipynb"
   ]
  },
  {
   "cell_type": "code",
   "execution_count": null,
   "metadata": {
    "collapsed": true
   },
   "outputs": [],
   "source": []
  }
 ],
 "metadata": {
  "kernelspec": {
   "display_name": "Python 3",
   "language": "python",
   "name": "python3"
  },
  "language_info": {
   "codemirror_mode": {
    "name": "ipython",
    "version": 3
   },
   "file_extension": ".py",
   "mimetype": "text/x-python",
   "name": "python",
   "nbconvert_exporter": "python",
   "pygments_lexer": "ipython3",
   "version": "3.6.5"
  },
  "toc": {
   "colors": {
    "hover_highlight": "#DAA520",
    "navigate_num": "#000000",
    "navigate_text": "#333333",
    "running_highlight": "#FF0000",
    "selected_highlight": "#FFD700",
    "sidebar_border": "#EEEEEE",
    "wrapper_background": "#FFFFFF"
   },
   "moveMenuLeft": true,
   "nav_menu": {
    "height": "512px",
    "width": "252px"
   },
   "navigate_menu": true,
   "number_sections": true,
   "sideBar": true,
   "threshold": 4,
   "toc_cell": false,
   "toc_section_display": "block",
   "toc_window_display": false,
   "widenNotebook": false
  }
 },
 "nbformat": 4,
 "nbformat_minor": 1
}
