{
 "cells": [
  {
   "cell_type": "markdown",
   "metadata": {
    "toc": "true"
   },
   "source": [
    "# Table of Contents\n",
    " <p><div class=\"lev2 toc-item\"><a href=\"#Enable-IPywidgets-and-Qgrid\" data-toc-modified-id=\"Enable-IPywidgets-and-Qgrid-01\"><span class=\"toc-item-num\">0.1&nbsp;&nbsp;</span>Enable IPywidgets and Qgrid</a></div><div class=\"lev2 toc-item\"><a href=\"#Note\" data-toc-modified-id=\"Note-02\"><span class=\"toc-item-num\">0.2&nbsp;&nbsp;</span>Note</a></div>"
   ]
  },
  {
   "cell_type": "code",
   "execution_count": null,
   "metadata": {
    "code_folding": []
   },
   "outputs": [],
   "source": [
    "# monitor training performance  \n",
    "from numpy import loadtxt  \n",
    "from xgboost import XGBClassifier,plot_importance  \n",
    "from xgboost import XGBRegressor,plot_tree\n",
    "from sklearn.model_selection import train_test_split,cross_validate\n",
    "from sklearn.metrics import accuracy_score  \n",
    "import pandas as pd\n",
    "from sklearn.preprocessing import StandardScaler\n",
    "import matplotlib.pyplot as plt\n",
    "\n",
    "%matplotlib inline"
   ]
  },
  {
   "cell_type": "code",
   "execution_count": null,
   "metadata": {},
   "outputs": [],
   "source": [
    "import seaborn as sns\n",
    "sns.set()"
   ]
  },
  {
   "cell_type": "markdown",
   "metadata": {},
   "source": [
    "Download from:\n",
    "\n",
    "https://archive.ics.uci.edu/ml/datasets/Pima+Indians+Diabetes"
   ]
  },
  {
   "cell_type": "code",
   "execution_count": null,
   "metadata": {
    "code_folding": []
   },
   "outputs": [],
   "source": [
    "# load data  \n",
    "df = pd.read_csv('data/pima-indians-diabetes.csv')#, delimiter=\",\")  "
   ]
  },
  {
   "cell_type": "markdown",
   "metadata": {},
   "source": [
    "Enable IPywidgets and Qgrid\n",
    "---\n",
    "Install as follws:\n",
    "```\n",
    "> pip install ipywidgets\n",
    "> jupyter nbextension enable --py --sys-prefix widgetsnbextension\n",
    "\n",
    "> pip install qgrid\n",
    "> jupyter nbextension enable --py --sys-prefix qgrid\n",
    "```\n",
    "\n"
   ]
  },
  {
   "cell_type": "code",
   "execution_count": null,
   "metadata": {},
   "outputs": [],
   "source": [
    "import qgrid"
   ]
  },
  {
   "cell_type": "code",
   "execution_count": null,
   "metadata": {
    "scrolled": true
   },
   "outputs": [],
   "source": [
    "qgrid.show_grid(df)"
   ]
  },
  {
   "cell_type": "code",
   "execution_count": null,
   "metadata": {},
   "outputs": [],
   "source": []
  },
  {
   "cell_type": "code",
   "execution_count": null,
   "metadata": {},
   "outputs": [],
   "source": [
    "features=df.columns.values\n",
    "features"
   ]
  },
  {
   "cell_type": "code",
   "execution_count": null,
   "metadata": {},
   "outputs": [],
   "source": [
    "# count for Nan\n",
    "1- df.describe().T['count']/len(df)"
   ]
  },
  {
   "cell_type": "code",
   "execution_count": null,
   "metadata": {},
   "outputs": [],
   "source": [
    "# split data into X and y  \n",
    "X = df[features[:8]]\n",
    "Y = df['class']"
   ]
  },
  {
   "cell_type": "code",
   "execution_count": null,
   "metadata": {},
   "outputs": [],
   "source": []
  },
  {
   "cell_type": "raw",
   "metadata": {},
   "source": [
    "scaler = StandardScaler()\n",
    "X = scaler.fit_transform(X)\n"
   ]
  },
  {
   "cell_type": "code",
   "execution_count": null,
   "metadata": {},
   "outputs": [],
   "source": [
    "# split data into train and test sets  \n",
    "X_train, X_test, y_train, y_test = train_test_split(X, Y, test_size=0.33, random_state=2019)  "
   ]
  },
  {
   "cell_type": "markdown",
   "metadata": {},
   "source": [
    "- logLoss:  as known as ```logistic loss or cross-entropy loss```, for a single sample with true label $y_t$ in {0,1} and estimated probability $y_p$ that $y_t$ = 1, the log loss is\n",
    "  $$-\\log \\mathbf{P} (y_t|y_p) = -\\left(y_t \\log(y_p) + (1 - y_t) \\log(1 - y_p)\\right)$$"
   ]
  },
  {
   "cell_type": "code",
   "execution_count": null,
   "metadata": {},
   "outputs": [],
   "source": [
    "# fit model no training data  \n",
    "model = XGBClassifier()  \n",
    "eval_set = [(X_train, y_train), (X_test, y_test)]  \n",
    "#model.fit(X_train, y_train, eval_metric=[\"error\", \"logloss\"], eval_set=eval_set, verbose=True)  \n",
    "model.fit(X_train, y_train, eval_metric=[\"error\", \"auc\"], eval_set=eval_set, verbose=True) \n",
    "# make predictions for test data  "
   ]
  },
  {
   "cell_type": "code",
   "execution_count": null,
   "metadata": {},
   "outputs": [],
   "source": [
    "plot_importance(model)"
   ]
  },
  {
   "cell_type": "code",
   "execution_count": null,
   "metadata": {},
   "outputs": [],
   "source": [
    "y_pred=model.predict(X_test) "
   ]
  },
  {
   "cell_type": "code",
   "execution_count": null,
   "metadata": {},
   "outputs": [],
   "source": [
    "# evaluate predictions  \n",
    " \n",
    "accuracy = accuracy_score(y_test, y_pred)\n",
    "print(\"Accuracy: %.2f%%\" % (accuracy * 100.0))  "
   ]
  },
  {
   "cell_type": "code",
   "execution_count": null,
   "metadata": {},
   "outputs": [],
   "source": [
    "# retrieve performance metrics  \n",
    "results = model.evals_result()  \n",
    "epochs = len(results['validation_0']['error'])  "
   ]
  },
  {
   "cell_type": "code",
   "execution_count": null,
   "metadata": {},
   "outputs": [],
   "source": [
    "x_axis = range(0, epochs) "
   ]
  },
  {
   "cell_type": "code",
   "execution_count": null,
   "metadata": {},
   "outputs": [],
   "source": [
    "# plot log loss  \n",
    "fig, ax = plt.subplots()  \n",
    "ax.plot(x_axis, results['validation_0']['error'], label='Train')  \n",
    "ax.plot(x_axis, results['validation_1']['auc'], label='Test')  \n",
    "ax.legend()  \n",
    "#plt.ylabel('Log Loss')  \n",
    "ax.set_title('XGBoost Log Loss')  \n"
   ]
  },
  {
   "cell_type": "code",
   "execution_count": null,
   "metadata": {},
   "outputs": [],
   "source": [
    "# plot classification error  \n",
    "fig, ax = plt.subplots()  \n",
    "ax.plot(x_axis, results['validation_0']['error'], label='Train')  \n",
    "ax.plot(x_axis, results['validation_1']['error'], label='Test')  \n",
    "ax.legend()\n",
    "plt.ylabel('Classification Error')  \n",
    "plt.title('XGBoost Classification Error')  \n",
    "#plt.show() "
   ]
  },
  {
   "cell_type": "markdown",
   "metadata": {},
   "source": [
    "Note\n",
    "---\n",
    "When nround is greater than 40, error of test data arised, this means model is over-fitting. Thus set the stop sign after 10 run:"
   ]
  },
  {
   "cell_type": "code",
   "execution_count": null,
   "metadata": {},
   "outputs": [],
   "source": [
    "# fit model no training data  \n",
    "xgb = XGBClassifier()  \n",
    "eval_set = [(X_test, y_test)]  \n",
    "xgb.fit(X_train, y_train, early_stopping_rounds=10, \n",
    "          eval_metric=\"auc\", eval_set=eval_set, verbose=True)  \n",
    "# make predictions for test data  \n",
    "y_pred = xgb.predict(X_test)  \n",
    "#predictions = [round(value) for value in y_pred]  \n",
    "# evaluate predictions  \n",
    "accuracy = accuracy_score(y_test, y_pred)  "
   ]
  },
  {
   "cell_type": "code",
   "execution_count": null,
   "metadata": {},
   "outputs": [],
   "source": [
    "# fit model no training data  \n",
    "xgb = XGBClassifier(ax_depth=5,\n",
    "                        subsample=0.33,\n",
    "                        objective='binary:logistic',\n",
    "                        n_estimators=500,\n",
    "                        learning_rate = 0.001)  \n",
    "eval_set = [(X_test, y_test)]  \n",
    "xgb.fit(X_train, y_train, early_stopping_rounds=10, \n",
    "          eval_metric=\"auc\", eval_set=eval_set, verbose=True)  \n",
    "# make predictions for test data  \n",
    "y_pred = xgb.predict(X_test)  \n",
    "#predictions = [round(value) for value in y_pred]  \n",
    "# evaluate predictions  \n",
    "accuracy = accuracy_score(y_test, y_pred)  "
   ]
  },
  {
   "cell_type": "code",
   "execution_count": null,
   "metadata": {},
   "outputs": [],
   "source": [
    "print (xgb.best_iteration)  \n",
    "limit = xgb.best_iteration  \n",
    "y_pred = xgb.predict(X_test,ntree_limit=limit)  \n",
    "#predictions = [round(value) for value in y_pred]  \n",
    "# evaluate predictions  \n",
    "accuracy = accuracy_score(y_test, y_pred)  \n",
    "print(\"Accuracy: %.2f%%\" % (accuracy * 100.0))  "
   ]
  },
  {
   "cell_type": "code",
   "execution_count": null,
   "metadata": {
    "code_folding": []
   },
   "outputs": [],
   "source": [
    "##set up the parameters\n",
    "plt.rcParams['figure.figsize'] = 80,50\n",
    "plt.figure(figsize=(12,8))\n",
    "ax=plot_tree(xgb)  \n",
    "plt.show()  "
   ]
  },
  {
   "cell_type": "code",
   "execution_count": null,
   "metadata": {},
   "outputs": [],
   "source": [
    "from xgboost import to_graphviz"
   ]
  },
  {
   "cell_type": "code",
   "execution_count": null,
   "metadata": {},
   "outputs": [],
   "source": [
    "import codecs  \n",
    "f=codecs.open('xgb_tree.png', mode='wb')  \n",
    "g=to_graphviz(model)  \n",
    "f.write(g.pipe('png'));  \n",
    "f.close()  "
   ]
  },
  {
   "cell_type": "code",
   "execution_count": null,
   "metadata": {},
   "outputs": [],
   "source": []
  }
 ],
 "metadata": {
  "kernelspec": {
   "display_name": "Python 3",
   "language": "python",
   "name": "python3"
  },
  "language_info": {
   "codemirror_mode": {
    "name": "ipython",
    "version": 3
   },
   "file_extension": ".py",
   "mimetype": "text/x-python",
   "name": "python",
   "nbconvert_exporter": "python",
   "pygments_lexer": "ipython3",
   "version": "3.6.5"
  },
  "toc": {
   "colors": {
    "hover_highlight": "#DAA520",
    "navigate_num": "#000000",
    "navigate_text": "#333333",
    "running_highlight": "#FF0000",
    "selected_highlight": "#FFD700",
    "sidebar_border": "#EEEEEE",
    "wrapper_background": "#FFFFFF"
   },
   "moveMenuLeft": true,
   "nav_menu": {
    "height": "41.73913049697876px",
    "width": "253.47826623916626px"
   },
   "navigate_menu": true,
   "number_sections": true,
   "sideBar": true,
   "threshold": 4,
   "toc_cell": true,
   "toc_section_display": "none",
   "toc_window_display": false,
   "widenNotebook": false
  }
 },
 "nbformat": 4,
 "nbformat_minor": 2
}
