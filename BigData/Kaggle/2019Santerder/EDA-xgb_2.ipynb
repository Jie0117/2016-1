{
 "cells": [
  {
   "cell_type": "markdown",
   "metadata": {},
   "source": [
    "1. [Santander Fast Compact Solution](https://www.kaggle.com/gpreda/santander-fast-compact-solution)\n",
    "Go to Kaggle website, resgister, attend competition, and make groups."
   ]
  },
  {
   "cell_type": "code",
   "execution_count": null,
   "metadata": {},
   "outputs": [],
   "source": [
    "import warnings\n",
    "import numpy as np\n",
    "import pandas as pd\n",
    "\n",
    "from sklearn import preprocessing\n",
    "from sklearn.metrics import mean_squared_error\n",
    "from sklearn.metrics import roc_auc_score\n",
    "from sklearn.model_selection import StratifiedKFold\n",
    "\n",
    "from sklearn.preprocessing import StandardScaler\n",
    "from sklearn.model_selection import train_test_split\n",
    "\n",
    "warnings.filterwarnings('ignore')"
   ]
  },
  {
   "cell_type": "code",
   "execution_count": null,
   "metadata": {},
   "outputs": [],
   "source": [
    "import seaborn as sns\n",
    "sns.set()"
   ]
  },
  {
   "cell_type": "code",
   "execution_count": null,
   "metadata": {},
   "outputs": [],
   "source": [
    "import matplotlib.pyplot as plt\n",
    "\n",
    "%matplotlib inline"
   ]
  },
  {
   "cell_type": "code",
   "execution_count": null,
   "metadata": {},
   "outputs": [],
   "source": [
    "import gc \n",
    "gc.collect()"
   ]
  },
  {
   "cell_type": "code",
   "execution_count": null,
   "metadata": {},
   "outputs": [],
   "source": [
    "train_df = pd.read_csv('input/train.csv')\n",
    "test_df = pd.read_csv('input/test.csv')"
   ]
  },
  {
   "cell_type": "code",
   "execution_count": null,
   "metadata": {},
   "outputs": [],
   "source": [
    "features=train_df.columns[2:]"
   ]
  },
  {
   "cell_type": "markdown",
   "metadata": {},
   "source": [
    "What Tree is\n",
    "---\n",
    "packages required, \n",
    "\n",
    "- install [GraphViz](https://www.graphviz.org/download/)\n",
    "- `graphviz` installed by pip \n",
    "\n",
    "\n",
    "To describe what tree is, the following decision Tree demo is created with 4-leaves:\n"
   ]
  },
  {
   "cell_type": "code",
   "execution_count": null,
   "metadata": {},
   "outputs": [],
   "source": [
    "from sklearn.metrics import roc_auc_score\n",
    "from sklearn import tree\n",
    "import graphviz\n",
    "\n",
    "train = train_df.sample(frac=0.8, random_state=2019)\n",
    "valid = train_df[~train_df.index.isin(train.index) ]\n",
    "#valid = train.sample(frac=0.2, random_state=42)\n",
    "#train = train[~train.index.isin(valid.index) ].sample(frac=1)\n",
    "\n",
    "#model = tree.DecisionTreeClassifier(max_leaf_nodes=4)\n",
    "model = tree.DecisionTreeRegressor(max_leaf_nodes=4)\n",
    "model.fit(train[features], train['target'])\n",
    "#pred_val = model.predict_proba(valid[cols])[:,1]\n",
    "pred_val = model.predict(valid[features])\n",
    "\n",
    "print('AUC = ',round( roc_auc_score(valid['target'],pred_val),4 ) )\n",
    "tree_graph = tree.export_graphviz(model, out_file=None, max_depth = 10,\n",
    "    impurity = False, feature_names = features, class_names = ['0', '1'],\n",
    "    rounded = True, filled= True )\n",
    "graphviz.Source(tree_graph)  "
   ]
  },
  {
   "cell_type": "code",
   "execution_count": null,
   "metadata": {},
   "outputs": [],
   "source": [
    "# about 0.1 probability with target being equal to 1 in train set (size 160000)\n",
    "sum(train['target'])/160000"
   ]
  },
  {
   "cell_type": "code",
   "execution_count": null,
   "metadata": {},
   "outputs": [],
   "source": [
    "# size of target being 1 in the first split by 'var_81'  \n",
    "len(train[train['var_81' ]<=11.535])"
   ]
  },
  {
   "cell_type": "markdown",
   "metadata": {},
   "source": [
    "1. Notice that it finds the \"bump\" of **var_81** and cuts it off\n",
    "-  It's second decision is to cut the \"bump\" off **var_139**. Then it chops **var_12**. These three decisions achieve validation AUC 0.6015. It predicts probability of target=1 to be 0.192, 0.131, 0.166, and 00075 for it's four splits.\n",
    "- Note that GBMs are a bit different from single decision trees. First, they are additive tree ensemble, i.e. the final prediction is the sum of the prediction of each tree in the model. Number of trees can be in thousands if not more. Second, trees are built one by one by using the gradient of the loss function at the prediction of the previously built trees. Trees are not built using entropy or other single tree metric."
   ]
  },
  {
   "cell_type": "code",
   "execution_count": null,
   "metadata": {},
   "outputs": [],
   "source": []
  },
  {
   "cell_type": "code",
   "execution_count": null,
   "metadata": {},
   "outputs": [],
   "source": [
    "sns.distplot(train_df[train_df.target==1]['var_81'],  kde=True,bins=200,label='target=1')\n",
    "sns.distplot(train_df[train_df.target==0]['var_81'],  kde=True,bins=200,label='target=0')\n",
    "plt.axvline(x=11.535,color='black')\n",
    "plt.legend()"
   ]
  },
  {
   "cell_type": "code",
   "execution_count": null,
   "metadata": {},
   "outputs": [],
   "source": [
    "gc.collect()"
   ]
  },
  {
   "cell_type": "markdown",
   "metadata": {},
   "source": [
    "Features\n",
    "---\n",
    "1. target, predicted feature\n",
    "2. var_n, b=0, ...,199, **200** given features\n",
    "3. new features:\n",
    "```\n",
    "      var_200: mean of 200 features\n",
    "      var_201: std  of 200 eatures\n",
    "      var_202: mean of largest 10 features\n",
    "      var_203: mean of smallest 10 features\n",
    "```  \n",
    "4. `df.iloc[i,j:]`: the i-th row, and all the columns starting from j-th column (feature)"
   ]
  },
  {
   "cell_type": "markdown",
   "metadata": {},
   "source": [
    "XGB\n",
    "---"
   ]
  },
  {
   "cell_type": "code",
   "execution_count": null,
   "metadata": {},
   "outputs": [],
   "source": [
    "import xgboost as xgb\n",
    "\n",
    "xgb_params = {'eta': 0.01, 'max_depth': 7, 'subsample': 0.8, 'colsample_bytree': 0.8, \n",
    "              'gamma':  5,'lambda':1,'min_child_weight' : 50,  \n",
    "               'colsample_bylevel' : 0.7,'alpha':0,'booster' : \"gbtree\",\n",
    "          'objective': 'binary:logistic', 'eval_metric': 'auc', 'silent': True}\n",
    "\n",
    "features = [c for c in train_df.columns if c not in ['ID_code', 'target']]\n",
    "target = train_df['target']"
   ]
  },
  {
   "cell_type": "code",
   "execution_count": null,
   "metadata": {},
   "outputs": [],
   "source": [
    "#num_round = 1000000\n",
    "REPEATED=4\n",
    "\n",
    "folds = StratifiedKFold(n_splits=REPEATED, shuffle=False, random_state=2019)\n",
    "oof = np.zeros(len(train_df))\n",
    "predictions_xgb = np.zeros(len(test_df))"
   ]
  },
  {
   "cell_type": "code",
   "execution_count": null,
   "metadata": {},
   "outputs": [],
   "source": [
    "for fold_, (trn_idx, val_idx) in enumerate(folds.split(train_df.values, target.values)):\n",
    "    print(\"Fold {}\".format(fold_))\n",
    "    trn_data = xgb.DMatrix(train_df.iloc[trn_idx][features], label=target.iloc[trn_idx])\n",
    "    val_data = xgb.DMatrix(train_df.iloc[val_idx][features], label=target.iloc[val_idx])\n",
    "    watchlist = [(trn_data, 'train'), (val_data, 'valid')]\n",
    "    num_round = 5000\n",
    "    clf_xgb = xgb.train(xgb_params, trn_data, num_round,watchlist,  early_stopping_rounds = 50 ,verbose_eval=100)\n",
    "    oof[val_idx] = clf_xgb.predict(xgb.DMatrix(train_df.iloc[val_idx][features]), ntree_limit=clf_xgb.best_ntree_limit+50)\n",
    "    predictions += clf_xgb.predict(xgb.DMatrix(test_df[features]), ntree_limit=xgb_model.best_ntree_limit+50) / folds.n_splits\n",
    "print(\"CV score: {:<8.5f}\".format(roc_auc_score(target, oof_xgb)))\n"
   ]
  },
  {
   "cell_type": "code",
   "execution_count": null,
   "metadata": {},
   "outputs": [],
   "source": [
    "sub = pd.DataFrame({\"ID_code\": test_df.ID_code.values})\n",
    "sub[\"target\"] = predictions\n",
    "sub.to_csv(\"output/submission-xgb.csv\", index=False)"
   ]
  },
  {
   "cell_type": "code",
   "execution_count": null,
   "metadata": {},
   "outputs": [],
   "source": [
    "import plotly.plotly as py\n",
    "from plotly.offline import init_notebook_mode, plot, iplot\n",
    "import plotly.graph_objs as go\n",
    "import cufflinks\n",
    "# offline mode\n",
    "cufflinks.go_offline()\n",
    "# Set the global theme for cufflinks\n",
    "cufflinks.set_config_file(world_readable=True, theme='pearl', offline=True)"
   ]
  },
  {
   "cell_type": "code",
   "execution_count": null,
   "metadata": {},
   "outputs": [],
   "source": [
    "# 11-16-1\n",
    "sub.hist()"
   ]
  },
  {
   "cell_type": "code",
   "execution_count": null,
   "metadata": {},
   "outputs": [],
   "source": []
  }
 ],
 "metadata": {
  "kernelspec": {
   "display_name": "Python 3",
   "language": "python",
   "name": "python3"
  },
  "language_info": {
   "codemirror_mode": {
    "name": "ipython",
    "version": 3
   },
   "file_extension": ".py",
   "mimetype": "text/x-python",
   "name": "python",
   "nbconvert_exporter": "python",
   "pygments_lexer": "ipython3",
   "version": "3.6.5"
  },
  "toc": {
   "colors": {
    "hover_highlight": "#DAA520",
    "navigate_num": "#000000",
    "navigate_text": "#333333",
    "running_highlight": "#FF0000",
    "selected_highlight": "#FFD700",
    "sidebar_border": "#EEEEEE",
    "wrapper_background": "#FFFFFF"
   },
   "moveMenuLeft": true,
   "nav_menu": {
    "height": "12px",
    "width": "252px"
   },
   "navigate_menu": true,
   "number_sections": true,
   "sideBar": true,
   "threshold": 4,
   "toc_cell": false,
   "toc_section_display": "block",
   "toc_window_display": false,
   "widenNotebook": false
  }
 },
 "nbformat": 4,
 "nbformat_minor": 2
}
