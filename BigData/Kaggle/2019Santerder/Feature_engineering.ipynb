{
 "cells": [
  {
   "cell_type": "markdown",
   "metadata": {},
   "source": [
    "Feature Engineering (FE)\n",
    "===\n",
    "Better Feature better score!\n",
    "\n",
    "install featexp by pip."
   ]
  },
  {
   "cell_type": "code",
   "execution_count": null,
   "metadata": {},
   "outputs": [],
   "source": [
    "import matplotlib.pyplot as plt\n",
    "import pandas as pd\n",
    "import numpy as np\n",
    "\n",
    "\n",
    "import seaborn as sns\n",
    "%matplotlib inline"
   ]
  },
  {
   "cell_type": "code",
   "execution_count": null,
   "metadata": {},
   "outputs": [],
   "source": [
    "import random,gc\n",
    "import lightgbm as lgb\n",
    "from sklearn import preprocessing\n",
    "from sklearn.metrics import mean_squared_error\n",
    "from sklearn.metrics import roc_auc_score\n",
    "from sklearn.ensemble import RandomForestClassifier\n",
    "from sklearn.model_selection import StratifiedKFold,train_test_split,cross_validate\n",
    "import warnings,random\n",
    "warnings.filterwarnings('ignore')"
   ]
  },
  {
   "cell_type": "code",
   "execution_count": null,
   "metadata": {},
   "outputs": [],
   "source": [
    "train_df = pd.read_csv('input/train.csv')\n",
    "test_df = pd.read_csv('input/test.csv')"
   ]
  },
  {
   "cell_type": "code",
   "execution_count": null,
   "metadata": {},
   "outputs": [],
   "source": [
    "features=train_df.columns[2:]"
   ]
  },
  {
   "cell_type": "code",
   "execution_count": null,
   "metadata": {},
   "outputs": [],
   "source": [
    "import gc \n",
    "gc.collect()"
   ]
  },
  {
   "cell_type": "markdown",
   "metadata": {},
   "source": [
    "# Feature Exploration\n",
    "\n"
   ]
  },
  {
   "cell_type": "code",
   "execution_count": null,
   "metadata": {},
   "outputs": [],
   "source": [
    "from featexp import get_univariate_plots,get_trend_stats,univariate_plotter"
   ]
  },
  {
   "cell_type": "code",
   "execution_count": null,
   "metadata": {},
   "outputs": [],
   "source": [
    "#feat=WWW_train.columns[1:]\n",
    "feat=train_df.columns[1:]"
   ]
  },
  {
   "cell_type": "code",
   "execution_count": null,
   "metadata": {},
   "outputs": [],
   "source": [
    "order=WWW_train.nunique()"
   ]
  },
  {
   "cell_type": "code",
   "execution_count": null,
   "metadata": {},
   "outputs": [],
   "source": [
    "# explore target - var_86 relation, \n",
    "# left piture shows the trend, right shows the numbers of samples\n",
    "get_univariate_plots(data=train_df[feat], target_col= 'target',features_list=['var_68'], bins= 10)\n",
    "                     "
   ]
  },
  {
   "cell_type": "code",
   "execution_count": null,
   "metadata": {},
   "outputs": [],
   "source": []
  },
  {
   "cell_type": "code",
   "execution_count": null,
   "metadata": {
    "scrolled": true
   },
   "outputs": [],
   "source": [
    "# Observe all the traget with all vars\n",
    "i=5\n",
    "\n",
    "feat_ob=feat[2+10*i:2+10*(i+1)]\n",
    "get_univariate_plots(data=WWW_train[feat], target_col= 'target',features_list=feat_ob, bins= 10)\n",
    "                     "
   ]
  },
  {
   "cell_type": "code",
   "execution_count": null,
   "metadata": {},
   "outputs": [],
   "source": [
    "# check whether train-test is similar\n",
    "train, test = train_test_split(train_df, test_size=0.33,random_state=random.randint(1,1e5))"
   ]
  },
  {
   "cell_type": "code",
   "execution_count": null,
   "metadata": {},
   "outputs": [],
   "source": [
    "train, test = train_test_split(train_df, test_size=0.33,random_state=random.randint(1,1e5))\n",
    "get_univariate_plots(data=train, target_col= 'target', data_test=test, \n",
    "                     features_list=[ 'var_68'])"
   ]
  },
  {
   "cell_type": "code",
   "execution_count": null,
   "metadata": {},
   "outputs": [],
   "source": [
    "grouped_train, grouped_test = univariate_plotter(data=train, target_col='target', feature='var_68',\n",
    "                                                 data_test=test)"
   ]
  },
  {
   "cell_type": "code",
   "execution_count": null,
   "metadata": {},
   "outputs": [],
   "source": [
    "grouped_train, grouped_test = univariate_plotter(data=train, target_col='target', feature='var_68',\n",
    "                                                 data_test=test)"
   ]
  },
  {
   "cell_type": "code",
   "execution_count": null,
   "metadata": {},
   "outputs": [],
   "source": [
    "grouped_train"
   ]
  },
  {
   "cell_type": "code",
   "execution_count": null,
   "metadata": {},
   "outputs": [],
   "source": [
    "stats = get_trend_stats(data=train, target_col= 'target', data_test=test)"
   ]
  },
  {
   "cell_type": "code",
   "execution_count": null,
   "metadata": {},
   "outputs": [],
   "source": [
    "# statistics dataframe\n",
    "stats"
   ]
  },
  {
   "cell_type": "code",
   "execution_count": null,
   "metadata": {},
   "outputs": [],
   "source": [
    "# features with correlation more than 0.95\n",
    "feature_1=stats[stats.Trend_correlation>0.95].Feature.values"
   ]
  },
  {
   "cell_type": "code",
   "execution_count": null,
   "metadata": {},
   "outputs": [],
   "source": [
    "feature_1"
   ]
  },
  {
   "cell_type": "code",
   "execution_count": null,
   "metadata": {},
   "outputs": [],
   "source": [
    "target_feature=['target']\n",
    "var_features=train_df.columns.tolist()[2:]"
   ]
  },
  {
   "cell_type": "code",
   "execution_count": null,
   "metadata": {},
   "outputs": [],
   "source": [
    "# split data into train and test sets  \n",
    "train, test = train_test_split(train_df, test_size=0.33,random_state=random.randint(1,1e5))\n",
    "train.head()"
   ]
  },
  {
   "cell_type": "code",
   "execution_count": null,
   "metadata": {},
   "outputs": [],
   "source": [
    "\n",
    "gc.collect()"
   ]
  },
  {
   "cell_type": "code",
   "execution_count": null,
   "metadata": {},
   "outputs": [],
   "source": [
    "# Hyperparameter grid\n",
    "param_base = {\n",
    "    'metric':'auc',\n",
    "    'max_depth':3,\n",
    "    'objective': 'binary', \n",
    "    'verbosity': 1\n",
    "}"
   ]
  },
  {
   "cell_type": "code",
   "execution_count": null,
   "metadata": {},
   "outputs": [],
   "source": []
  },
  {
   "cell_type": "code",
   "execution_count": null,
   "metadata": {},
   "outputs": [],
   "source": [
    "param = {\n",
    "    'bagging_freq': 5,          \n",
    "    'bagging_fraction': 0.23,\n",
    "    'bootstrap' :  True,\n",
    "    'bagging_with_replacement' : True,\n",
    "    'boost_from_average':'false',   \n",
    "    'boost': 'gbdt',#'dart',\n",
    "    'feature_fraction': 0.04,   \n",
    "    'learning_rate': 0.006,     \n",
    "    'max_depth': 6,\n",
    "    'num_leaves': 128-50,\n",
    "    'metric':'auc',\n",
    "    'lambda_l1':0.01, \n",
    "    'lambda_l2':0.01,\n",
    "    'min_data_in_leaf': 80,     \n",
    "    'min_sum_hessian_in_leaf': 10.0,'num_leaves': 13,           \n",
    "    'num_threads': 8,\n",
    "    'tree_learner': 'serial',\n",
    "    #'max_bin': 40,\n",
    "    'objective': 'binary', \n",
    "    'is_unbalance': 'true',\n",
    "    'verbosity': 1\n",
    "}\n"
   ]
  },
  {
   "cell_type": "code",
   "execution_count": null,
   "metadata": {},
   "outputs": [],
   "source": [
    "feature_1"
   ]
  },
  {
   "cell_type": "code",
   "execution_count": null,
   "metadata": {},
   "outputs": [],
   "source": [
    "num_round = 1000000\n",
    "features=train.columns[2:]\n",
    "target=train['target']\n",
    "train, test = train_test_split(train_df, test_size=0.33,random_state=random.randint(1,1e5))\n",
    "\n",
    "trn_data=lgb.Dataset(train[features],label=train['target'])\n",
    "val_data=lgb.Dataset(test[features],label=test['target'])\n",
    "\n",
    "clf=lgb.train(param, trn_data,num_round, valid_sets = [trn_data, val_data], verbose_eval=1000, \n",
    "              early_stopping_rounds = 1500)"
   ]
  },
  {
   "cell_type": "code",
   "execution_count": null,
   "metadata": {},
   "outputs": [],
   "source": [
    "def get_lgb_imp_df(model,features):\n",
    "    imp = pd.DataFrame(sorted(zip(model.feature_importance(),features)),\n",
    "                               columns=['importance','Feature'])\n",
    "    imp['importance']=imp.index.values\n",
    "    return (imp)\n",
    "importance_df = get_lgb_imp_df(clf,features) # get xgboost importances in dataframe\n",
    "stats = pd.merge(stats, importance_df, how='left', on='Feature')\n",
    "stats['importance'] = stats['importance'].fillna(0)"
   ]
  },
  {
   "cell_type": "code",
   "execution_count": null,
   "metadata": {},
   "outputs": [],
   "source": []
  },
  {
   "cell_type": "code",
   "execution_count": null,
   "metadata": {},
   "outputs": [],
   "source": [
    "list(stats[(stats['Trend_correlation']<0.95) & (stats['importance']<40)]['Feature'])"
   ]
  },
  {
   "cell_type": "code",
   "execution_count": null,
   "metadata": {},
   "outputs": [],
   "source": [
    "noisy = list(stats[(stats['Trend_correlation']<0.95) & (stats['importance']<60)]['Feature'])\n",
    "len(noisy)"
   ]
  },
  {
   "cell_type": "code",
   "execution_count": null,
   "metadata": {},
   "outputs": [],
   "source": [
    "trn_data_1=lgb.Dataset(train[features].drop(noisy, axis=1),label=train['target'])\n",
    "val_data_1=lgb.Dataset(test[features].drop(noisy, axis=1),label=test['target'])\n",
    "\n",
    "clf_1=lgb.train(param, trn_data_1,num_round, valid_sets = [trn_data_1, val_data_1], verbose_eval=1000, \n",
    "              early_stopping_rounds = 1500)"
   ]
  },
  {
   "cell_type": "code",
   "execution_count": null,
   "metadata": {},
   "outputs": [],
   "source": [
    "lgb.plot_importance(clf, max_num_features=40, importance_type='split',figsize=(12,10))"
   ]
  },
  {
   "cell_type": "code",
   "execution_count": null,
   "metadata": {},
   "outputs": [],
   "source": [
    "plt.hist(clf.predict(test_df[features]))"
   ]
  },
  {
   "cell_type": "code",
   "execution_count": null,
   "metadata": {},
   "outputs": [],
   "source": [
    "sub=pd.read_csv(\"input/sample_submission.csv\")"
   ]
  },
  {
   "cell_type": "code",
   "execution_count": null,
   "metadata": {},
   "outputs": [],
   "source": [
    "sub['target']=clf.predict(test_df[features].drop(noisy, axis=1)\n",
    "sub.to_csv(\"output/featexp.csv\",index=False)"
   ]
  }
 ],
 "metadata": {
  "kernelspec": {
   "display_name": "Python 3",
   "language": "python",
   "name": "python3"
  },
  "language_info": {
   "codemirror_mode": {
    "name": "ipython",
    "version": 3
   },
   "file_extension": ".py",
   "mimetype": "text/x-python",
   "name": "python",
   "nbconvert_exporter": "python",
   "pygments_lexer": "ipython3",
   "version": "3.6.5"
  },
  "toc": {
   "colors": {
    "hover_highlight": "#DAA520",
    "navigate_num": "#000000",
    "navigate_text": "#333333",
    "running_highlight": "#FF0000",
    "selected_highlight": "#FFD700",
    "sidebar_border": "#EEEEEE",
    "wrapper_background": "#FFFFFF"
   },
   "moveMenuLeft": true,
   "nav_menu": {
    "height": "12px",
    "width": "252px"
   },
   "navigate_menu": true,
   "number_sections": true,
   "sideBar": true,
   "threshold": 4,
   "toc_cell": false,
   "toc_section_display": "block",
   "toc_window_display": false,
   "widenNotebook": false
  }
 },
 "nbformat": 4,
 "nbformat_minor": 2
}
