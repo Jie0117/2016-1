{
 "cells": [
  {
   "cell_type": "markdown",
   "metadata": {},
   "source": [
    "Feature Engineering (FE)\n",
    "===\n",
    "Magic, secret behind the data, would help to classify the true.\n",
    "\n",
    "1. [Classify which ones are true or fake data](#Magic-1,-divide-real-and-fake-test-samples)\n",
    "- [Calculate Counts for each Unique Value](#Magic-frequency-counts)\n",
    "- [Concatenate outputs]()"
   ]
  },
  {
   "cell_type": "code",
   "execution_count": 1,
   "metadata": {},
   "outputs": [],
   "source": [
    "import matplotlib.pyplot as plt\n",
    "import pandas as pd\n",
    "import numpy as np\n",
    "from tqdm import tqdm,tqdm_notebook\n",
    "\n",
    "import seaborn as sns\n",
    "%matplotlib inline"
   ]
  },
  {
   "cell_type": "code",
   "execution_count": 2,
   "metadata": {},
   "outputs": [
    {
     "name": "stderr",
     "output_type": "stream",
     "text": [
      "/Users/cch/anaconda36/anaconda/lib/python3.6/site-packages/lightgbm/__init__.py:46: UserWarning: Starting from version 2.2.1, the library file in distribution wheels for macOS is built by the Apple Clang (Xcode_8.3.3) compiler.\n",
      "This means that in case of installing LightGBM from PyPI via the ``pip install lightgbm`` command, you don't need to install the gcc compiler anymore.\n",
      "Instead of that, you need to install the OpenMP library, which is required for running LightGBM on the system with the Apple Clang compiler.\n",
      "You can install the OpenMP library by the following command: ``brew install libomp``.\n",
      "  \"You can install the OpenMP library by the following command: ``brew install libomp``.\", UserWarning)\n"
     ]
    }
   ],
   "source": [
    "import random,gc\n",
    "import lightgbm as lgb\n",
    "from sklearn import preprocessing\n",
    "from sklearn.metrics import mean_squared_error\n",
    "from sklearn.metrics import roc_auc_score,accuracy_score\n",
    "from sklearn.ensemble import RandomForestClassifier\n",
    "from sklearn.model_selection import StratifiedKFold,train_test_split,cross_validate\n",
    "import os,datetime\n",
    "\n",
    "import warnings,random\n",
    "warnings.filterwarnings('ignore')"
   ]
  },
  {
   "cell_type": "code",
   "execution_count": 3,
   "metadata": {},
   "outputs": [],
   "source": [
    "#Reference  the bottom\n",
    "\n",
    "W  = '\\033[0m'  # white (normal)\n",
    "R  = '\\033[31m' # red\n",
    "G  = '\\033[32m' # green\n",
    "O  = '\\033[1;33m' # orange\n",
    "B  = '\\033[34m' # blue\n",
    "P  = '\\033[35m' # purple\n",
    "\n",
    "T =  '\\033[1;33;47m' #Title"
   ]
  },
  {
   "cell_type": "code",
   "execution_count": 4,
   "metadata": {},
   "outputs": [],
   "source": [
    "train_df = pd.read_csv('input/train.csv')\n",
    "test_df = pd.read_csv('input/test.csv')\n",
    "\n",
    "features=train_df.columns[2:]"
   ]
  },
  {
   "cell_type": "code",
   "execution_count": 5,
   "metadata": {},
   "outputs": [
    {
     "data": {
      "text/plain": [
       "786"
      ]
     },
     "execution_count": 5,
     "metadata": {},
     "output_type": "execute_result"
    }
   ],
   "source": [
    "import gc \n",
    "gc.collect()"
   ]
  },
  {
   "cell_type": "markdown",
   "metadata": {},
   "source": [
    "1st Sol\n",
    "---\n",
    "1. Feature Engineering, Technical part:\n",
    "\n",
    "The \"magic\" is about count of values, especially the fact that some are unique. We created 200 (one per raw feature) categorical features, let's call them \"has one feat\", with 5 categories that corresponds (for train data) to:\n",
    "- This value appears at least another time in data with target==1 and no 0;\n",
    "- This value appears at least another time in data with target==0 and no 1;\n",
    "- This value appears at least two more time in data with target==0 & 1;\n",
    "- This value is unique in data;\n",
    "- This value is unique in data + test (only including real test samples);\n",
    "\n",
    "The other 200 (one per raw feature) features are numerical, let's call them \"not unique feat\", and correspond to the raw feature replacing values that are unique in data + test with the mean of the feature.\n",
    "\n",
    "\n",
    "\n",
    "\n",
    "2nd Sol\n",
    "---\n",
    "1. <del>remove fake from test</del>\n",
    "- concat train and test, and then invert some of features\n",
    "- standard scaling\n",
    "- count encoding\n",
    "- count round encoding\n",
    "- unpivot all vars(so we have 200k x 200 = 4m train samples)\n",
    "- train and predict\n",
    "- convert prediction(200k x 200) into odds. We used (9 * p / 1 - p)\n"
   ]
  },
  {
   "cell_type": "markdown",
   "metadata": {},
   "source": [
    "Magics\n",
    "===\n",
    "Basic Magic\n",
    "---\n",
    "This competition converts all the features data into certain `unknown` distributed data. As common sense, correlation between new feature and `target` might be positive to negative; to prevant overfiiting in train stage, for instance lightgbm model, we would rather change the data in each feature in positive `correlated` with target feature.  \n",
    "\n",
    "\n",
    "Magic 1, divide real and fake test samples\n",
    "---\n",
    "\n",
    "```\n",
    "features   f0, f1, f2, ...\n",
    "  data\n",
    "   d0       \n",
    "   d1      ⬇︎\n",
    "   d2\n",
    "   :\n",
    "``` \n",
    "1. Only data, owning unique value, could be real there, otherwise were duplicated for test with large probability, by ```np.unique()```; and save it to ```unique_count = [row × column]```\n",
    "- U = `np.sum(unique_count, axis=1)` gives array of uniques for each data\n",
    "```\n",
    "for instance, U = [ 0, 1, 0, 1       [ 2\n",
    "                    0, 0, 0, 0    ➠     0\n",
    "                    0, 1, 1, 1           3 \n",
    "                    0, 0, 0, 0           0\n",
    "                    ...]               ...]\n",
    "```\n",
    "- `np.argwhere(U > 0)[:, 0]` gives all the indecies of data, owing at least one uniques value.\n",
    "```\n",
    "   [ 2,\n",
    "     0,     ➠ [0,2,...]\n",
    "     3,\n",
    "     0,\n",
    "     ...]    \n",
    "```\n"
   ]
  },
  {
   "cell_type": "code",
   "execution_count": 8,
   "metadata": {},
   "outputs": [],
   "source": [
    "def corrlated_same(train,test,features,target):\n",
    "    rev=[]\n",
    "    for var in tqdm_notebook(features):\n",
    "        if np.corrcoef( train[target], train[var] )[1][0] < 0:\n",
    "           train[var] = train[var] * -1\n",
    "           test_df[var]  = test_df[var]  * -1\n",
    "           rev=np.append(rev,var) \n",
    "    return train,test,rev    "
   ]
  },
  {
   "cell_type": "code",
   "execution_count": 9,
   "metadata": {},
   "outputs": [
    {
     "data": {
      "application/vnd.jupyter.widget-view+json": {
       "model_id": "6beefdacd9d64902985e674cc304d528",
       "version_major": 2,
       "version_minor": 0
      },
      "text/plain": [
       "HBox(children=(IntProgress(value=0, max=200), HTML(value='')))"
      ]
     },
     "metadata": {},
     "output_type": "display_data"
    },
    {
     "name": "stdout",
     "output_type": "stream",
     "text": [
      "\n"
     ]
    }
   ],
   "source": [
    "train_df,test_df,rev_var=corrlated_same(train_df,test_df,features,'target')"
   ]
  },
  {
   "cell_type": "code",
   "execution_count": 10,
   "metadata": {},
   "outputs": [
    {
     "data": {
      "text/plain": [
       "array(['var_7', 'var_9', 'var_10', 'var_12', 'var_13', 'var_14', 'var_20',\n",
       "       'var_21', 'var_23', 'var_27', 'var_28', 'var_31', 'var_33',\n",
       "       'var_34', 'var_36', 'var_39', 'var_41', 'var_42', 'var_43',\n",
       "       'var_44', 'var_45', 'var_50', 'var_54', 'var_56', 'var_57',\n",
       "       'var_58', 'var_59', 'var_63', 'var_64', 'var_68', 'var_72',\n",
       "       'var_73', 'var_75', 'var_76', 'var_77', 'var_80', 'var_81',\n",
       "       'var_83', 'var_85', 'var_86', 'var_87', 'var_88', 'var_92',\n",
       "       'var_93', 'var_98', 'var_101', 'var_102', 'var_103', 'var_104',\n",
       "       'var_107', 'var_108', 'var_109', 'var_113', 'var_114', 'var_115',\n",
       "       'var_116', 'var_120', 'var_121', 'var_122', 'var_123', 'var_127',\n",
       "       'var_129', 'var_131', 'var_132', 'var_136', 'var_139', 'var_141',\n",
       "       'var_142', 'var_143', 'var_146', 'var_148', 'var_149', 'var_150',\n",
       "       'var_152', 'var_153', 'var_154', 'var_156', 'var_158', 'var_160',\n",
       "       'var_165', 'var_166', 'var_169', 'var_172', 'var_174', 'var_177',\n",
       "       'var_178', 'var_182', 'var_183', 'var_186', 'var_188', 'var_192',\n",
       "       'var_193', 'var_194', 'var_197', 'var_198'], dtype='<U32')"
      ]
     },
     "execution_count": 10,
     "metadata": {},
     "output_type": "execute_result"
    }
   ],
   "source": [
    "rev_var"
   ]
  },
  {
   "cell_type": "code",
   "execution_count": 11,
   "metadata": {
    "code_folding": []
   },
   "outputs": [],
   "source": [
    "def unique_val_found(data_val):\n",
    "    \"\"\"\n",
    "    input numpy array of data: data_val\n",
    "    output: real_ind, fake_ind \n",
    "    \"\"\"\n",
    "    unique_samples = []\n",
    "    unique_count = np.zeros_like(data_val)\n",
    "    for feature in tqdm_notebook(range(data_val.shape[1])):\n",
    "        # Filter out all the pair of (index,count)\n",
    "        _, index_, count_ = np.unique(data_val[:, feature], return_counts=True, return_index=True)\n",
    "        unique_count[index_[count_ == 1], feature] += 1\n",
    "\n",
    "    # Samples which have unique values are real, or are fake\n",
    "    real_ind = np.argwhere(np.sum(unique_count, axis=1) > 0)[:, 0]\n",
    "    fake_ind = np.argwhere(np.sum(unique_count, axis=1) == 0)[:, 0]\n",
    "    r_n=len(real_ind)\n",
    "    f_n=len(fake_ind)\n",
    "    r_ratio=r_n/data_val.shape[0]\n",
    "    print(\"no. of real samples: %s\\nno. of fake samples: %s\\nratio of real samples: %s\" %(r_n,f_n,r_ratio))\n",
    "    return real_ind,fake_ind\n",
    "    "
   ]
  },
  {
   "cell_type": "code",
   "execution_count": 12,
   "metadata": {},
   "outputs": [
    {
     "data": {
      "application/vnd.jupyter.widget-view+json": {
       "model_id": "50a29d65da8d4d44bff50c57186ad953",
       "version_major": 2,
       "version_minor": 0
      },
      "text/plain": [
       "HBox(children=(IntProgress(value=0, max=200), HTML(value='')))"
      ]
     },
     "metadata": {},
     "output_type": "display_data"
    },
    {
     "name": "stdout",
     "output_type": "stream",
     "text": [
      "\n",
      "no. of real samples: 200000\n",
      "no. of fake samples: 0\n",
      "ratio of real samples: 1.0\n"
     ]
    }
   ],
   "source": [
    "trn_=train_df.drop(['ID_code','target'], axis=1).values\n",
    "\n",
    "trn_real_ind,trn_fake_ind=unique_val_found(trn_)"
   ]
  },
  {
   "cell_type": "code",
   "execution_count": 13,
   "metadata": {},
   "outputs": [
    {
     "data": {
      "application/vnd.jupyter.widget-view+json": {
       "model_id": "8ed83ce54aa14289afd936584a421c40",
       "version_major": 2,
       "version_minor": 0
      },
      "text/plain": [
       "HBox(children=(IntProgress(value=0, max=200), HTML(value='')))"
      ]
     },
     "metadata": {},
     "output_type": "display_data"
    },
    {
     "name": "stdout",
     "output_type": "stream",
     "text": [
      "\n",
      "no. of real samples: 100000\n",
      "no. of fake samples: 100000\n",
      "ratio of real samples: 0.5\n"
     ]
    }
   ],
   "source": [
    "te_=test_df.drop(['ID_code'], axis=1).values\n",
    "\n",
    "te_real_ind,te_fake_ind=unique_val_found(te_)"
   ]
  },
  {
   "cell_type": "markdown",
   "metadata": {},
   "source": [
    "Magic frequency counts\n",
    "---\n",
    "After filtering out true data in test set as above, delete the fake ones; and "
   ]
  },
  {
   "cell_type": "code",
   "execution_count": 14,
   "metadata": {},
   "outputs": [],
   "source": [
    "features = train_df.columns[2:]\n",
    "\n",
    "X_train=train_df[features].copy()\n",
    "y_train=train_df.target.values\n",
    "X_test = test_df[features].copy()\n",
    "X_real_test = X_test.iloc[te_real_ind]"
   ]
  },
  {
   "cell_type": "code",
   "execution_count": 15,
   "metadata": {},
   "outputs": [
    {
     "data": {
      "text/plain": [
       "((200000, 200), (200000,), (200000, 200), (100000, 200))"
      ]
     },
     "execution_count": 15,
     "metadata": {},
     "output_type": "execute_result"
    }
   ],
   "source": [
    "X_train.shape, y_train.shape, X_test.shape, X_real_test.shape"
   ]
  },
  {
   "cell_type": "markdown",
   "metadata": {},
   "source": [
    "1. `df.value_counts()` gives the value (tmp) with frequency as follows:\n",
    "```\n",
    "  feature     frequency\n",
    "     a           n1\n",
    "     b           n2\n",
    "     ...\n",
    "``` \n",
    "2. df.map(tmp) maps value to its frequency; here clip by 6, the biggest."
   ]
  },
  {
   "cell_type": "code",
   "execution_count": 16,
   "metadata": {},
   "outputs": [],
   "source": [
    "def freq_count(train,test,real_test,cut=6):\n",
    "    \"\"\"\n",
    "    input: train,test,real_test, cuts (opt)\n",
    "    output: train,test (with new freq_count features), array of new features\n",
    "    \"\"\"\n",
    "    count_cols = []\n",
    "    features=train.columns\n",
    "    for c in tqdm_notebook(features):\n",
    "        count_col = c+'_count'\n",
    "        tmp = pd.concat((train[c], real_test[c])).value_counts()\n",
    "        # mean of target is small \n",
    "        train[count_col] = train[c].map(tmp).clip(0, cut)\n",
    "        test[count_col] = test[c].map(tmp).clip(0, cut).fillna(1)\n",
    "        count_cols.append(count_col)\n",
    "    print(\"%s features before, %s features after...\" %(len(features),len(train.columns)))   \n",
    "    return train,test,count_cols  "
   ]
  },
  {
   "cell_type": "code",
   "execution_count": 17,
   "metadata": {},
   "outputs": [
    {
     "data": {
      "application/vnd.jupyter.widget-view+json": {
       "model_id": "b220eb0da9e84728918fc469f2642f1b",
       "version_major": 2,
       "version_minor": 0
      },
      "text/plain": [
       "HBox(children=(IntProgress(value=0, max=200), HTML(value='')))"
      ]
     },
     "metadata": {},
     "output_type": "display_data"
    },
    {
     "name": "stdout",
     "output_type": "stream",
     "text": [
      "\n",
      "200 features before, 400 features after...\n"
     ]
    }
   ],
   "source": [
    "XX_train,XX_test,cols_new=freq_count(X_train,X_test,X_real_test)"
   ]
  },
  {
   "cell_type": "code",
   "execution_count": 18,
   "metadata": {},
   "outputs": [
    {
     "data": {
      "text/plain": [
       "400"
      ]
     },
     "execution_count": 18,
     "metadata": {},
     "output_type": "execute_result"
    }
   ],
   "source": [
    "len(XX_train.columns)"
   ]
  },
  {
   "cell_type": "code",
   "execution_count": null,
   "metadata": {},
   "outputs": [],
   "source": []
  },
  {
   "cell_type": "markdown",
   "metadata": {},
   "source": [
    "Single model Training\n",
    "---"
   ]
  },
  {
   "cell_type": "code",
   "execution_count": 22,
   "metadata": {},
   "outputs": [],
   "source": [
    "param = {\n",
    "    'bagging_freq': 5,          \n",
    "    'bagging_fraction': 0.23+0.77,\n",
    "    'bootstrap' :  True,\n",
    "    'bagging_with_replacement' : True,\n",
    "    'boost_from_average':'false',   \n",
    "    'boost': 'gbdt',#'dart',\n",
    "    # The var_count have to be considered together, turn the fraction BE 1!\n",
    "    'feature_fraction': 0.04+0.06+0.9,   \n",
    "    'learning_rate': 0.006,     \n",
    "    'max_depth': -1,\n",
    "    'num_leaves': 64,\n",
    "    'metric':'auc',#'binary_logloss',\n",
    "    'lambda_l1':0.01, \n",
    "    'lambda_l2':0.01*100,\n",
    "    'min_data_in_leaf': 80,     \n",
    "    'min_sum_hessian_in_leaf': 10.0,\n",
    "    'num_leaves': 13-10,           \n",
    "    'num_threads': 8,\n",
    "    'tree_learner': 'serial',\n",
    "    #'max_bin': 40,\n",
    "    'objective': 'binary', \n",
    "    'is_unbalance': 'true',\n",
    "    'verbosity': 1\n",
    "}\n"
   ]
  },
  {
   "cell_type": "code",
   "execution_count": 23,
   "metadata": {},
   "outputs": [
    {
     "name": "stdout",
     "output_type": "stream",
     "text": [
      "Training until validation scores don't improve for 500 rounds.\n",
      "[1000]\ttraining's auc: 0.7966\tvalid_1's auc: 0.788033\n",
      "[2000]\ttraining's auc: 0.833723\tvalid_1's auc: 0.823044\n",
      "[3000]\ttraining's auc: 0.853944\tvalid_1's auc: 0.84179\n",
      "[4000]\ttraining's auc: 0.86697\tvalid_1's auc: 0.853711\n",
      "[5000]\ttraining's auc: 0.876354\tvalid_1's auc: 0.862308\n",
      "[6000]\ttraining's auc: 0.883313\tvalid_1's auc: 0.868575\n",
      "[7000]\ttraining's auc: 0.889101\tvalid_1's auc: 0.873841\n",
      "[8000]\ttraining's auc: 0.893801\tvalid_1's auc: 0.878002\n",
      "[9000]\ttraining's auc: 0.897833\tvalid_1's auc: 0.881615\n",
      "[10000]\ttraining's auc: 0.901266\tvalid_1's auc: 0.884602\n",
      "[11000]\ttraining's auc: 0.904249\tvalid_1's auc: 0.887247\n",
      "[12000]\ttraining's auc: 0.906905\tvalid_1's auc: 0.889623\n",
      "[13000]\ttraining's auc: 0.909255\tvalid_1's auc: 0.89162\n",
      "[14000]\ttraining's auc: 0.911353\tvalid_1's auc: 0.893419\n",
      "[15000]\ttraining's auc: 0.913315\tvalid_1's auc: 0.895086\n",
      "[16000]\ttraining's auc: 0.915071\tvalid_1's auc: 0.896576\n",
      "[17000]\ttraining's auc: 0.916677\tvalid_1's auc: 0.897946\n",
      "[18000]\ttraining's auc: 0.918156\tvalid_1's auc: 0.899183\n",
      "[19000]\ttraining's auc: 0.919498\tvalid_1's auc: 0.900316\n",
      "[20000]\ttraining's auc: 0.920753\tvalid_1's auc: 0.901335\n",
      "[21000]\ttraining's auc: 0.921903\tvalid_1's auc: 0.902238\n",
      "[22000]\ttraining's auc: 0.922979\tvalid_1's auc: 0.90305\n",
      "[23000]\ttraining's auc: 0.923981\tvalid_1's auc: 0.903774\n",
      "[24000]\ttraining's auc: 0.924956\tvalid_1's auc: 0.904489\n",
      "[25000]\ttraining's auc: 0.925884\tvalid_1's auc: 0.905132\n",
      "[26000]\ttraining's auc: 0.926766\tvalid_1's auc: 0.905691\n",
      "[27000]\ttraining's auc: 0.927638\tvalid_1's auc: 0.906232\n",
      "[28000]\ttraining's auc: 0.928481\tvalid_1's auc: 0.906705\n",
      "[29000]\ttraining's auc: 0.929308\tvalid_1's auc: 0.907145\n",
      "[30000]\ttraining's auc: 0.930101\tvalid_1's auc: 0.907554\n",
      "[31000]\ttraining's auc: 0.930868\tvalid_1's auc: 0.907934\n",
      "[32000]\ttraining's auc: 0.931622\tvalid_1's auc: 0.90829\n",
      "[33000]\ttraining's auc: 0.932342\tvalid_1's auc: 0.908628\n",
      "[34000]\ttraining's auc: 0.933056\tvalid_1's auc: 0.908911\n",
      "[35000]\ttraining's auc: 0.933741\tvalid_1's auc: 0.909179\n",
      "[36000]\ttraining's auc: 0.934417\tvalid_1's auc: 0.909412\n",
      "[37000]\ttraining's auc: 0.935076\tvalid_1's auc: 0.909654\n",
      "[38000]\ttraining's auc: 0.935724\tvalid_1's auc: 0.909842\n",
      "[39000]\ttraining's auc: 0.936353\tvalid_1's auc: 0.91002\n",
      "[40000]\ttraining's auc: 0.936969\tvalid_1's auc: 0.91019\n",
      "[41000]\ttraining's auc: 0.937569\tvalid_1's auc: 0.910348\n",
      "[42000]\ttraining's auc: 0.938163\tvalid_1's auc: 0.910496\n",
      "[43000]\ttraining's auc: 0.938742\tvalid_1's auc: 0.910636\n",
      "[44000]\ttraining's auc: 0.93931\tvalid_1's auc: 0.910747\n",
      "[45000]\ttraining's auc: 0.939868\tvalid_1's auc: 0.910853\n",
      "[46000]\ttraining's auc: 0.940416\tvalid_1's auc: 0.910948\n",
      "[47000]\ttraining's auc: 0.940957\tvalid_1's auc: 0.91106\n",
      "[48000]\ttraining's auc: 0.941484\tvalid_1's auc: 0.911148\n",
      "[49000]\ttraining's auc: 0.94201\tvalid_1's auc: 0.911228\n",
      "[50000]\ttraining's auc: 0.942534\tvalid_1's auc: 0.911292\n",
      "[51000]\ttraining's auc: 0.94304\tvalid_1's auc: 0.911337\n",
      "[52000]\ttraining's auc: 0.943539\tvalid_1's auc: 0.911397\n",
      "[53000]\ttraining's auc: 0.944027\tvalid_1's auc: 0.91144\n",
      "[54000]\ttraining's auc: 0.944508\tvalid_1's auc: 0.911479\n",
      "[55000]\ttraining's auc: 0.944986\tvalid_1's auc: 0.9115\n",
      "Early stopping, best iteration is:\n",
      "[54812]\ttraining's auc: 0.944894\tvalid_1's auc: 0.911507\n"
     ]
    }
   ],
   "source": [
    "# with Magics\n",
    "num_round = 1000000\n",
    "features_m=X_train.columns.values\n",
    "target=train_df['target']\n",
    "train, test = train_test_split(X_train, test_size=0.2,random_state=random.randint(1,1e5))\n",
    "\n",
    "trn_data=lgb.Dataset(train[features_m],label=target.iloc[train.index])\n",
    "val_data=lgb.Dataset(test[features_m],label=target.iloc[test.index])\n",
    "\n",
    "clf=lgb.train(param, trn_data,num_round, valid_sets = [trn_data, val_data], verbose_eval=1000, \n",
    "              early_stopping_rounds = 500)"
   ]
  },
  {
   "cell_type": "code",
   "execution_count": null,
   "metadata": {},
   "outputs": [],
   "source": []
  },
  {
   "cell_type": "code",
   "execution_count": null,
   "metadata": {},
   "outputs": [],
   "source": []
  },
  {
   "cell_type": "markdown",
   "metadata": {},
   "source": [
    "Grouped Training Model\n",
    "---\n",
    "Training by pair, `(var_n,var_n_count)`, total 200 sets; and blend all the results into one:"
   ]
  },
  {
   "cell_type": "code",
   "execution_count": 19,
   "metadata": {
    "code_folding": []
   },
   "outputs": [],
   "source": [
    "def individual_ml_model(train,target,test,param=\"\",fname='model'):\n",
    "    # ckech whether the saved directory exists , create it if not\n",
    "    directory=\"submissions/grouped/\"+fname\n",
    "    nseed=1\n",
    "    if not os.path.exists(directory):\n",
    "       os.makedirs(directory) \n",
    "    \n",
    "    # save result in name of scheme\n",
    "    now = datetime.datetime.now()\n",
    "    now = str(now.strftime('%Y-%m-%d-%H-%M-%S'))\n",
    "    print('started at:', now)\n",
    "    print(\"train set shape: \",train.shape, \", test set shape: \",test.shape)\n",
    "    print(\"Features: \", train.columns.values)\n",
    "    #fname = directory'_'+now\n",
    "    if True:\n",
    "       x_train = train.copy()#[[c, count]].copy()\n",
    "       y_train = target\n",
    "       x_test = test.copy()#[[c, count]].copy()\n",
    "       result=model_lgb(x_train,y_train,x_test,param=param,directory=directory)\n",
    "       # result=model_lgb(x_train,y_train,x_test,param=param,directory=directory)\n",
    "    return result    "
   ]
  },
  {
   "cell_type": "code",
   "execution_count": 20,
   "metadata": {},
   "outputs": [],
   "source": [
    "def model_lgb(train,target,test,param=\"\",directory=\"submissions/grouped\"):\n",
    "    if not param:\n",
    "       param = {\n",
    "         'bagging_freq': 5,          \n",
    "         'bagging_fraction': 1,\n",
    "         'bootstrap' :  True,\n",
    "         'bagging_with_replacement' : True,\n",
    "         'boost_from_average':'false',   \n",
    "         'boost': 'gbdt',\n",
    "         # The var_count have to be considered together, turn the fraction BE 1!\n",
    "         'feature_fraction': 1,   \n",
    "         'learning_rate': 0.01,     \n",
    "         'max_depth': 2,\n",
    "         'num_leaves': 3,\n",
    "         'metric':'binary_logloss',\n",
    "         'lambda_l1':0.01, \n",
    "         'lambda_l2':2,\n",
    "         'min_data_in_leaf': 80,     \n",
    "         'min_sum_hessian_in_leaf': 10.0,          \n",
    "         'num_threads': 8,\n",
    "         'tree_learner': 'serial',\n",
    "         #'max_bin': 40,\n",
    "         'objective': 'binary', \n",
    "         'verbosity': 1,\n",
    "       }\n",
    "        \n",
    "    num_round = 1000000\n",
    "    features=train.columns.values\n",
    "    target=target\n",
    "                \n",
    "    trn, te_ = train_test_split(train, test_size=0.2,random_state=random.randint(1,1e5))\n",
    "\n",
    "    trn_data=lgb.Dataset(trn[features],label=target.iloc[trn.index])\n",
    "    val_data=lgb.Dataset(te_[features],label=target.iloc[te_.index])\n",
    "\n",
    "    clf=lgb.train(param, trn_data,num_round, valid_sets = [trn_data, val_data], verbose_eval=1000, \n",
    "                 early_stopping_rounds = 500)\n",
    "    train_pred=clf.predict(train[features]) \n",
    "    print('%s train auc: %0.5f' % (features,fast_auc(target, train_pred)), end=' ')\n",
    "    test_pred=clf.predict(test[features])\n",
    "    sub=pd.read_csv(\"input/sample_submission.csv\")\n",
    "    sub['target']=test_pred\n",
    "    saved_fold=directory+\"/\"+c+\".csv\"\n",
    "    sub.to_csv(saved_fold,index=False)\n",
    "\n",
    "    print(\"\\n\\n   *** train/prediction end, output saved as \",directory+\"/\"+c+\".csv\",' ...' )\n",
    "    return test_pred"
   ]
  },
  {
   "cell_type": "code",
   "execution_count": null,
   "metadata": {},
   "outputs": [],
   "source": []
  },
  {
   "cell_type": "code",
   "execution_count": null,
   "metadata": {},
   "outputs": [],
   "source": [
    "final=np.array([])\n",
    "size=len(features)\n",
    "target=y_train\n",
    "\n",
    "for c, count in zip(tqdm_notebook(features[:size]), cols_new[:size]):\n",
    "    print(T+R+\"(%s,%s) Train/Test\\n\" %(c,count))\n",
    "    print(W+\"===\")\n",
    "    x_train_1 = X_train[[c, count]].copy()\n",
    "    y_train = target\n",
    "    x_test_1 = X_test[[c, count]].copy()\n",
    "    f=individual_ml_model(x_train_1,y_train,x_test_1)\n",
    "    final=np.append(final,f)\n",
    "    print(\"\\n ===\\n\" )"
   ]
  },
  {
   "cell_type": "code",
   "execution_count": 307,
   "metadata": {},
   "outputs": [
    {
     "data": {
      "text/html": [
       "<div>\n",
       "<style scoped>\n",
       "    .dataframe tbody tr th:only-of-type {\n",
       "        vertical-align: middle;\n",
       "    }\n",
       "\n",
       "    .dataframe tbody tr th {\n",
       "        vertical-align: top;\n",
       "    }\n",
       "\n",
       "    .dataframe thead th {\n",
       "        text-align: right;\n",
       "    }\n",
       "</style>\n",
       "<table border=\"1\" class=\"dataframe\">\n",
       "  <thead>\n",
       "    <tr style=\"text-align: right;\">\n",
       "      <th></th>\n",
       "      <th>ID_code</th>\n",
       "      <th>target</th>\n",
       "    </tr>\n",
       "  </thead>\n",
       "  <tbody>\n",
       "    <tr>\n",
       "      <th>0</th>\n",
       "      <td>test_0</td>\n",
       "      <td>0.0</td>\n",
       "    </tr>\n",
       "    <tr>\n",
       "      <th>1</th>\n",
       "      <td>test_1</td>\n",
       "      <td>0.0</td>\n",
       "    </tr>\n",
       "    <tr>\n",
       "      <th>2</th>\n",
       "      <td>test_2</td>\n",
       "      <td>0.0</td>\n",
       "    </tr>\n",
       "    <tr>\n",
       "      <th>3</th>\n",
       "      <td>test_3</td>\n",
       "      <td>0.0</td>\n",
       "    </tr>\n",
       "    <tr>\n",
       "      <th>4</th>\n",
       "      <td>test_4</td>\n",
       "      <td>0.0</td>\n",
       "    </tr>\n",
       "  </tbody>\n",
       "</table>\n",
       "</div>"
      ],
      "text/plain": [
       "  ID_code  target\n",
       "0  test_0     0.0\n",
       "1  test_1     0.0\n",
       "2  test_2     0.0\n",
       "3  test_3     0.0\n",
       "4  test_4     0.0"
      ]
     },
     "execution_count": 307,
     "metadata": {},
     "output_type": "execute_result"
    }
   ],
   "source": [
    "# reshape all the data and save the data for submission\n",
    "final=final.reshape(size,200000)\n",
    "final.mean(axis=0)\n",
    "sub=pd.read_csv(\"input/sample_submission.csv\")\n",
    "sub['target']=final.mean(axis=0)\n",
    "\n",
    "sub.head()"
   ]
  },
  {
   "cell_type": "code",
   "execution_count": 276,
   "metadata": {},
   "outputs": [],
   "source": [
    "param_m =  {\n",
    "    'boosting_type': 'gbdt',\n",
    "  \"objective\"                  : \"binary\",\n",
    "  \"learning_rate\"              : 0.01,\n",
    "  \"num_leaves\"                 : 3,\n",
    "    'feature_fraction':1,\n",
    "  \"bagging_fraction\"           : 0.8,\n",
    "  \"bagging_freq\"               : 1,\n",
    "               #'min_data_in_leaf' : 80,\n",
    "               #'min_sum_hessian_in_leaf' : 10.0,\n",
    "     'nthread'                  : 20,\n",
    "    'bin_construct_sample_cnt' : 1000000,\n",
    "    'max_depth':2,\n",
    "    'lambda_l2':2,\n",
    "    'metric':'auc',\n",
    "}"
   ]
  },
  {
   "cell_type": "code",
   "execution_count": 78,
   "metadata": {},
   "outputs": [
    {
     "data": {
      "text/plain": [
       "<matplotlib.axes._subplots.AxesSubplot at 0x1236aa470>"
      ]
     },
     "execution_count": 78,
     "metadata": {},
     "output_type": "execute_result"
    },
    {
     "data": {
      "image/png": "[encoded data removed]",
      "text/plain": [
       "<Figure size 864x720 with 1 Axes>"
      ]
     },
     "metadata": {
      "needs_background": "light"
     },
     "output_type": "display_data"
    }
   ],
   "source": [
    "lgb.plot_importance(clf, max_num_features=30, importance_type='split',figsize=(12,10))"
   ]
  },
  {
   "cell_type": "code",
   "execution_count": null,
   "metadata": {},
   "outputs": [],
   "source": []
  },
  {
   "cell_type": "code",
   "execution_count": 136,
   "metadata": {},
   "outputs": [],
   "source": [
    "sub1=pd.read_csv(\"output/2019-3_22_lgb_augment_0.901_submission.csv\")\n",
    "sub2=pd.read_csv(\"output/submission-xgb_200_features.csv\")\n",
    "sub3=pd.read_csv(\"output/wavelet_without_aug_0.896.csv\")\n",
    "sub4=pd.read_csv(\"output/2019-03-16-NB_pipeline_0.889.csv\")\n",
    "sub5=pd.read_csv(\"output/submission-cat.csv\")\n"
   ]
  },
  {
   "cell_type": "code",
   "execution_count": 140,
   "metadata": {},
   "outputs": [],
   "source": [
    "sub['target']=sub1['target']*0.85+sub5['target']*0.06+sub4['target']*0.06\\\n",
    "              +sub3['target']*0.01+sub2['target']*0.01+0.01*sub['target']"
   ]
  },
  {
   "cell_type": "code",
   "execution_count": 142,
   "metadata": {},
   "outputs": [],
   "source": [
    "sub.to_csv(\"output/blend-1.csv\",index=False)"
   ]
  }
 ],
 "metadata": {
  "kernelspec": {
   "display_name": "Python 3",
   "language": "python",
   "name": "python3"
  },
  "language_info": {
   "codemirror_mode": {
    "name": "ipython",
    "version": 3
   },
   "file_extension": ".py",
   "mimetype": "text/x-python",
   "name": "python",
   "nbconvert_exporter": "python",
   "pygments_lexer": "ipython3",
   "version": "3.6.5"
  },
  "toc": {
   "colors": {
    "hover_highlight": "#DAA520",
    "navigate_num": "#000000",
    "navigate_text": "#333333",
    "running_highlight": "#FF0000",
    "selected_highlight": "#FFD700",
    "sidebar_border": "#EEEEEE",
    "wrapper_background": "#FFFFFF"
   },
   "moveMenuLeft": true,
   "nav_menu": {
    "height": "12px",
    "width": "252px"
   },
   "navigate_menu": true,
   "number_sections": true,
   "sideBar": true,
   "threshold": 4,
   "toc_cell": false,
   "toc_section_display": "block",
   "toc_window_display": false,
   "widenNotebook": false
  }
 },
 "nbformat": 4,
 "nbformat_minor": 2
}
