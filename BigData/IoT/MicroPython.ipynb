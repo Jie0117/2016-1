{
 "cells": [
  {
   "cell_type": "markdown",
   "metadata": {},
   "source": [
    "For D1 Mini ESP8266, Series USB (CH340G)\n",
    "\n",
    "1. download driver, esp8266-20190529-v1.11.bin, install\n",
    "2. driver seems not to install and find out as, `/dev/tty.usbserial-1410`\n",
    "- install esptool, `> pip install esptools` and related software, `pyboard`.\n",
    "- install firmare of micropython,\n",
    "```\n",
    "> esptool.py --port /dev/tty.usbserial-1410 erase_flash\n",
    "> esptool.py --port /dev/tty.usbserial-1410 -baud 460800 write.flash --flash_size-detect 0 esp8266-20190529-v1.11.bin\n",
    "```\n",
    "- Install Jupyter for MocroPython,\n",
    "```\n",
    "> git clone https://github.com/goatchurchprime/jupyter_micropython_kernel.git\n",
    "> pip install -e jupyter_micropython_kernel\n",
    "> python -m jupyter_micropython_kernel.install\n",
    "> jupyter kernelspec list\n",
    "```\n",
    "then start jupyter notebook"
   ]
  },
  {
   "cell_type": "code",
   "execution_count": null,
   "metadata": {},
   "outputs": [],
   "source": []
  }
 ],
 "metadata": {
  "kernelspec": {
   "display_name": "Python 3",
   "language": "python",
   "name": "python3"
  },
  "language_info": {
   "codemirror_mode": {
    "name": "ipython",
    "version": 3
   },
   "file_extension": ".py",
   "mimetype": "text/x-python",
   "name": "python",
   "nbconvert_exporter": "python",
   "pygments_lexer": "ipython3",
   "version": "3.6.5"
  },
  "toc": {
   "colors": {
    "hover_highlight": "#DAA520",
    "navigate_num": "#000000",
    "navigate_text": "#333333",
    "running_highlight": "#FF0000",
    "selected_highlight": "#FFD700",
    "sidebar_border": "#EEEEEE",
    "wrapper_background": "#FFFFFF"
   },
   "moveMenuLeft": true,
   "nav_menu": {
    "height": "12px",
    "width": "252px"
   },
   "navigate_menu": true,
   "number_sections": true,
   "sideBar": true,
   "threshold": 4,
   "toc_cell": false,
   "toc_section_display": "block",
   "toc_window_display": false,
   "widenNotebook": false
  }
 },
 "nbformat": 4,
 "nbformat_minor": 2
}
