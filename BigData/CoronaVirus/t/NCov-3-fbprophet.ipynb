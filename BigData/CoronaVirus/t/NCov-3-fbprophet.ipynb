{
 "cells": [
  {
   "cell_type": "code",
   "execution_count": null,
   "metadata": {},
   "outputs": [],
   "source": [
    "import pandas as pd\n",
    "import plotly.graph_objs as go\n",
    "import plotly.offline as py\n",
    "from plotly.offline import init_notebook_mode, plot, iplot, download_plotlyjs\n",
    "\n",
    "from fbprophet import Prophet\n",
    "from fbprophet.plot import plot_plotly, add_changepoints_to_plot"
   ]
  },
  {
   "cell_type": "code",
   "execution_count": null,
   "metadata": {},
   "outputs": [],
   "source": [
    "# extract the confirmed data for instance:\n",
    "csvfile=\"../COVID-19-master/csse_covid_19_data/csse_covid_19_time_series/time_series_19-covid-Confirmed.csv\"\n",
    "\n",
    "df=pd.read_csv(csvfile)#,index_col='Province/State')"
   ]
  },
  {
   "cell_type": "code",
   "execution_count": null,
   "metadata": {},
   "outputs": [],
   "source": [
    "df.tail()"
   ]
  },
  {
   "cell_type": "code",
   "execution_count": null,
   "metadata": {
    "scrolled": false
   },
   "outputs": [],
   "source": [
    "set(df['Country/Region'].values)\n"
   ]
  },
  {
   "cell_type": "markdown",
   "metadata": {},
   "source": [
    "Some persons said that the occurrences of Taiwan in JHU database had been recorded by the name of one region of Mainland China. Is it **True**?"
   ]
  },
  {
   "cell_type": "code",
   "execution_count": null,
   "metadata": {},
   "outputs": [],
   "source": [
    "df[df['Country/Region']=='Taiwan*']"
   ]
  },
  {
   "cell_type": "markdown",
   "metadata": {},
   "source": [
    "Self-Practicing\n",
    "---\n",
    "Try another country's data to proceed the following by yourself."
   ]
  },
  {
   "cell_type": "code",
   "execution_count": null,
   "metadata": {},
   "outputs": [],
   "source": [
    "df_germany=df[df['Country/Region']=='Germany']"
   ]
  },
  {
   "cell_type": "code",
   "execution_count": null,
   "metadata": {},
   "outputs": [],
   "source": []
  },
  {
   "cell_type": "code",
   "execution_count": null,
   "metadata": {},
   "outputs": [],
   "source": [
    "df_germany.head()"
   ]
  },
  {
   "cell_type": "markdown",
   "metadata": {},
   "source": [
    "After transpose the database, the index `52` becomes the key's name and columns more than 4 become the index of df_germany."
   ]
  },
  {
   "cell_type": "code",
   "execution_count": null,
   "metadata": {},
   "outputs": [],
   "source": [
    "df_germany=df_germany.T[4:]\n",
    "df_germany.head()"
   ]
  },
  {
   "cell_type": "markdown",
   "metadata": {},
   "source": [
    "We have to prepare some pre-work Before making prediction by fbprophet:\n",
    "1. install fbprophet (which requires pystan):\n",
    "    ```\n",
    "    shell > pip install fbprophet\n",
    "    or\n",
    "    shell > conda install fbprophet\n",
    "    ```\n",
    "- Why using fbprophet? The simplest time-series prediction is the reason: only two columns    requires, one is `ds`, timestamp, and the other is `y`, number of occurences.\n",
    "- date data uses is in Python datetime format, YYYY-MM-DD. "
   ]
  },
  {
   "cell_type": "code",
   "execution_count": null,
   "metadata": {},
   "outputs": [],
   "source": [
    "df_germany = df_germany.reset_index().rename(columns={'index': 'ds', 11: 'y'})\n",
    "df_germany.tail()"
   ]
  },
  {
   "cell_type": "code",
   "execution_count": null,
   "metadata": {},
   "outputs": [],
   "source": [
    "df_germany['ds'] = pd.to_datetime(df_germany['ds'])\n",
    "df_germany.head()"
   ]
  },
  {
   "cell_type": "code",
   "execution_count": null,
   "metadata": {},
   "outputs": [],
   "source": [
    "fig = go.Figure()\n",
    "\n",
    "fig.add_trace(\n",
    "    go.Scatter(\n",
    "        x=df_germany.ds,\n",
    "        y=df_germany.y,\n",
    "        name='Confirmed in Germany'\n",
    "    )\n",
    ")\n",
    "fig.update_layout(\n",
    "    title_text = 'Confirmed Cases In DeutschLand',\n",
    "    title_x = 0.5,\n",
    ")\n",
    "plot(fig, filename='NCOVID-19.html') "
   ]
  },
  {
   "cell_type": "code",
   "execution_count": null,
   "metadata": {},
   "outputs": [],
   "source": [
    "m = Prophet(\n",
    "    yearly_seasonality=False,\n",
    "    weekly_seasonality=False,\n",
    "    daily_seasonality=True,\n",
    "    seasonality_mode='additive'\n",
    ")\n",
    "\n",
    "m.fit(df_germany)"
   ]
  },
  {
   "cell_type": "code",
   "execution_count": null,
   "metadata": {},
   "outputs": [],
   "source": [
    "future = m.make_future_dataframe(periods=7)\n",
    "forecast = m.predict(future)\n",
    "future.tail(7)"
   ]
  },
  {
   "cell_type": "code",
   "execution_count": null,
   "metadata": {},
   "outputs": [],
   "source": [
    "# Meaning of y hat in linear regression can be referred in below\n",
    "# https://www.statisticshowto.datasciencecentral.com/y-hat-definition/\n",
    "\n",
    "forecast[['ds', 'yhat', 'yhat_lower', 'yhat_upper']].tail(7)"
   ]
  },
  {
   "cell_type": "code",
   "execution_count": null,
   "metadata": {},
   "outputs": [],
   "source": [
    "# Linear regression analysis is inappropriate prediction model  \n",
    "# for exponential increase of COVID19 confirmed cases\n",
    "\n",
    "fig = plot_plotly(m, forecast)\n",
    "py.plot(fig)"
   ]
  },
  {
   "cell_type": "markdown",
   "metadata": {},
   "source": [
    "Too bad to accept? Let us to fine tune the parameters to re-make the model."
   ]
  },
  {
   "cell_type": "code",
   "execution_count": null,
   "metadata": {},
   "outputs": [],
   "source": [
    "Prophet?"
   ]
  },
  {
   "cell_type": "code",
   "execution_count": null,
   "metadata": {},
   "outputs": [],
   "source": [
    "\n",
    "# Make New Model with changepoints: divide into severel linear regressions to capture exponential increase\n",
    "m = Prophet(\n",
    "    changepoint_prior_scale=0.2, # increasing it will make the trend more flexible\n",
    "    changepoint_range=0.98, # place potential changepoints in the first 98% of the time series\n",
    "    yearly_seasonality=False,\n",
    "    weekly_seasonality=False,\n",
    "    daily_seasonality=True,\n",
    "    seasonality_mode='additive'\n",
    ")\n",
    "\n",
    "\n",
    "m.fit(df_germany)"
   ]
  },
  {
   "cell_type": "code",
   "execution_count": null,
   "metadata": {},
   "outputs": [],
   "source": [
    "# Display new model's forecast of COVID19 confirmed cases into table\n",
    "future = m.make_future_dataframe(periods=7)\n",
    "forecast = m.predict(future)\n",
    "forecast.tail(7)"
   ]
  },
  {
   "cell_type": "code",
   "execution_count": null,
   "metadata": {},
   "outputs": [],
   "source": [
    "# Plot new model's expected confirmed cases\n",
    "fig = plot_plotly(m, forecast)\n",
    "py.plot(fig)"
   ]
  },
  {
   "cell_type": "code",
   "execution_count": null,
   "metadata": {},
   "outputs": [],
   "source": [
    "# display changepoints as red dotted line on the plot\n",
    "fig = m.plot(forecast)\n",
    "a = add_changepoints_to_plot(fig.gca(), m, forecast)"
   ]
  },
  {
   "cell_type": "code",
   "execution_count": null,
   "metadata": {},
   "outputs": [],
   "source": []
  },
  {
   "cell_type": "code",
   "execution_count": null,
   "metadata": {},
   "outputs": [],
   "source": []
  }
 ],
 "metadata": {
  "kernelspec": {
   "display_name": "Python 3",
   "language": "python",
   "name": "python3"
  },
  "language_info": {
   "codemirror_mode": {
    "name": "ipython",
    "version": 3
   },
   "file_extension": ".py",
   "mimetype": "text/x-python",
   "name": "python",
   "nbconvert_exporter": "python",
   "pygments_lexer": "ipython3",
   "version": "3.6.9"
  },
  "toc": {
   "colors": {
    "hover_highlight": "#DAA520",
    "navigate_num": "#000000",
    "navigate_text": "#333333",
    "running_highlight": "#FF0000",
    "selected_highlight": "#FFD700",
    "sidebar_border": "#EEEEEE",
    "wrapper_background": "#FFFFFF"
   },
   "moveMenuLeft": true,
   "nav_menu": {
    "height": "12px",
    "width": "252px"
   },
   "navigate_menu": true,
   "number_sections": true,
   "sideBar": true,
   "threshold": 4,
   "toc_cell": false,
   "toc_section_display": "block",
   "toc_window_display": false,
   "widenNotebook": false
  }
 },
 "nbformat": 4,
 "nbformat_minor": 2
}
