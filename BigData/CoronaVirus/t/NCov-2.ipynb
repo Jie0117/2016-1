{
 "cells": [
  {
   "cell_type": "markdown",
   "metadata": {},
   "source": [
    "# Visualization of NCOPID-19 Data\n",
    "One of the reasons of Python, such populay by ML developers, is its visualization utilities:\n",
    "- Matplotlib, provides the basic functions and utilities to make visualization;\n",
    "- seaborn provides high-level interface for drawing  informative statistical graphics;\n",
    "- plotly, it could not be absent of creating both on-line and off-line visualizations with hand-on interact.\n",
    "\n",
    "Furthermore, python never let you down if animation, dashboard setup are required; try `moviepy, ipywidget, dash, etc`.\n",
    "\n",
    "**Note**. Installing or updating the Python package, you could do it as follows:\n",
    "\n",
    "```\n",
    " shell > pip install -U plotly\n",
    "   or\n",
    " shell > conda install plotly\n",
    "```\n",
    "**Exercise**: install plotly as above.\n",
    "\n",
    "\n",
    "## Data Prepatation\n",
    "In last week practicing, we had learn how to work on the time series data from [JUH](https://github.com/CSSEGISandData/COVID-19). Now create today practicing, NCov-2.ipynb, as follows:\n",
    "\n",
    "```\n",
    "        COVID-19-master/\n",
    "           csse_covid_19_data/\n",
    "           ...        \n",
    "        t/\n",
    "           NCov-1.ipynb\n",
    "           NCov-2.ipynb\n",
    "           ...\n",
    "           tmp/\n",
    "``` \n",
    "In this practicing, the daily data would be used, but not time-series data.        "
   ]
  },
  {
   "cell_type": "code",
   "execution_count": null,
   "metadata": {},
   "outputs": [],
   "source": [
    "import pandas as pd\n",
    "import numpy as np\n",
    "import re\n",
    "import os\n",
    "\n",
    "import pickle\n",
    "import os.path\n",
    "from datetime import datetime, date, time \n",
    "from time import strftime\n",
    "\n",
    "import json\n",
    "from dateutil.parser import parse\n",
    "import matplotlib.pyplot as plt\n"
   ]
  },
  {
   "cell_type": "code",
   "execution_count": null,
   "metadata": {},
   "outputs": [],
   "source": [
    "# What day is today\n",
    "str(datetime.date(datetime.now()))"
   ]
  },
  {
   "cell_type": "code",
   "execution_count": null,
   "metadata": {},
   "outputs": [],
   "source": [
    "DATA = '../COVID-19-master/csse_covid_19_data/csse_covid_19_daily_reports/'\n",
    "\n",
    "def clean_sheet_names(new_ranges):\n",
    "    '''\n",
    "    Get rid of the duplicate sheets, only take the sheets from the \n",
    "    latest point in the day\n",
    "    '''\n",
    "    indices = []\n",
    "    \n",
    "    # Remove all sheets that dont have a numeric header\n",
    "    numeric_sheets = [x for x in new_ranges if re.search(r'\\d', x)]   \n",
    "    \n",
    "    return numeric_sheets"
   ]
  },
  {
   "cell_type": "code",
   "execution_count": null,
   "metadata": {},
   "outputs": [],
   "source": [
    "df=pd.read_csv('../COVID-19-master/csse_covid_19_data/csse_covid_19_daily_reports/03-05-2020.csv')\n",
    "df.head(20)"
   ]
  },
  {
   "cell_type": "code",
   "execution_count": null,
   "metadata": {},
   "outputs": [],
   "source": [
    "sheets = os.listdir(DATA)\n",
    "\n",
    "# Clean the result to the sheet tabs we want\n",
    "cleaned_sheets = clean_sheet_names(sorted(sheets, reverse=True))"
   ]
  },
  {
   "cell_type": "code",
   "execution_count": null,
   "metadata": {},
   "outputs": [],
   "source": [
    "'''\n",
    "For assigning date by the time sheet name\n",
    "'''\n",
    "\n",
    "def clean_last_updates(last_update):\n",
    "    date = parse(str(last_update).split(' ')[0]).strftime(\"%Y-%m-%d\")\n",
    "    time = parse(str(last_update).split(' ')[1]).strftime('%H:%M:%S')\n",
    "    parsed_date = str(date) + ' ' + str(time)\n",
    "\n",
    "    return parsed_date\n",
    "\n",
    "def get_date(last_update):\n",
    "    return parse(str(last_update).split(' ')[0]).strftime(\"%Y-%m-%d\")\n",
    "\n",
    "def drop_duplicates(df_raw):\n",
    "    '''\n",
    "    Take the max date value for each province for a given date\n",
    "    '''\n",
    "    days_list = []\n",
    "    \n",
    "    for datetime in df_raw.date.unique():\n",
    "        tmp_df = df_raw[df_raw.date == datetime]\n",
    "        tmp_df = tmp_df.sort_values(['Last Update']).drop_duplicates('Province/State', keep='last')\n",
    "        days_list.append(tmp_df)\n",
    "\n",
    "    return days_list"
   ]
  },
  {
   "cell_type": "code",
   "execution_count": null,
   "metadata": {},
   "outputs": [],
   "source": [
    "keep_cols = ['Confirmed', 'Country/Region', 'Deaths', 'Last Update', 'Province/State', 'Recovered']\n",
    "numeric_cols = ['Confirmed', 'Deaths', 'Recovered']\n",
    "\n",
    "def get_data(cleaned_sheets):\n",
    "    all_csv = []\n",
    "    # Import all CSV's\n",
    "    for file in sorted(sheets):\n",
    "        if 'csv' in file:\n",
    "            print('...', file)\n",
    "            tmp_df = pd.read_csv(os.path.join(DATA, file), index_col=None, header=0, parse_dates=['Last Update'])\n",
    "            tmp_df = tmp_df[keep_cols]\n",
    "            tmp_df[numeric_cols] = tmp_df[numeric_cols].fillna(0)\n",
    "            tmp_df[numeric_cols] = tmp_df[numeric_cols].astype(int)\n",
    "            tmp_df['Province/State'].fillna(tmp_df['Country/Region'], inplace=True)\n",
    "\n",
    "            tmp_df['Last Update'] = tmp_df['Last Update'].apply(clean_last_updates)\n",
    "            tmp_df['date'] = tmp_df['Last Update'].apply(get_date)\n",
    "\n",
    "            all_csv.append(tmp_df)\n",
    "\n",
    "    df_raw = pd.concat(all_csv, axis=0, ignore_index=True, sort=True)\n",
    "    df_raw = df_raw.sort_values(by=['Last Update'])\n",
    "\n",
    "    #Get the last entry per region by date\n",
    "    frames = drop_duplicates(df_raw)\n",
    "    tmp = pd.concat(frames, axis=0, ignore_index=True, sort=True)\n",
    "    \n",
    "    return tmp\n",
    "\n",
    "df = get_data(cleaned_sheets)"
   ]
  },
  {
   "cell_type": "code",
   "execution_count": null,
   "metadata": {},
   "outputs": [],
   "source": [
    "df.tail()"
   ]
  },
  {
   "cell_type": "code",
   "execution_count": null,
   "metadata": {},
   "outputs": [],
   "source": [
    "df_countries = df.groupby(['Country/Region', 'date']).max().reset_index().sort_values('date', ascending=False)\n",
    "df_countries = df_countries.drop_duplicates(subset = ['Country/Region'])\n",
    "df_countries = df_countries[df_countries['Confirmed']>0]\n",
    "\n",
    "df_countries.head()"
   ]
  },
  {
   "cell_type": "code",
   "execution_count": null,
   "metadata": {},
   "outputs": [],
   "source": [
    "from plotly.offline import init_notebook_mode, plot, iplot, download_plotlyjs\n",
    "import plotly.graph_objs as go\n",
    "import plotly.express as px"
   ]
  },
  {
   "cell_type": "code",
   "execution_count": null,
   "metadata": {},
   "outputs": [],
   "source": [
    "import plotly as py\n",
    "\n",
    "from plotly.subplots import make_subplots\n",
    "\n",
    "init_notebook_mode(connected=True) "
   ]
  },
  {
   "cell_type": "code",
   "execution_count": null,
   "metadata": {},
   "outputs": [],
   "source": [
    "fig = go.Figure(data=go.Choropleth(\n",
    "    locations = df_countries['Country/Region'],\n",
    "    locationmode = 'country names',\n",
    "    z = df_countries['Confirmed'],\n",
    "    colorscale = 'Reds',\n",
    "    marker_line_color = 'black',\n",
    "    marker_line_width = 0.5,\n",
    "))\n",
    "\n",
    "fig.update_layout(\n",
    "    title_text = 'Confirmed Cases as of March 2, 2020',\n",
    "    title_x = 0.5,\n",
    "    geo=dict(\n",
    "        showframe = False,\n",
    "        showcoastlines = False,\n",
    "        projection_type = 'equirectangular'\n",
    "    )\n",
    ")  \n",
    "#iplot(fig, filename='NCOVID-19.html')  "
   ]
  },
  {
   "cell_type": "code",
   "execution_count": null,
   "metadata": {},
   "outputs": [],
   "source": [
    "df_countries_no_china = df_countries[df_countries['Country/Region'] != 'Mainland China']\n",
    "fig = go.Figure(data=go.Choropleth(\n",
    "    locations = df_countries_no_china['Country/Region'],\n",
    "    locationmode = 'country names',\n",
    "    z = df_countries_no_china['Confirmed'],\n",
    "    colorscale = 'Reds',\n",
    "    marker_line_color = 'black',\n",
    "    marker_line_width = 0.5\n",
    "))\n",
    "\n",
    "fig.update_layout(\n",
    "    title_text = 'Confirmed Cases as of February 28, 2020 excl. China',\n",
    "    title_x = 0.5,\n",
    "    geo=dict(\n",
    "        showframe = False,\n",
    "        showcoastlines = False,\n",
    "        projection_type = 'equirectangular'\n",
    "    )\n",
    ")"
   ]
  },
  {
   "cell_type": "code",
   "execution_count": null,
   "metadata": {},
   "outputs": [],
   "source": [
    "df_countrydate = df[df['Confirmed']>0]\n",
    "df_countrydate = df_countrydate.groupby(['date','Country/Region']).sum().reset_index()\n",
    "df_countrydate"
   ]
  },
  {
   "cell_type": "code",
   "execution_count": null,
   "metadata": {},
   "outputs": [],
   "source": [
    "fig = px.choropleth(df_countrydate, \n",
    "                    locations=\"Country/Region\", \n",
    "                    locationmode = \"country names\",\n",
    "                    color=\"Confirmed\", \n",
    "                    hover_name=\"Country/Region\", \n",
    "                    animation_frame=\"date\"\n",
    "                   )\n",
    "\n",
    "fig.update_layout(\n",
    "    title_text = 'Spread of Coronavirus',\n",
    "    title_x = 0.5,\n",
    "    geo=dict(\n",
    "        showframe = False,\n",
    "        showcoastlines = False,\n",
    "    ))\n",
    "    "
   ]
  },
  {
   "cell_type": "code",
   "execution_count": null,
   "metadata": {},
   "outputs": [],
   "source": [
    "fig = px.pie(df_countries, values = 'Confirmed',names='Country/Region', height=600)\n",
    "fig.update_traces(textposition='inside', textinfo='percent+label')\n",
    "\n",
    "fig.update_layout(\n",
    "    title_x = 0.5,\n",
    "    geo=dict(\n",
    "        showframe = False,\n",
    "        showcoastlines = False,\n",
    "    ))\n"
   ]
  },
  {
   "cell_type": "code",
   "execution_count": null,
   "metadata": {},
   "outputs": [],
   "source": [
    "fig = px.pie(df_countries_no_china, values = 'Confirmed',names='Country/Region', height=600)\n",
    "fig.update_traces(textposition='inside', textinfo='percent+label')\n",
    "\n",
    "fig.update_layout(\n",
    "    title_x = 0.5,\n",
    "    geo=dict(\n",
    "        showframe = False,\n",
    "        showcoastlines = False,\n",
    "    ))"
   ]
  },
  {
   "cell_type": "code",
   "execution_count": null,
   "metadata": {
    "scrolled": false
   },
   "outputs": [],
   "source": [
    "bar_data = df.groupby(['Country/Region', 'date'])['Confirmed', 'Deaths', 'Recovered'].sum().reset_index().sort_values('date', ascending=True)\n",
    "\n",
    "fig = px.bar(bar_data, x=\"date\", y=\"Confirmed\", color='Country/Region', text = 'Confirmed', orientation='v', height=600,\n",
    "             title='Cases')\n",
    "fig.show()\n",
    "\n",
    "fig = px.bar(bar_data, x=\"date\", y=\"Deaths\", color='Country/Region', text = 'Deaths', orientation='v', height=600,\n",
    "             title='Deaths')\n",
    "fig.show()\n",
    "\n",
    "fig = px.bar(bar_data, x=\"date\", y=\"Recovered\", color='Country/Region', text = 'Recovered', orientation='v', height=600,\n",
    "             title='Recovered')\n",
    "fig.show()"
   ]
  },
  {
   "cell_type": "code",
   "execution_count": null,
   "metadata": {},
   "outputs": [],
   "source": [
    "bar_data_no_china = bar_data[bar_data['Country/Region']!='Mainland China']\n",
    "\n",
    "fig = px.bar(bar_data_no_china, x=\"date\", y=\"Confirmed\", color='Country/Region', text = 'Confirmed', orientation='v', height=600,\n",
    "             title='Cases')\n",
    "fig.show()\n",
    "\n",
    "fig = px.bar(bar_data_no_china, x=\"date\", y=\"Deaths\", color='Country/Region', text = 'Confirmed', orientation='v', height=600,\n",
    "             title='Deaths')\n",
    "fig.show()\n",
    "\n",
    "fig = px.bar(bar_data_no_china, x=\"date\", y=\"Recovered\", color='Country/Region', text = 'Confirmed', orientation='v', height=600,\n",
    "             title='Recovered')\n",
    "fig.show()"
   ]
  },
  {
   "cell_type": "code",
   "execution_count": null,
   "metadata": {},
   "outputs": [],
   "source": []
  },
  {
   "cell_type": "code",
   "execution_count": null,
   "metadata": {},
   "outputs": [],
   "source": []
  }
 ],
 "metadata": {
  "kernelspec": {
   "display_name": "Python 3",
   "language": "python",
   "name": "python3"
  },
  "language_info": {
   "codemirror_mode": {
    "name": "ipython",
    "version": 3
   },
   "file_extension": ".py",
   "mimetype": "text/x-python",
   "name": "python",
   "nbconvert_exporter": "python",
   "pygments_lexer": "ipython3",
   "version": "3.6.9"
  },
  "toc": {
   "colors": {
    "hover_highlight": "#DAA520",
    "navigate_num": "#000000",
    "navigate_text": "#333333",
    "running_highlight": "#FF0000",
    "selected_highlight": "#FFD700",
    "sidebar_border": "#EEEEEE",
    "wrapper_background": "#FFFFFF"
   },
   "moveMenuLeft": true,
   "nav_menu": {
    "height": "48px",
    "width": "252px"
   },
   "navigate_menu": true,
   "number_sections": true,
   "sideBar": true,
   "threshold": 4,
   "toc_cell": false,
   "toc_section_display": "block",
   "toc_window_display": false,
   "widenNotebook": false
  }
 },
 "nbformat": 4,
 "nbformat_minor": 4
}
