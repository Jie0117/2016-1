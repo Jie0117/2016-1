{
 "cells": [
  {
   "cell_type": "markdown",
   "metadata": {},
   "source": [
    "# Pursiut Curves\n",
    "\n",
    "The path an object takes when chasing after another object in the most effective way. \n",
    "\n",
    "\n",
    "In **Francis Godwin**’s story, *The Man in the Moone*,  an\n",
    "astronaut harnesses a wedge of 25 swans and flies to the moon. The swans fly at a constant rate and always head toward\n",
    "the moon, in accordance with their annual migration. Thus, the trajectory from the\n",
    "earth to the moon is not a straight line, but is a **pursuit curve**. In\n",
    "the story, Godwin says that the flight to the moon takes <font color=\"red\">twelve days</font>, whereas the return\n",
    "trip, which follows a straight line, takes <font color=\"red\">eight days</font> days. <p>\n",
    "\n",
    "<div align=\"center\"><font size=\"4em\" color=\"red\">How good a guess was Godwin’s?</font></div>\n",
    "\n",
    "\n",
    "References:\n",
    "1. Francis Godwin (1562~1633) ,  The Man in the Moone<br>\n",
    "<img src=\"images/Godwin.jpg\" width=40%>\n",
    "2. A. Simonson, Pursuit Cruves for the Man in the Moon, The Mathematical Association of America, (?)"
   ]
  },
  {
   "cell_type": "markdown",
   "metadata": {},
   "source": [
    "<table>\n",
    "<tr>\n",
    "<td><img src=\"images/star.png\" width=40% /></td>\n",
    "<td><img src=\"images/TinTin.png\" width=40% /></td>\n",
    "<td><img src=\"images/japan.png\" width=40% /></td>\n",
    "\n",
    "\n",
    "</tr>\n",
    "</table>"
   ]
  },
  {
   "cell_type": "code",
   "execution_count": null,
   "metadata": {},
   "outputs": [],
   "source": []
  },
  {
   "cell_type": "markdown",
   "metadata": {},
   "source": [
    "## Problems Exploring and Showing\n",
    "    \n",
    "    0. Basics of Numerical: from Continuous to discrete\n",
    "    1. Basics of Physics;\n",
    "    2. Pictures describing the tractories of observerved objects;\n",
    "    3. Animation of whole the processes;\n",
    "    4. Simple Interaction by passing the Parameter to System.\n"
   ]
  },
  {
   "cell_type": "markdown",
   "metadata": {},
   "source": [
    "## Skills Requirement\n",
    "\n",
    "    1. Python 2-7.x, Python-3.4.+\n",
    "    2. numpy: data handling\n",
    "    3. matplotlib-1.4.3+: making pictures and animation,\n",
    "    4. IPython, JSAnimation, IPyWidget: make results well display and manipulation from HTML-based browsers.\n",
    "\n"
   ]
  },
  {
   "cell_type": "code",
   "execution_count": null,
   "metadata": {},
   "outputs": [],
   "source": []
  },
  {
   "cell_type": "markdown",
   "metadata": {},
   "source": [
    "Differential Equations \n",
    "---\n",
    "Equations involve **differential operation**, e.g.\n",
    "\n",
    "$$\\vec v(t)=\\frac{d S(t)}{d t}$$\n",
    "\n",
    "\n",
    "Nowaday, it is widely studied in theoretic and applied science.  \n",
    "\n",
    "How to Solve DE's\n",
    "---\n",
    "Not all differential equations could be solved. Could not solve it, then **simulate** it out!"
   ]
  },
  {
   "cell_type": "markdown",
   "metadata": {},
   "source": [
    "Differential Equation\n",
    "---\n",
    "Consider the following initial value problem: \n",
    "\\begin{array}{cccl}\n",
    "&x'(t)&=&x(t), \\cr\n",
    "&x(0)&=&1 \\cr\n",
    "\\Rightarrow &x &=& \\exp(t). \n",
    "\\end{array}\n",
    "<br>\n",
    "\n",
    "Solve the DE\n",
    "---\n",
    "\\begin{eqnarray}\n",
    "x'(t)=\\frac{dx}{dt}&=&x(t)\\\\\n",
    "\\int\\frac{dx}{x}&=&\\int 1dt\\\\\n",
    "\\to \\ln|x|&=&t+C \\\\\n",
    "    |x|&=& \\exp(t+C)=C \\exp(t)\\\\\n",
    "    x(t)&=& C\\exp(t)\\\\\n",
    "    x(t)&=& 1\\cdot\\exp(t) \\hbox{ since }x(0)=1\n",
    "\\end{eqnarray}"
   ]
  },
  {
   "cell_type": "markdown",
   "metadata": {},
   "source": [
    "Difference Scheme\n",
    "---\n",
    "Consider the following initial value problem: \n",
    "\\begin{array}{cccl}\n",
    "&x'(t)&=&x(t), \\cr\n",
    "&x(0)&=&1 \\cr\n",
    "\\Rightarrow &x &=& \\exp(t). \n",
    "\\end{array}\n",
    "<br>\n",
    "The Newtonian apprroximation, $$x'(t) \\sim \\frac {x(t+\\vartriangle t)-x(t)}{\\vartriangle t}.$$\n",
    "<br>\n",
    "\n",
    "Now partition $[0,t]$ into $n$ equally-like nonoverlapping sub-intervals as follows:\n",
    "\n",
    "\\begin{array}{cccccc}\n",
    "x: & x_0 = 1 & x_1 & x_2 & \\cdots & x_{n-1} & \\quad x_n \\cr\n",
    "    & \\bot \\ldots & ... \\perp ... & ... \\perp ... & \\ldots \\ldots . & ... \\perp\n",
    "     ... & \\ldots \\bot\\cr\n",
    "t:   &  0\\quad & \\vartriangle t & 2\\vartriangle t & \\cdots & (n-1)\\vartriangle t & \\quad n\\vartriangle t=t\n",
    "   \\end{array}\n",
    "\n",
    "where $x_i=x(i\\vartriangle t),$ and $\\vartriangle t=\\frac{t}{n}$.\n",
    "\n",
    "\n",
    "This induces the following difference scheme:\n",
    "\\begin{array}{cccl}\n",
    "&x'&=& x \\cr\n",
    "&\\frac{x_{i+1}-x_i}{\\vartriangle t} &\\sim& x_i \\cr\n",
    "\\Rightarrow &x_{i+1} &\\sim& (1+\\vartriangle t)x_i &\\sim& (1+\\vartriangle t)^2x_{i-1} \\\\\n",
    "&&\\sim& (1+\\vartriangle t)^{i+1} x_0\n",
    "\\end{array}\n",
    "for $i=1,2,\\cdots$.\n",
    "<p>\n"
   ]
  },
  {
   "cell_type": "markdown",
   "metadata": {},
   "source": [
    "\n",
    "**$a^\\circ$)** Estimate the value of *Euler* number,\n",
    "\n",
    "$$e=\\lim\\limits_{n\\to\\infty}\\left(1+\\frac{1}{n}\\right)^n\\sim2.71828\\cdots$$\n",
    "\n",
    "$e=\\exp(1)$ could be evaluated by \n",
    "\\begin{array}{ccl}\n",
    "x_0 &=& e(0), \\cr\n",
    "x_1 &=& e(\\vartriangle t) \\cr\n",
    "    &\\sim& (1+\\vartriangle t)x_0, \\cr\n",
    "x_2 &=& e(2\\vartriangle t) \\cr\n",
    "    &\\sim& (1+\\vartriangle t)x_1 \\cr\n",
    "    &\\sim& (1+\\vartriangle t)^2 x_0 \\cr\n",
    "    &\\vdots \\cr\n",
    "x_n &\\sim& (1+\\vartriangle t)^n x_0 \n",
    "\\end{array} \n",
    "<br>\n",
    ", which refers to the following partition for $\\exp(x)$ from 0 to 1:<br><br>\n",
    " \\begin{array}{cccccc}\n",
    "x: & x_0 = 1 & x_1 & x_2 & \\cdots & x_{n-1} & x_n = e\\cr\n",
    "     &\\bot \\ldots & ... \\perp ... & ... \\perp ... & \\ldots \\ldots . & ... \\perp\n",
    "     ... & \\ldots \\bot\\cr\n",
    "t: &     0\\quad & \\frac{1}{n} & \\frac{2}{n} & \\cdots & \\frac{n-1}{n} & \\quad1\n",
    "   \\end{array}\n",
    "\n",
    "where $\\vartriangle t=\\frac{1}{n}$. And the approximation for *Euler* number, $e$, could be estimeted by the following: \n",
    "$$ e=x_n\\sim \\left(1+\\frac{1}{n}\\right)x_{n-1}\\sim \\left(1+\\frac{1}{n}\\right)^2x_{n-2}\\sim\\dots \\sim \\left(1+\\frac{1}{n}\\right)^n e(0)=\\left(1+\\frac{1}{n}\\right)^n$$"
   ]
  },
  {
   "cell_type": "code",
   "execution_count": 10,
   "metadata": {
    "collapsed": true
   },
   "outputs": [],
   "source": [
    "%matplotlib inline\n",
    "\n",
    "import numpy as np\n",
    "from numpy import exp,cos,sin\n",
    "import matplotlib.pylab as plt\n",
    "from IPython.display import clear_output\n",
    "from ipywidgets import interactive\n",
    "import sys\n",
    "import time"
   ]
  },
  {
   "cell_type": "code",
   "execution_count": 9,
   "metadata": {},
   "outputs": [
    {
     "name": "stdout",
     "output_type": "stream",
     "text": [
      "The watermark extension is already loaded. To reload it, use:\n",
      "  %reload_ext watermark\n",
      "\n",
      "IPython 4.0.0\n",
      "sympy 0.7.6\n",
      "scipy 0.16.0\n",
      "numpy 1.10.1\n",
      "matplotlib 1.4.3\n",
      "ipywidgets 4.0.3\n",
      "JSAnimation 0.1\n"
     ]
    }
   ],
   "source": [
    "%load_ext watermark\n",
    "\n",
    "%watermark -p IPython,sympy,scipy,numpy,matplotlib,ipywidgets,JSAnimation"
   ]
  },
  {
   "cell_type": "code",
   "execution_count": 13,
   "metadata": {},
   "outputs": [
    {
     "name": "stdout",
     "output_type": "stream",
     "text": [
      "the approximation of e is  2.7169239322355936\n"
     ]
    }
   ],
   "source": [
    "n=1000\n",
    "a=0;b=1;\n",
    "dt=(b-a)/float(n)\n",
    "e_value=(1+dt)**n\n",
    "print('the approximation of e is ', e_value)"
   ]
  },
  {
   "cell_type": "code",
   "execution_count": 17,
   "metadata": {},
   "outputs": [
    {
     "name": "stdout",
     "output_type": "stream",
     "text": [
      "the approximation, ( 1  +  1/ 100 )^ 100 ,  of e is  2.7048138294215285\n"
     ]
    }
   ],
   "source": [
    "def sim(n):\n",
    "    a=0;b=1;\n",
    "    dt=(b-a)/float(n)\n",
    "    e_value=(1+dt)**n\n",
    "    print( \"the approximation, ( 1  +  1/\",n,\")^\",n,\",  of e is \" ,e_value)\n",
    "\n",
    "for i in range(1,11):\n",
    "    time.sleep(1)\n",
    "    clear_output()\n",
    "    n=10*i\n",
    "    sim(n)\n",
    "    sys.stdout.flush()"
   ]
  },
  {
   "cell_type": "code",
   "execution_count": null,
   "metadata": {},
   "outputs": [],
   "source": []
  },
  {
   "cell_type": "code",
   "execution_count": null,
   "metadata": {},
   "outputs": [],
   "source": [
    "\"\"\"\n",
    "from pylab import *\n",
    "rcParams['figure.figsize'] = 4,4\n",
    "\"\"\"\n",
    "\n",
    "n=11\n",
    "a=0.;b=1.\n",
    "dx=(b-a)/float(n-1)\n",
    "x=np.linspace(a,b,n)\n",
    "\n",
    "y=np.ones(n)\n",
    "for i in np.arange(n):\n",
    "      y[1:]=(1+dx)*y[:-1]\n",
    "P2=plt.plot(exp(x),'b-',y,'r*')"
   ]
  },
  {
   "cell_type": "markdown",
   "metadata": {},
   "source": [
    "**$b^\\circ$) Logistic Model**\n",
    "(or called gassip model, learning model,...)\n",
    "\n",
    "\\begin{align}\n",
    "y'&=&a y (M-y) \\cr\n",
    "y(0) &=& y_0\n",
    "\\end{align}\n",
    "<br>\n",
    "where $a,M, y_0$ are constants and $M$ is the maximal resources that environment could afford.\n",
    "\n",
    "The scheme runs as follows:\n",
    "\\begin{array}{ccl}\n",
    "&\\frac{y_{n+1}-y_n}{\\vartriangle t} &=& a y_n (M-y_n) \\cr\n",
    "\\Rightarrow &y_{n+1} &=&  y_n +a y_n (M-y_n)\\vartriangle t \n",
    "\\end{array}\n",
    "\n",
    "The solution curve is like $S$-shape:"
   ]
  },
  {
   "cell_type": "code",
   "execution_count": 18,
   "metadata": {},
   "outputs": [
    {
     "data": {
      "text/plain": [
       "[<matplotlib.lines.Line2D at 0x107f31cf8>,\n",
       " <matplotlib.lines.Line2D at 0x107f37080>]"
      ]
     },
     "execution_count": 18,
     "metadata": {},
     "output_type": "execute_result"
    },
    {
     "data": {
      "image/png": "[encoded data removed]",
      "text/plain": [
       "<matplotlib.figure.Figure at 0x107e932b0>"
      ]
     },
     "metadata": {},
     "output_type": "display_data"
    }
   ],
   "source": [
    "a=1/5.\n",
    "M=20\n",
    "t0=0;t1=1\n",
    "n=30\n",
    "u0=5\n",
    "t=np.linspace(t0,t0+t1,n+1)\n",
    "dt=(t1-t0)/float(n)\n",
    "\n",
    "u=np.zeros(np.size(t))\n",
    "u=u0*np.ones(np.size(u))\n",
    "u_h=M/2.*np.ones(np.size(u))\n",
    "\n",
    "for i in np.arange(len(u)-1):\n",
    "    \"\"\"\n",
    "    i.e.\n",
    "    u[i+1] = u[i]+a*u[i]*(M-u[i])*dt\n",
    "    \"\"\"\n",
    "    u[1:]=u[:-1]+a*u[:-1]*(M-u[:-1])*dt\n",
    "\n",
    "plt.plot(t,u,t,u_h,'r--')"
   ]
  },
  {
   "cell_type": "code",
   "execution_count": 19,
   "metadata": {},
   "outputs": [
    {
     "data": {
      "text/plain": [
       "array([ 0. ,  0.1,  0.2,  0.3,  0.4,  0.5,  0.6,  0.7,  0.8,  0.9,  1. ])"
      ]
     },
     "execution_count": 19,
     "metadata": {},
     "output_type": "execute_result"
    }
   ],
   "source": [
    "x"
   ]
  },
  {
   "cell_type": "code",
   "execution_count": 20,
   "metadata": {},
   "outputs": [
    {
     "data": {
      "text/plain": [
       "[0, 1, 0, 26]"
      ]
     },
     "execution_count": 20,
     "metadata": {},
     "output_type": "execute_result"
    },
    {
     "data": {
      "image/png": "[encoded data removed]",
      "text/plain": [
       "<matplotlib.figure.Figure at 0x101f30a58>"
      ]
     },
     "metadata": {},
     "output_type": "display_data"
    }
   ],
   "source": [
    "Levels=[1,2,5,10,13,15,17,25,22,21]\n",
    "P=[]\n",
    "\n",
    "for level in Levels:\n",
    "    u=np.zeros(np.size(t))\n",
    "    u[0]=level\n",
    "    for i in np.arange(len(u)-1):\n",
    "        u[1:]=u[:-1]+a*u[:-1]*(M-u[:-1])*dt\n",
    "    P+=plt.plot(t,u)\n",
    "P+=plt.plot(u_h,'r--')\n",
    "P+=plt.plot(2*u_h,'b--')\n",
    "plt.axis([0,1,0,26])\n",
    "#show(P)"
   ]
  },
  {
   "cell_type": "markdown",
   "metadata": {},
   "source": [
    "<h3>Question</h3>\n",
    "\n",
    "**Newton's law of cooling** states that the rate change of temperate of heated object is propotional to the difference between its own temperature and the ambient temperature.\n",
    "$$ \\mathbf{y(t)=k(y(t)-y_m)}$$\n",
    "where $y(0)=y_0$ is initial temperature of temperature, $y'(t)$ is the temperature at time $t$, and $y_m$ is ambient temperature. Suppose that a corpse was discovered in a room and its temperature was 32°C. The temperature of the room is kept constant at 22°C. Three hours later the temperature of the corpse dropped to 27°C. \n",
    "<ol>\n",
    "<li>\n",
    "Find the time of death. \n",
    "</li>\n",
    "<li> make a picture about the temperature curve of corpse change.\n",
    "</ol>"
   ]
  },
  {
   "cell_type": "markdown",
   "metadata": {},
   "source": [
    "<h2>SciPy</h2>\n",
    "Known as Python Repository library of Scientific Computations, it includes the schemes which are capable of doing numeric ODE's like above examples. "
   ]
  },
  {
   "cell_type": "markdown",
   "metadata": {},
   "source": [
    "<b>Example</b> <i>Why is there no people died of being hit by falling rain?<i>  \n"
   ]
  },
  {
   "cell_type": "markdown",
   "metadata": {},
   "source": [
    "- According Newton's Law, the rain drop will fall down as a free body and be formulated by the following:\n",
    "$$\\ddot{\\mathbf{x}} = \\mathbf{g}-r|\\dot{\\mathbf{x}}|^2  $$\n",
    "   \n",
    "   - initial conditions, $(\\mathbf{x},\\dot{\\mathbf{x}})=(\\mathbf{x},\\mathbf{v})=(0,0)$;\n",
    "   - $\\mathbf{g}=9.81 m/s^2$ is the gravity acceleration;\n",
    "   - the air resistant force $r|\\dot{\\mathbf{x}}|^2$\n"
   ]
  },
  {
   "cell_type": "markdown",
   "metadata": {},
   "source": [
    "## Solved by SciPy\n",
    "\n",
    "- $$\\left[\\matrix{\\dot x\\cr \\ddot x}\\right]=\\dot{\\left[\\matrix{x\\cr v}\\right]}=\\frac{d}{ d t}\\left[\\matrix{x\\cr v}\\right]$$\n",
    "- $$\\frac{d }{ d t}\\mathbf{X}=\\frac{d }{ d t}{\\left[\\matrix{x\\cr v}\\right]}={\\left[\\matrix{v\\cr g-r v^2}\\right]}=f(\\mathbf{X})$$\n",
    "- Solved by <b>scipy.integrate.odeint(f,x_init,t) </b>     "
   ]
  },
  {
   "cell_type": "code",
   "execution_count": null,
   "metadata": {},
   "outputs": [],
   "source": []
  },
  {
   "cell_type": "code",
   "execution_count": null,
   "metadata": {},
   "outputs": [],
   "source": [
    "import numpy as np\n",
    "import scipy.integrate as sp\n",
    "import matplotlib.pyplot as plt\n",
    "%matplotlib inline"
   ]
  },
  {
   "cell_type": "code",
   "execution_count": null,
   "metadata": {},
   "outputs": [],
   "source": [
    "# The initial position and velocity is (0,0) (or * above sea level)\n",
    "x0 = np.zeros(2)"
   ]
  },
  {
   "cell_type": "code",
   "execution_count": null,
   "metadata": {},
   "outputs": [],
   "source": [
    "g=9.81\n",
    "r=1."
   ]
  },
  {
   "cell_type": "code",
   "execution_count": null,
   "metadata": {},
   "outputs": [],
   "source": [
    "def f(x,t, r):\n",
    "    # X has twocomponents: X=[x, x'].\n",
    "    x, xdot = x[:1], x[1:]\n",
    "    # We compute the second derivative x'' of x.\n",
    "    xdotdot = g-r * xdot *xdot\n",
    "    # We return X'=[x', x''].\n",
    "    return np.r_[xdot, xdotdot]"
   ]
  },
  {
   "cell_type": "code",
   "execution_count": null,
   "metadata": {},
   "outputs": [],
   "source": [
    "t = np.linspace(0., 10., 100)\n",
    "x = sp.odeint(f, x0, t, args=(r,))"
   ]
  },
  {
   "cell_type": "code",
   "execution_count": null,
   "metadata": {},
   "outputs": [],
   "source": [
    "from numpy import sqrt\n",
    "plt.plot(t,sqrt(g)*np.ones(np.size(t)))\n",
    "plt.plot(t[::2],x[::2,1], 'o-', mew=1, ms=8, mec='w',mfc=\"r\")"
   ]
  },
  {
   "cell_type": "markdown",
   "metadata": {},
   "source": [
    "<h3> Conclusion and Discussion</h3>\n",
    "\n",
    "- the velocity, $v=\\dot x$, seems to approach about $\\mathbf{\\sqrt g}$ m/sec here ( at which  $\\frac{d }{d t}\\dot v=0$).\n",
    "- Actually, we also have\n",
    "  - $v=\\frac{ d x}{d t}$\n",
    "  - $$ \\mathbf{\\dot v}=\\mathbf{g} - r \\mathbf{v^2}$$\n",
    "    - $\\dot v >0$ if $ g-r v^2>0$ (i.e. $v<\\sqrt{g/r}$ $\\Longrightarrow v$ is increasing;\n",
    "    - $\\dot v <0$ if $ g-r v^2<0$ (i.e. $v>\\sqrt{g/r}$ $\\Longrightarrow v$ is decreasing;\n",
    "    - $v$ is increasing from initial 0 under the condition $g-r v^2: >0$ to $0$\n",
    "  - The exact solution of $v$:\n",
    "    $$ v= \\frac{2\\sqrt{g}}{1+\\exp(-2\\sqrt g t)}-\\sqrt g$$\n",
    "    and \n",
    "    $$ \\lim_{t\\to\\infty}v(t)=\\sqrt g$$\n",
    "  - Quantitative method: easy to use to make analysis\n",
    "     - stable point: $\\mathbf{g} - r \\mathbf{v^2}=0\\to v=\\sqrt {g/r}$;\n",
    "     - $\\dot v=g-rv^2 >0$ if $v<\\sqrt{g/r}$ $\\Longrightarrow v$ is increasing;\n",
    "     - $\\ddot v =-2rv\\dot v<0 => v$ is concave downwards."
   ]
  },
  {
   "cell_type": "code",
   "execution_count": null,
   "metadata": {},
   "outputs": [],
   "source": [
    "from sympy import Symbol , dsolve , Function , Derivative ,symbols, Symbol,solve, simplify,init_printing,integrate,exp\n",
    "#from sympy.abc import a,r,t\n",
    "init_printing()"
   ]
  },
  {
   "cell_type": "code",
   "execution_count": null,
   "metadata": {},
   "outputs": [],
   "source": [
    "t = Symbol(\"t\",positive=True)\n",
    "r,x = symbols(\"r x\",positive=True)\n",
    "v=Function('v')\n",
    "g=9.8\n",
    "#r=1\n",
    "f_=Derivative(v(t),t)-g+r*v(t);print f_"
   ]
  },
  {
   "cell_type": "code",
   "execution_count": null,
   "metadata": {},
   "outputs": [],
   "source": [
    "sol=dsolve(f_,v(t));print sol.rhs"
   ]
  },
  {
   "cell_type": "code",
   "execution_count": null,
   "metadata": {},
   "outputs": [],
   "source": []
  },
  {
   "cell_type": "markdown",
   "metadata": {},
   "source": [
    "# Dog Tracking\n",
    "Suppose that a dog, moving at constant speed while always pointing towards its master. \n",
    "\n",
    "Consider:\n",
    "    <font color=\"red\">\n",
    "<ul>\n",
    "<li>    $\\vec{v_D}$: constant velocity of dog, 10 m/s<br>\n",
    "<li>    $\\vec{v_M}$: constant velocity of master, 5 m/s, and towards east.<br>  \n",
    "</ul> \n",
    "</font>\n",
    "Initially, the master stands at the north of dog   and 10 meters  away it. \n",
    "\n",
    "The motion could be represented simply by the vector form:\n",
    "<font color=\"red\">    \n",
    "    $$\\vec{v_D}=|\\vec{v_D}| \\cdot \\frac{\\vec{M}-\\vec{D}}{||\\vec M-\\vec D||}$$\n",
    "</font>    \n",
    "Then the coordinates of position is as follows:\n",
    "\n",
    "$$ \\vec M(\\vec D)(t_{n+1})=\\vec M(\\vec D)(t_n)+vel_{M(D)}(t_n)\\times d t$$"
   ]
  },
  {
   "cell_type": "markdown",
   "metadata": {},
   "source": [
    "<h2>Outline</h2>\n",
    "- Dog positions: Dpos = pos1, pos2, ...\n",
    "- Master position: Mpos = pos1, pos2 ,...    \n",
    "    "
   ]
  },
  {
   "cell_type": "code",
   "execution_count": 21,
   "metadata": {},
   "outputs": [],
   "source": [
    "%matplotlib inline\n",
    "import numpy as np\n",
    "from numpy import pi,sin,cos,size\n",
    "from numpy.linalg import norm\n",
    "import matplotlib.pyplot as plt\n",
    "from matplotlib import animation\n",
    "from JSAnimation import IPython_display\n",
    "from ipywidgets import interactive\n",
    "#from ipywidgets import StaticInteract, RangeWidget,RadioWidget\n",
    "from IPython.display import display, clear_output"
   ]
  },
  {
   "cell_type": "code",
   "execution_count": 22,
   "metadata": {},
   "outputs": [],
   "source": [
    "Dpos=np.array([[0,0]])\n",
    "Mpos=np.array([[0,10]])"
   ]
  },
  {
   "cell_type": "code",
   "execution_count": 23,
   "metadata": {},
   "outputs": [],
   "source": [
    "dt=0.1\n",
    "Mvel=np.array([5,0])"
   ]
  },
  {
   "cell_type": "code",
   "execution_count": 24,
   "metadata": {},
   "outputs": [],
   "source": [
    "#while i<40:\n",
    "#while norm(Dpos[-1]-Mpos[-1])>0.01:\n",
    "while Dpos[-1][1]<Mpos[0][1]:\n",
    "  Dvel=10*(Mpos[-1]-Dpos[-1])/norm(Mpos[-1]-Dpos[-1])\n",
    "  \n",
    "  Mpos1 = Mpos[-1]+Mvel*dt\n",
    "  Dpos2 = Dpos[-1]+Dvel*dt\n",
    "\n",
    "\n",
    "  Mpos=np.vstack([Mpos,Mpos1])\n",
    "  Dpos=np.vstack([Dpos,Dpos2]) \n",
    "  #i=i+1"
   ]
  },
  {
   "cell_type": "code",
   "execution_count": 25,
   "metadata": {},
   "outputs": [
    {
     "data": {
      "text/plain": [
       "<matplotlib.collections.PathCollection at 0x108317908>"
      ]
     },
     "execution_count": 25,
     "metadata": {},
     "output_type": "execute_result"
    },
    {
     "name": "stderr",
     "output_type": "stream",
     "text": [
      "/Users/cch/anaconda3/anaconda/lib/python3.4/site-packages/matplotlib/collections.py:590: FutureWarning: elementwise comparison failed; returning scalar instead, but in the future will perform elementwise comparison\n",
      "  if self._edgecolors == str('face'):\n"
     ]
    },
    {
     "data": {
      "image/png": "[encoded data removed]",
      "text/plain": [
       "<matplotlib.figure.Figure at 0x107f43940>"
      ]
     },
     "metadata": {},
     "output_type": "display_data"
    }
   ],
   "source": [
    "figM = plt.figure(figsize=(6,6))\n",
    "ax = figM.add_subplot(111)\n",
    "ax.set_title(\"Dog Chasing\",fontsize=14)\n",
    "\n",
    "plt.xlim([0,12])\n",
    "plt.ylim([0,12])\n",
    "ax.scatter(Mpos[:,0],Mpos[:,1],  c='r' )\n",
    "ax.scatter(Dpos[:,0],Dpos[:,1],c='g')"
   ]
  },
  {
   "cell_type": "code",
   "execution_count": null,
   "metadata": {},
   "outputs": [],
   "source": [
    "def DogTrack(Vel):\n",
    "    #while i<40:\n",
    "    #while norm(Dpos[-1]-Mpos[-1])>0.01:\n",
    "    Dpos=np.array([[0,0]])\n",
    "    Mpos=np.array([[0,10]])\n",
    "    i=1\n",
    "    #while Dpos[-1][1]<Mpos[0][1] or i<40:\n",
    "    while i<40:    \n",
    "      Dvel=Vel*(Mpos[-1]-Dpos[-1])/norm(Mpos[-1]-Dpos[-1])\n",
    "  \n",
    "      Mpos1 = Mpos[-1]+Mvel*dt\n",
    "      Dpos2 = Dpos[-1]+Dvel*dt\n",
    "\n",
    "      Mpos=np.vstack([Mpos,Mpos1])\n",
    "      Dpos=np.vstack([Dpos,Dpos2]) \n",
    "      i=i+1\n",
    "          \n",
    "    figM = plt.figure(figsize=(9,7))\n",
    "    ax = figM.add_subplot(111)\n",
    "    ax.set_title(\"Dog Chasing\",fontsize=14)\n",
    "\n",
    "    plt.xlim([0,18])\n",
    "    plt.ylim([0,14])\n",
    "    ax.scatter(Mpos[:,0],Mpos[:,1], c='r' )\n",
    "    ax.scatter(Dpos[:,0],Dpos[:,1],c='g')\n",
    "    ax.text(1, 11.5,\n",
    "            \"Master Velocity={0}\\nDog Velocity={1:.2f}\".format(5,Vel),\n",
    "            fontsize=14, color='gray')\n",
    "    return figM"
   ]
  },
  {
   "cell_type": "code",
   "execution_count": null,
   "metadata": {},
   "outputs": [],
   "source": [
    "interactive(DogTrack,Vel=(2, 10, 1))"
   ]
  },
  {
   "cell_type": "code",
   "execution_count": null,
   "metadata": {},
   "outputs": [],
   "source": []
  },
  {
   "cell_type": "markdown",
   "metadata": {},
   "source": [
    "## Cats Chasing\n",
    "\n",
    "Four cats are in the four corners a squareroom of unitary base. At time t=0, they are starting to chase the tails of others. Same as the dog tracking problem:\n",
    "\n",
    "\n",
    "The case of the cat at the left lower corner runs twice faster than others is simulated as follows: \n",
    "\n",
    "$$vel_i=\\frac{\\vec{P}_i-\\vec{P}_{i-1}}{||\\vec{P}_i-\\vec{P}_{i-1}||}$$\n",
    "\n",
    "$$ \\vec P_{i}(t_{n+1})=\\vec P_{i}(t_n)+vel_{i}(t_n)\\times d t$$"
   ]
  },
  {
   "cell_type": "code",
   "execution_count": 26,
   "metadata": {},
   "outputs": [],
   "source": [
    "Cpos1=np.array([[0,0]])\n",
    "Cpos2=np.array([[1,0]])\n",
    "Cpos3=np.array([[1,1]])\n",
    "Cpos4=np.array([[0,1]])"
   ]
  },
  {
   "cell_type": "code",
   "execution_count": 27,
   "metadata": {},
   "outputs": [],
   "source": [
    "dt=0.1\n",
    "i=1"
   ]
  },
  {
   "cell_type": "code",
   "execution_count": 30,
   "metadata": {},
   "outputs": [],
   "source": [
    "#while i<40:\n",
    "while norm(Cpos1[-1]-Cpos2[-1])>0.01:\n",
    "  v1=2*(Cpos2[-1]-Cpos1[-1])\n",
    "  v2=6*(Cpos3[-1]-Cpos2[-1])\n",
    "  v3=2*(Cpos4[-1]-Cpos3[-1])\n",
    "  v4=2*(Cpos1[-1]-Cpos4[-1])\n",
    "\n",
    "  Cpos11 = Cpos1[-1]+v1*dt\n",
    "  Cpos21 = Cpos2[-1]+v2*dt\n",
    "  Cpos31 = Cpos3[-1]+v3*dt\n",
    "  Cpos41 = Cpos4[-1]+v4*dt \n",
    "\n",
    "  Cpos1=np.vstack([Cpos1,Cpos11])\n",
    "  Cpos2=np.vstack([Cpos2,Cpos21]) \n",
    "  Cpos3=np.vstack([Cpos3,Cpos31])\n",
    "  Cpos4=np.vstack([Cpos4,Cpos41])  \n",
    "  "
   ]
  },
  {
   "cell_type": "code",
   "execution_count": 31,
   "metadata": {},
   "outputs": [
    {
     "data": {
      "text/plain": [
       "<matplotlib.collections.PathCollection at 0x10863df28>"
      ]
     },
     "execution_count": 31,
     "metadata": {},
     "output_type": "execute_result"
    },
    {
     "name": "stderr",
     "output_type": "stream",
     "text": [
      "/Users/cch/anaconda3/anaconda/lib/python3.4/site-packages/matplotlib/collections.py:590: FutureWarning: elementwise comparison failed; returning scalar instead, but in the future will perform elementwise comparison\n",
      "  if self._edgecolors == str('face'):\n"
     ]
    },
    {
     "data": {
      "image/png": "[encoded data removed]",
      "text/plain": [
       "<matplotlib.figure.Figure at 0x1083497f0>"
      ]
     },
     "metadata": {},
     "output_type": "display_data"
    }
   ],
   "source": [
    "fig = plt.figure(figsize=(6,6))\n",
    "ax = fig.add_subplot(111)\n",
    "ax.set_title(\"Four Cats Pursuit Curve\",fontsize=14)\n",
    "\n",
    "plt.xlim([0,1])\n",
    "plt.ylim([0,1])\n",
    "ax.scatter(Cpos1[:,1],Cpos1[:,0], c='y' )\n",
    "ax.scatter(Cpos2[:,1],Cpos2[:,0],c='g')\n",
    "ax.scatter(Cpos3[:,1],Cpos3[:,0],c='b')\n",
    "ax.scatter(Cpos4[:,1],Cpos4[:,0],c='r')\n"
   ]
  },
  {
   "cell_type": "code",
   "execution_count": null,
   "metadata": {},
   "outputs": [],
   "source": [
    "anim = plt.figure(figsize=(6,6))\n",
    "ax = anim.add_subplot(111)\n",
    "ax.set_title(\"Four Cats Pursuit Curve\",fontsize=14)\n",
    "\n",
    "plt.xlim([0,1])\n",
    "plt.ylim([0,1])\n",
    "\n",
    "def init():\n",
    "    return ax.scatter(Cpos1[0,1],Cpos1[0,0], c='y' ), \\\n",
    "      ax.scatter(Cpos2[0,1],Cpos2[0,0],c='g'), ax.scatter(Cpos3[0,1],Cpos3[0,0],c='b'), \\\n",
    "      ax.scatter(Cpos4[0,1],Cpos4[0,0],c='r')\n",
    "def animate(i):\n",
    "    return ax.scatter(Cpos1[0:i,1],Cpos1[0:i,0], c='y' ), \\\n",
    "       ax.scatter(Cpos2[0:i,1],Cpos2[0:i,0],c='g'), \\\n",
    "       ax.scatter(Cpos3[0:i,1],Cpos3[0:i,0],c='b'), \\\n",
    "       ax.scatter(Cpos4[0:i,1],Cpos4[0:i,0],c='r')\n",
    " \n",
    "animation.FuncAnimation(anim, animate, init_func=init, frames=size(Cpos1[:,1]), interval=size(Cpos1[:,1]))     "
   ]
  },
  {
   "cell_type": "markdown",
   "metadata": {},
   "source": [
    "## One run faster\n",
    "\n",
    "Suppose that one is runs faster than others, Then ... This is nothing to be worry because of the trusted simulation scheme doing well.\n"
   ]
  },
  {
   "cell_type": "code",
   "execution_count": null,
   "metadata": {},
   "outputs": [],
   "source": [
    "Cpos1=np.array([[0,0]])\n",
    "Cpos2=np.array([[1,0]])\n",
    "Cpos3=np.array([[1,1]])\n",
    "Cpos4=np.array([[0,1]])\n",
    "\n",
    "#while i<40:\n",
    "while norm(Cpos1[-1]-Cpos2[-1])>0.01:\n",
    "  v1=(Cpos2[-1]-Cpos1[-1])\n",
    "  v2=(Cpos3[-1]-Cpos2[-1])\n",
    "  v3=(Cpos4[-1]-Cpos3[-1])\n",
    "  v4=(Cpos1[-1]-Cpos4[-1])\n",
    "\n",
    "  Cpos11 = Cpos1[-1]+3.*v1*dt\n",
    "  Cpos21 = Cpos2[-1]+v2*dt\n",
    "  Cpos31 = Cpos3[-1]+v3*dt\n",
    "  Cpos41 = Cpos4[-1]+v4*dt \n",
    "\n",
    "  Cpos1=np.vstack([Cpos1,Cpos11])\n",
    "  Cpos2=np.vstack([Cpos2,Cpos21]) \n",
    "  Cpos3=np.vstack([Cpos3,Cpos31])\n",
    "  Cpos4=np.vstack([Cpos4,Cpos41])  \n",
    "  "
   ]
  },
  {
   "cell_type": "code",
   "execution_count": null,
   "metadata": {},
   "outputs": [],
   "source": [
    "fig = plt.figure(figsize=(6,6))\n",
    "ax = fig.add_subplot(111)\n",
    "ax.set_title(\"Four Cats Pursuit Curve\",fontsize=14)\n",
    "\n",
    "plt.xlim([0,1])\n",
    "plt.ylim([0,1])\n",
    "ax.scatter(Cpos1[:,1],Cpos1[:,0], c='y' )\n",
    "ax.scatter(Cpos2[:,1],Cpos2[:,0],c='g')\n",
    "ax.scatter(Cpos3[:,1],Cpos3[:,0],c='b')\n",
    "ax.scatter(Cpos4[:,1],Cpos4[:,0],c='r')\n"
   ]
  },
  {
   "cell_type": "code",
   "execution_count": null,
   "metadata": {},
   "outputs": [],
   "source": [
    "print(Cpos1[-2:],Cpos2[-2:])"
   ]
  },
  {
   "cell_type": "markdown",
   "metadata": {},
   "source": [
    "#Exercise:\n",
    "\n",
    "1. Suppose that there are three cats stand at the corners of the equilateral triangle. Guess the trajectories about the cats   chansing others' tails. \n",
    "\n",
    "2. If they run wih the different speed with respect to others, what would happen?"
   ]
  },
  {
   "cell_type": "code",
   "execution_count": null,
   "metadata": {},
   "outputs": [],
   "source": []
  },
  {
   "cell_type": "markdown",
   "metadata": {},
   "source": [
    "## Travel to the Moon\n",
    "<p>\n",
    "<font size=3em>In 1968, Apollo 8, the first manned craft to circle the moon, reached the moon\n",
    "in 3.5 days, and returned in 2.5 days.</font>\n"
   ]
  },
  {
   "cell_type": "code",
   "execution_count": null,
   "metadata": {},
   "outputs": [],
   "source": []
  },
  {
   "cell_type": "markdown",
   "metadata": {},
   "source": [
    "### Data \n",
    " \n",
    "How fast does the Moon travel around Earth?\n",
    "\n",
    "The Moon orbits Earth at a speed of 2,288 miles per hour (3,683 kilometers per hour). During this time it travels a distance of 1,423,000 miles (2,290,000 kilometers).\n",
    "\n",
    "$$ 1 \\text{ Lunar distance }=1 LU\\sim 384,000 \\text{ km }\\\\\n",
    "   p \\text{ period } \\sim 29.5 \\text{ days}\\\\\n",
    "   R_{\\text{earth}}~0.067 LU, r_{\\text{moon}}~0.00453 LU \\\\\n",
    "   M(t): \\text{ position of Moon }= (M_1(t),M_2(t))=\\left(\\cos\\left(\\frac{2\\pi t}{p}\\right),\n",
    "     \\sin\\left(\\frac{2\\pi t}{p}\\right)\\right)\\\\\n",
    "   (x,y): \\text{ position of spacecraft} \n",
    "$$   \n"
   ]
  },
  {
   "cell_type": "markdown",
   "metadata": {},
   "source": [
    "## Differential Equations:\n",
    "\n",
    "$$ \\frac{y'}{x'}=\\frac{M_2-y}{M_1-x}\\\\\n",
    "   (x')^2+(y')^2=c^2 \\text{ where c: velocity of spacecraft}$$\n",
    "\n",
    "where $(x,y)$ is coordinate of spacecraft and $(M_1,M_2)$ is the position of Lunar."
   ]
  },
  {
   "cell_type": "code",
   "execution_count": null,
   "metadata": {},
   "outputs": [],
   "source": [
    "Mpos=np.array([[1,0]])\n",
    "Epos=np.array([[0,0]])\n",
    "p=29.5\n",
    "c=0.15\n",
    "dt=0.1\n",
    "i=1"
   ]
  },
  {
   "cell_type": "code",
   "execution_count": null,
   "metadata": {},
   "outputs": [],
   "source": [
    "while i<400:\n",
    "#while norm(Dpos[-1]-Mpos[-1])>0.01:\n",
    "#while Dpos[-1][1]<Mpos[0][1]:\n",
    "  Mpos1=np.array([cos(2*pi*i*dt/p),sin(2*pi*i*dt/p)])  \n",
    "  Evel=c*(Mpos[-1]-Epos[-1])/norm(Mpos[-1]-Epos[-1])\n",
    "  #print norm(Mpos[-1]-Epos[-1])\n",
    "  Epos2 = Epos[-1]+Evel*dt\n",
    "  #print Evel,Epos2\n",
    "  Mpos=np.vstack([Mpos,Mpos1])\n",
    "  Epos=np.vstack([Epos,Epos2]) \n",
    "  i=i+1"
   ]
  },
  {
   "cell_type": "code",
   "execution_count": null,
   "metadata": {},
   "outputs": [],
   "source": [
    "figM = plt.figure(figsize=(6,6))\n",
    "ax = figM.add_subplot(111)\n",
    "ax.set_title(\"Moon Landing\",fontsize=14)\n",
    "\n",
    "plt.xlim([-1.1,1.1])\n",
    "plt.ylim([-1.1,1.1])\n",
    "ax.scatter(Mpos[::4,0],Mpos[::4,1], c='r' )\n",
    "ax.scatter(Mpos[-1,0],Mpos[-1,1], c='b',s=200)\n",
    "ax.scatter(Epos[-1,0],Epos[-1,1], c='b',s=80)\n",
    "#ax.plot([Mpos[-1,0],Epos[-1,0]],[Mpos[-1,1],Epos[-1,1]],'b-->')\n",
    "ax.arrow(Epos[-1,0], Epos[-1,1], 0.8*(Mpos[-1,0]-Epos[-1,0]), 0.8*(Mpos[-1,1]-Epos[-1,1]),\\\n",
    "          head_width=0.1, head_length=0.1,color=\"red\",linestyle='dotted',alpha=0.7)\n",
    "\n",
    "ax.scatter(Epos[::4,0],Epos[::4,1],c='g')"
   ]
  },
  {
   "cell_type": "code",
   "execution_count": null,
   "metadata": {},
   "outputs": [],
   "source": []
  },
  {
   "cell_type": "code",
   "execution_count": null,
   "metadata": {},
   "outputs": [],
   "source": [
    "anim = plt.figure(figsize=(6,6))\n",
    "ax = anim.add_subplot(111)\n",
    "ax.set_title(\"Moon Landing\",fontsize=14)\n",
    "ax.text(-0.45, -0.5,\n",
    "            \"Velocity of Spacecraft={0:.2f}\".format(c),\n",
    "            fontsize=14, color='gray')\n",
    "\n",
    "plt.xlim([-1.1,1.1])\n",
    "plt.ylim([-1.1,1.1])\n",
    "\n",
    "def init():\n",
    "    return ax.scatter(Mpos[0,0],Mpos[0,1], c='r' ), \\\n",
    "       ax.scatter(Epos[0,0],Epos[0,1],c='g',marker='>')\n",
    "def animate(i):\n",
    "    return ax.scatter(Mpos[0:4*i:4,0],Mpos[0:4*i:4,1], c='r' ), \\\n",
    "       ax.scatter(Epos[0:4*i:4,0],Epos[0:4*i:4,1],c='g',marker='>'), \\\n",
    "       ax.arrow(Epos[4*i,0], Epos[4*i,1], 0.8*(Mpos[4*i,0]-Epos[4*i,0]), \\\n",
    "       0.8*(Mpos[4*i,1]-Epos[4*i,1]),\\\n",
    "       head_width=0.05, head_length=0.08,color=\"red\",linestyle='dotted',alpha=0.01*i)\n",
    "    \n",
    "animation.FuncAnimation(anim, animate, init_func=init, frames=size(Mpos[::4,1]),\\\n",
    "                        interval=size(Mpos[::4,1]))      "
   ]
  },
  {
   "cell_type": "code",
   "execution_count": null,
   "metadata": {},
   "outputs": [],
   "source": [
    "def MoonTraj(c):\n",
    "    Mpos=np.array([[1,0]])\n",
    "    Epos=np.array([[0,0]])\n",
    "\n",
    "    i=1\n",
    "    #while Dpos[-1][1]<Mpos[0][1] or i<40:\n",
    "    while i<800:\n",
    "          Mpos1=np.array([cos(2*pi*i*dt/p),sin(2*pi*i*dt/p)])  \n",
    "          Evel=c*(Mpos[-1]-Epos[-1])/norm(Mpos[-1]-Epos[-1])\n",
    "\n",
    "          Epos2 = Epos[-1]+Evel*dt\n",
    "\n",
    "          Mpos=np.vstack([Mpos,Mpos1])\n",
    "          Epos=np.vstack([Epos,Epos2]) \n",
    "          i=i+1\n",
    "\n",
    "    figM = plt.figure(figsize=(6,6))\n",
    "    ax = figM.add_subplot(111)\n",
    "    ax.set_title(\"Moon Landing\",fontsize=14)\n",
    "\n",
    "    plt.xlim([-1.1,1.1])\n",
    "    plt.ylim([-1.1,1.1])\n",
    "    ax.scatter(Mpos[:,0],Mpos[:,1], c='r' )\n",
    "    ax.scatter(Epos[::4,0],Epos[::4,1],c='g')            \n",
    "    ax.text(-0.5, -0.5,\n",
    "            \"Velocity of Spacecraft={0:.2f}\".format(c),\n",
    "            fontsize=14, color='gray')       \n",
    "            \n",
    "    return figM"
   ]
  },
  {
   "cell_type": "code",
   "execution_count": null,
   "metadata": {},
   "outputs": [],
   "source": [
    "interactive(MoonTraj,c=(0.05, 0.30, 0.01))"
   ]
  },
  {
   "cell_type": "markdown",
   "metadata": {},
   "source": [
    "## Question\n",
    "\n",
    "If the velocity of projectile is not fast, it should fall down. Find out the minimal speed necessary to the moon."
   ]
  },
  {
   "cell_type": "code",
   "execution_count": null,
   "metadata": {},
   "outputs": [],
   "source": []
  },
  {
   "cell_type": "markdown",
   "metadata": {},
   "source": [
    "# Blind men and an elephant (瞎子摸象)\n",
    "\n",
    "The story of the blind men and an elephant originated in the Indian subcontinent from where it has widely diffused.\n",
    "\n",
    "<img src=\"images/elephant.jpg\" width=50% />"
   ]
  },
  {
   "cell_type": "markdown",
   "metadata": {},
   "source": [
    "##Hypothesis: \n",
    "- \"With four parameters I can fit an elephant, and with five I can make him wiggle his trunk\" --John von Neumann\n",
    "\n",
    "###Solution:\n",
    "- \"Drawing an elephant with four complex parameters\", Mayer et al,Ann. J. Phys, (6) June 2010, \n",
    "\n",
    "- Available here: http://java-srv1.mpi-cbg.de/publications/getDocument.html?id=ff8080812daff75c012dc1b7bc10000c\n",
    "\n",
    "###Implementation of solution\n",
    "- Based on code from here: http://www.johndcook.com/blog/2011/06/21/how-to-fit-an-elephant/\n",
    "\n",
    "- Modified to make JavaScript animation possible (worker function needed)\n",
    "###Hypothesis: \n",
    "- \"With four parameters I can fit an elephant, and with five I can make him wiggle his trunk\" --John von Neumann\n",
    "\n",
    "###Solution:\n",
    "- \"Drawing an elephant with four complex parameters\", Mayer et al, 2010\n",
    "\n",
    "- Available here: http://java-srv1.mpi-cbg.de/publications/getDocument.html?id=ff8080812daff75c012dc1b7bc10000c\n",
    "\n",
    "###Implementation of solution\n",
    "- Based on code from here: http://www.johndcook.com/blog/2011/06/21/how-to-fit-an-elephant/\n",
    "\n",
    "- Modified to make JavaScript animation possible (worker function needed)"
   ]
  },
  {
   "cell_type": "markdown",
   "metadata": {},
   "source": [
    "## Paramenters\n",
    "\n",
    "$$ x(t)= \\sum_{k=0}^\\infty (A_k^x \\cos(k t)+B_k^x \\sin(k t)) \\\\\n",
    "   y(t)= \\sum_{k=0}^\\infty (A_k^y \\cos(k t)+B_k^y \\sin(k t))$$\n",
    "\n",
    "where $P_i=Re(P_i)+i Im(P_i), i=1,2,3,4,5$ and\n",
    "\n",
    "$$ p1=50-30i, B_1^x=50,B_1^y=-30\\\\\n",
    "   p2=18+8i, B_2^x=18,B_2^y=8\\\\\n",
    "   p3=12-10i, A_3^x=12,B_3^y=-10\\\\\n",
    "   p4=-14-60i, A_5^x=-14,A_1^y=-60\\\\\n",
    "   p5=40+20i, \\text{ Wiggle effect}=40, \\text{eye}_{x,y}=20$$\n"
   ]
  },
  {
   "cell_type": "code",
   "execution_count": null,
   "metadata": {},
   "outputs": [],
   "source": [
    "p1, p2, p3, p4 = (50 - 30j, 18 +  8j, 12 - 10j, -14 - 60j )\n",
    "p5 = 40 + 20j # wiggle factor and eyepiece\n",
    " \n",
    "def fourier(t, C):\n",
    "    f = np.zeros(t.shape)\n",
    "    A, B = C.real, C.imag\n",
    "    for k in range(len(C)):\n",
    "        f = f + A[k]*np.cos(k*t) + B[k]*np.sin(k*t)\n",
    "    return f\n",
    " \n",
    "def elephant(t, p1, p2, p3, p4, p5):\n",
    "    npar = 6\n",
    "    Cx = np.zeros((npar,), dtype='complex')\n",
    "    Cy = np.zeros((npar,), dtype='complex')\n",
    " \n",
    "    Cx[1] = p1.real*1j\n",
    "    Cx[2] = p2.real*1j\n",
    "    Cx[3] = p3.real\n",
    "    Cx[5] = p4.real\n",
    " \n",
    "    Cy[1] = p4.imag + p1.imag*1j\n",
    "    Cy[2] = p2.imag*1j\n",
    "    Cy[3] = p3.imag*1j\n",
    " \n",
    "    x = np.append(fourier(t,Cx), [-p5.imag])\n",
    "    y = np.append(fourier(t,Cy), [p5.imag])\n",
    " \n",
    "    # wiggle the trunk (\n",
    "    trunk_i = y>40\n",
    "    x_trunk = x[trunk_i]\n",
    "    N_trunk = len(x_trunk)\n",
    "#    x[trunk_i] = x_trunk * concatenate([linspace(1,p5.real,floor(N_trunk/2.0)), \n",
    "#                                        linspace(p5.real,1,ceil(N_trunk/2.0))])\n",
    "    x[trunk_i] = x_trunk + np.concatenate([np.linspace(0,p5.real,np.floor(N_trunk/2.0)), \n",
    "                                        np.linspace(p5.real,0,np.ceil(N_trunk/2.0))])\n",
    "    return x,y"
   ]
  },
  {
   "cell_type": "code",
   "execution_count": null,
   "metadata": {},
   "outputs": [],
   "source": [
    "def plot_elephant(wiggle=40, p4_real=14, t_p=1.0):\n",
    "    p1, p2, p3, p4 = (50 - 30j, 18 +  8j, 12 - 10j, - p4_real - 60j )\n",
    "    p5 = wiggle + 20j\n",
    "    t = np.linspace(0,2*np.pi,1000)\n",
    "    x, y = elephant(t, p1, p2, p3, p4, p5)\n",
    "    \n",
    "    fig, ax = plt.subplots(figsize=(10, 7))\n",
    "    ax.plot(y,-x,'.',color=\"blue\")\n",
    "    \n",
    "    #x_p, y_p = elephant(array(t_p/1000.0*2*pi), p1, p2, p3, p4, p5)\n",
    "    #ax.plot(y_p,-x_p,'ro')\n",
    "    \n",
    "    ax.set_xlim(-80, 100)\n",
    "    ax.set_ylim(-80, 100)\n",
    "    fig.suptitle('elephant with wiggle parameter = ' + str(wiggle))\n",
    "    return fig"
   ]
  },
  {
   "cell_type": "code",
   "execution_count": null,
   "metadata": {},
   "outputs": [],
   "source": [
    "def plot_elephant1(wiggle=40, p4_real=14, t_p=1.0):\n",
    "    p1, p2, p3, p4 = (50 - 30j, 18 +  8j, 12 - 10j, - p4_real - 60j )\n",
    "    p5 = wiggle + 20j\n",
    "    t = np.linspace(0,2*np.pi,1000)\n",
    "    x, y = elephant(t, p1, p2, p3, p4, p5)\n",
    "\n",
    "    xlim(-80,100);\n",
    "    ylim(-80,100);\n",
    "    fig, ax = plt.subplots(figsize=(10, 7));\n",
    "    ax.plot(y,-x,'.',color=\"blue\");\n",
    "    \n",
    "    return fig"
   ]
  },
  {
   "cell_type": "code",
   "execution_count": null,
   "metadata": {},
   "outputs": [],
   "source": []
  },
  {
   "cell_type": "code",
   "execution_count": null,
   "metadata": {},
   "outputs": [],
   "source": [
    "fig,ax = plt.subplots(figsize=(10, 7))\n",
    "\n",
    "p1, p2, p3, p4 = (50 - 30j, 18 +  8j, 12 - 10j, - 14 - 60j )\n",
    "\n",
    "t = np.linspace(0,2*np.pi,1000)\n",
    "\n",
    "ax.set_xlim(-80, 100)\n",
    "ax.set_ylim(-80, 100)\n",
    "line,=ax.plot([],[])\n",
    "\n",
    "for n in range(0,40,5):\n",
    "    p5=n+20j\n",
    "\n",
    "    x, y = elephant(t, p1, p2, p3, p4, p5)\n",
    "\n",
    "    #plt.plot(y,-x,'.',color=\"blue\")\n",
    "    ax.plot([y[-1]],[-x[-1]],'ro')\n",
    "    line.set_data(y[1:-2],-x[1:-2])\n",
    "    display(fig);  \n",
    "    clear_output(wait=True)"
   ]
  },
  {
   "cell_type": "code",
   "execution_count": null,
   "metadata": {},
   "outputs": [],
   "source": [
    "anim = plt.figure(figsize=(10, 7))\n",
    "\n",
    "p1, p2, p3, p4 = (50 - 30j, 18 +  8j, 12 - 10j, - 14 - 60j )\n",
    "\n",
    "t = np.linspace(0,2*np.pi,1000)\n",
    "    \n",
    "ax = anim.add_subplot(111)\n",
    "\n",
    "ax.set_xlim(-80, 100)\n",
    "ax.set_ylim(-80, 100)\n",
    "\n",
    "def init():\n",
    "    p5 = 0 + 20j\n",
    "    x, y = elephant(t, p1, p2, p3, p4, p5)\n",
    "\n",
    "    return ax.plot(y,-x,'.',color=\"blue\")\n",
    "\n",
    "def animate(i):\n",
    "    p5=5*i+20j\n",
    "    x, y = elephant(t, p1, p2, p3, p4, p5)\n",
    "    return ax.plot(y,-x,'.',color=\"blue\")\n",
    "    \n",
    "animation.FuncAnimation(anim, animate, init_func=init, frames=8, blit=False)      "
   ]
  },
  {
   "cell_type": "code",
   "execution_count": null,
   "metadata": {},
   "outputs": [],
   "source": [
    "\n",
    "p1, p2, p3, p4= (50 - 30j, 18 +  8j, 12 - 10j, - 14 - 60j )\n",
    "t = np.linspace(0,2*np.pi,1000)\n",
    "fig=plt.figure(figsize=(10, 7))\n",
    "ax=plt.axes(xlim=(-80, 100), ylim=(-80, 100))\n",
    "line,=ax.plot([],[])\n",
    "\n",
    "def init():\n",
    "    p5=0+20j\n",
    "    x, y = elephant(t, p1, p2, p3, p4, p5)\n",
    "    ax.plot([y[-1]],[-x[-1]],'ro')\n",
    "    line.set_data(y[1:-2],-x[1:-2])\n",
    "    return line,\n",
    "\n",
    "def animate(i):\n",
    "    p5=5*i+20j\n",
    "    x, y = elephant(t, p1, p2, p3, p4, p5)\n",
    "    ax.plot([y[-1]],[-x[-1]],'ro')\n",
    "    line.set_data(y[1:-2],-x[1:-2])    #plt.plot(-y,x)\n",
    "    return line,\n",
    "    \n",
    "animation.FuncAnimation(fig, animate, init_func=init, frames=8)      "
   ]
  },
  {
   "cell_type": "code",
   "execution_count": null,
   "metadata": {},
   "outputs": [],
   "source": [
    "from ipywidgets import interactive\n",
    "interactive(plot_elephant, wiggle=(0,40,5))"
   ]
  },
  {
   "cell_type": "code",
   "execution_count": null,
   "metadata": {},
   "outputs": [],
   "source": [
    "from scitools.easyviz import *\n",
    "from scitools.all import *\n",
    "import glob, os\n",
    "\n",
    "\"\"\" delete all the pictures if created ever \"\"\"\n",
    "for filename in glob.glob('tmp*.eps'):\n",
    "    os.remove(filename)\n",
    "\n",
    "p1, p2, p3, p4 = (50 - 30j, 18 +  8j, 12 - 10j, - 14 - 60j )\n",
    "\n",
    "t = np.linspace(0,2*np.pi,1000)\n",
    "\n",
    "\n",
    "for n in range(0,40,5):\n",
    "    p5=n+20j\n",
    "    x, y = elephant(t, p1, p2, p3, p4, p5)\n",
    "    plot(y,-x,'.',hardcopy='tmp/tmp%04d.eps' % n); \n",
    "    \n",
    "movie('tmp/tmp*.eps',encoder='convert', fps=4, quiet=True, output_file='images/elephant.gif')    \n",
    "    "
   ]
  },
  {
   "cell_type": "markdown",
   "metadata": {},
   "source": [
    "<img src=\"images/elephant.gif\" />"
   ]
  },
  {
   "cell_type": "code",
   "execution_count": null,
   "metadata": {},
   "outputs": [],
   "source": []
  },
  {
   "cell_type": "code",
   "execution_count": null,
   "metadata": {},
   "outputs": [],
   "source": []
  },
  {
   "cell_type": "markdown",
   "metadata": {},
   "source": [
    "# Problem of Storage for Radioative Waste\n",
    "For a long time, the United States Atomic Energy Commission (AEC) always handled the radioactive waste by throwing them, sealed with cylindrical cans, into the deep sea about 300 fts (91.44m) deep.\n",
    "The experts quantity this manipulation is *very* safe.\n",
    "\n",
    "The governing equation can be described as follows:<font color=\"red\">\n",
    "    \n",
    "$$m \\frac{d^2 y}{d^{} t^2} = m g - f - c v $$ \n",
    "</font>\n",
    "\n",
    "where $c=0.08$ is drag force, $m=527.436$ pounds ($239.245$ kg) the weight of sealed can, $f=470.327$pound or $2090.735$ Newton.\n",
    "\n",
    "And the sealed can will be broken if the critical falling velocity is $40$ ft/s (or $12.192$ m/s)."
   ]
  },
  {
   "cell_type": "code",
   "execution_count": null,
   "metadata": {},
   "outputs": [],
   "source": [
    "from sympy import Function, dsolve, Eq, Derivative, symbols,pprint,log,solve,Symbol,diff,limit,init_printing\n",
    "init_printing()"
   ]
  },
  {
   "cell_type": "code",
   "execution_count": null,
   "metadata": {},
   "outputs": [],
   "source": [
    "m,g,f,c,t=symbols('m g f c t')\n",
    "\n",
    "m=239.235\n",
    "g=9.8\n",
    "c=0.08\n",
    "f=2090.735\n",
    "\n",
    "y = Function('y')\n",
    "\n",
    "dsolve(m*Derivative(y(t),t,t)-m*g-f-c*Derivative(y(t),t), y(t))"
   ]
  },
  {
   "cell_type": "markdown",
   "metadata": {},
   "source": [
    "By changing the variable:\n",
    " <font color=\"red\">   \n",
    "$$v=\\frac{d y}{d t}$$\n",
    "</font>\n",
    "the equation becomes\n",
    "<font color=\"red\">\n",
    "$$ \\frac{d v}{ d t}+\\frac{c}{m}v=\\frac{m g -f}{m}$$\n",
    "</font>"
   ]
  },
  {
   "cell_type": "code",
   "execution_count": null,
   "metadata": {},
   "outputs": [],
   "source": [
    "v=Function('v')\n",
    "dsolve(Derivative(v(t),t)+c*v(t)/m-(m*g-f)/m) "
   ]
  },
  {
   "cell_type": "markdown",
   "metadata": {},
   "source": [
    "This means the the maximum of the falling speed of sealed can reach the following limit:\n",
    "<font color=\"red\">    \n",
    "$$ \\lim\\limits_{t\\to\\infty}v(t)=3172.1$$\n",
    "</font>"
   ]
  },
  {
   "cell_type": "markdown",
   "metadata": {},
   "source": [
    "This is impossible since the deepest of buttom of sea is only 91.44 m.\n",
    "\n",
    "We also have\n",
    "<font color=\"red\">\n",
    "$$ v \\frac{d v}{ d y}+\\frac{c}{m}v=\\frac{m g -f}{m}$$\n",
    "</font>\n",
    "\n",
    "since<font color=\"red\">\n",
    "$$v=\\frac{d y}{d t}=\\frac{d y}{d v}\\frac{d v}{d t}=\\frac{1}{\\frac{d v}{d y}}\\frac{d v}{d t}\\Longrightarrow \\frac{d v}{d t}=v \\frac{d v}{d y}$$\n",
    "</font>"
   ]
  },
  {
   "cell_type": "code",
   "execution_count": null,
   "metadata": {},
   "outputs": [],
   "source": [
    "y=Symbol('y')\n",
    "v=Function('v')\n",
    "\n",
    "dsolve(v(y)*Derivative(v(y),y)+c*v(y)/m-(m*g-f)/m,v(y))"
   ]
  },
  {
   "cell_type": "markdown",
   "metadata": {},
   "source": [
    "This is not expressed explicitly by sympy.\n",
    "\n",
    "And try another equivalent equation:\n",
    "\n",
    "<font color=\"red\">\n",
    "$$ \\frac{d y}{ d v} =\\frac{m v}{m g -f-c v}=-\\frac{m}{c}\\left[1+\\frac{-m g +f}{m g -f-c v}\\right]$$\n",
    "</font>\n",
    "Solving the last equation gives the result:\n",
    "<font color=\"red\">    \n",
    "$$ \\frac{m}{c^2}\\left[-v c +(f-m g)\\ln\\frac{m g-f-c v}{m g-f}\\right]=91.44$$     \n",
    "</font>"
   ]
  },
  {
   "cell_type": "code",
   "execution_count": null,
   "metadata": {},
   "outputs": [],
   "source": [
    "y=Function('y')\n",
    "v=Symbol('v')\n",
    "\n",
    "ysol=dsolve(diff(y(v),v)+m*(1+(f-m*g)/(m*g-f-c*v))/c,y(v));ysol"
   ]
  },
  {
   "cell_type": "code",
   "execution_count": null,
   "metadata": {},
   "outputs": [],
   "source": [
    "yrhs=ysol.rhs\n",
    "yrhs.subs({v:0})"
   ]
  },
  {
   "cell_type": "code",
   "execution_count": null,
   "metadata": {},
   "outputs": [],
   "source": [
    "C1=Symbol('C')\n",
    "v=0\n",
    "CC=solve(C1 - 2990.4375*v - 9485966.79375*log(-0.08*v + 253.768),C1)"
   ]
  },
  {
   "cell_type": "markdown",
   "metadata": {},
   "source": [
    "However, the deepness will reach 70.22187 which velocity reaches to 12.192; i.e this implies the velocity would **execeed** the maximum while it reach the buttom of sea."
   ]
  },
  {
   "cell_type": "code",
   "execution_count": null,
   "metadata": {},
   "outputs": [],
   "source": [
    "CC"
   ]
  },
  {
   "cell_type": "code",
   "execution_count": null,
   "metadata": {},
   "outputs": [],
   "source": [
    "y(v)"
   ]
  },
  {
   "cell_type": "code",
   "execution_count": null,
   "metadata": {},
   "outputs": [],
   "source": []
  }
 ],
 "metadata": {
  "kernelspec": {
   "display_name": "Python 3",
   "language": "python",
   "name": "python3"
  },
  "language_info": {
   "codemirror_mode": {
    "name": "ipython",
    "version": 3
   },
   "file_extension": ".py",
   "mimetype": "text/x-python",
   "name": "python",
   "nbconvert_exporter": "python",
   "pygments_lexer": "ipython3",
   "version": "3.6.5"
  },
  "toc": {
   "colors": {
    "hover_highlight": "#DAA520",
    "navigate_num": "#000000",
    "navigate_text": "#333333",
    "running_highlight": "#FF0000",
    "selected_highlight": "#FFD700",
    "sidebar_border": "#EEEEEE",
    "wrapper_background": "#FFFFFF"
   },
   "moveMenuLeft": true,
   "nav_menu": {
    "height": "426px",
    "width": "252px"
   },
   "navigate_menu": true,
   "number_sections": true,
   "sideBar": true,
   "threshold": 4,
   "toc_cell": false,
   "toc_section_display": "block",
   "toc_window_display": false,
   "widenNotebook": false
  }
 },
 "nbformat": 4,
 "nbformat_minor": 1
}
